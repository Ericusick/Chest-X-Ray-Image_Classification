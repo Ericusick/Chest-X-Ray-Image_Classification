{
 "cells": [
  {
   "cell_type": "markdown",
   "metadata": {},
   "source": [
    "## Introduction"
   ]
  },
  {
   "cell_type": "markdown",
   "metadata": {},
   "source": [
    "Pneumonia is an inflammatory disease that affects the air sacs withing the lungs. Typically the air sacs is filled up with fluid causing symptoms such as coughing, fever, and difficulty breathing. The disease is most commonly transmitted by airborne droplets. A hospital reach out to a team of data scientists, task with creating an accurate image classification neural network that will identify the patient's x-ray whether or not that person has pneumonia."
   ]
  },
  {
   "cell_type": "markdown",
   "metadata": {},
   "source": [
    "## Importing Libraries and Loading Images"
   ]
  },
  {
   "cell_type": "markdown",
   "metadata": {},
   "source": [
    "### Libraries"
   ]
  },
  {
   "cell_type": "code",
   "execution_count": 1,
   "metadata": {},
   "outputs": [],
   "source": [
    "#Import necessary libraries\n",
    "import numpy as np\n",
    "import matplotlib.pyplot as plt\n",
    "import seaborn as sns\n",
    "sns.set_style(\"darkgrid\")\n",
    "from sklearn.model_selection import train_test_split\n",
    "import keras\n",
    "from keras import models\n",
    "from keras import layers\n",
    "from keras import optimizers\n",
    "from keras.layers import Dense, Conv2D, Flatten\n",
    "from keras.preprocessing.image import ImageDataGenerator, array_to_img, img_to_array, load_img\n",
    "from sklearn.model_selection import GridSearchCV\n",
    "from keras.wrappers.scikit_learn import KerasClassifier\n",
    "from keras.utils import to_categorical\n",
    "import os"
   ]
  },
  {
   "cell_type": "markdown",
   "metadata": {},
   "source": [
    "### Load Images"
   ]
  },
  {
   "cell_type": "code",
   "execution_count": 2,
   "metadata": {},
   "outputs": [],
   "source": [
    "#Directory path\n",
    "train_data_dir = 'chest_xray/train/'\n",
    "test_data_dir = 'chest_xray/test/'\n",
    "val_data_dir = 'chest_xray/val/'"
   ]
  },
  {
   "cell_type": "code",
   "execution_count": 3,
   "metadata": {},
   "outputs": [
    {
     "name": "stdout",
     "output_type": "stream",
     "text": [
      "Found 5216 images belonging to 2 classes.\n",
      "Found 624 images belonging to 2 classes.\n",
      "Found 16 images belonging to 2 classes.\n"
     ]
    }
   ],
   "source": [
    "#Get all the data in each generator and reshaping the images\n",
    "train_generator = ImageDataGenerator(rescale = 1./255).flow_from_directory(\n",
    "        train_data_dir, \n",
    "        target_size=(128, 128), \n",
    "        color_mode = 'grayscale', \n",
    "        batch_size=200)\n",
    "\n",
    "test_generator = ImageDataGenerator(rescale = 1./255).flow_from_directory(\n",
    "        test_data_dir, \n",
    "        target_size=(128, 128), \n",
    "        color_mode = 'grayscale', \n",
    "        batch_size=200)\n",
    "\n",
    "val_generator = ImageDataGenerator(rescale = 1./255).flow_from_directory(\n",
    "        val_data_dir, \n",
    "        target_size=(128, 128), \n",
    "        color_mode = 'grayscale',\n",
    "        batch_size=16)"
   ]
  },
  {
   "cell_type": "code",
   "execution_count": 4,
   "metadata": {},
   "outputs": [],
   "source": [
    "#Create the datasets\n",
    "train_images, train_labels = next(train_generator)\n",
    "test_images, test_labels = next(test_generator)\n",
    "val_images, val_labels = next(val_generator)"
   ]
  },
  {
   "cell_type": "markdown",
   "metadata": {},
   "source": [
    "### Previewing Images"
   ]
  },
  {
   "cell_type": "code",
   "execution_count": 5,
   "metadata": {},
   "outputs": [
    {
     "data": {
      "image/png": "[encoded data removed]",
      "text/plain": [
       "<PIL.Image.Image image mode=L size=128x128 at 0x2174D32BD30>"
      ]
     },
     "execution_count": 5,
     "metadata": {},
     "output_type": "execute_result"
    }
   ],
   "source": [
    "array_to_img(train_images[10])"
   ]
  },
  {
   "cell_type": "code",
   "execution_count": 6,
   "metadata": {},
   "outputs": [
    {
     "data": {
      "image/png": "[encoded data removed]",
      "text/plain": [
       "<PIL.Image.Image image mode=L size=128x128 at 0x2174D32B790>"
      ]
     },
     "execution_count": 6,
     "metadata": {},
     "output_type": "execute_result"
    }
   ],
   "source": [
    "array_to_img(train_images[22])"
   ]
  },
  {
   "cell_type": "markdown",
   "metadata": {},
   "source": [
    "## Images and Labels"
   ]
  },
  {
   "cell_type": "markdown",
   "metadata": {},
   "source": [
    "### EDA of the Dataset"
   ]
  },
  {
   "cell_type": "code",
   "execution_count": 7,
   "metadata": {},
   "outputs": [
    {
     "name": "stdout",
     "output_type": "stream",
     "text": [
      "Number of training samples: 200\n",
      "Number of testing samples: 200\n",
      "Number of validation samples: 16\n",
      "train_images shape: (200, 128, 128, 1)\n",
      "train_labels shape: (200, 2)\n",
      "test_images shape: (200, 128, 128, 1)\n",
      "test_labels shape: (200, 2)\n",
      "val_images shape: (16, 128, 128, 1)\n",
      "val_labels shape: (16, 2)\n"
     ]
    }
   ],
   "source": [
    "#Exploring the data set\n",
    "train_ex = train_images.shape[0]\n",
    "num_px = train_images.shape[1]\n",
    "test_ex = test_images.shape[0]\n",
    "val_ex = val_images.shape[0]\n",
    "\n",
    "print (\"Number of training samples: \" + str(train_ex))\n",
    "print (\"Number of testing samples: \" + str(test_ex))\n",
    "print (\"Number of validation samples: \" + str(val_ex))\n",
    "print (\"train_images shape: \" + str(train_images.shape))\n",
    "print (\"train_labels shape: \" + str(train_labels.shape))\n",
    "print (\"test_images shape: \" + str(test_images.shape))\n",
    "print (\"test_labels shape: \" + str(test_labels.shape))\n",
    "print (\"val_images shape: \" + str(val_images.shape))\n",
    "print (\"val_labels shape: \" + str(val_labels.shape))"
   ]
  },
  {
   "cell_type": "markdown",
   "metadata": {},
   "source": [
    "### Images"
   ]
  },
  {
   "cell_type": "code",
   "execution_count": 8,
   "metadata": {},
   "outputs": [],
   "source": [
    "#Reshaping the images\n",
    "train_img = train_images.reshape(train_images.shape[0], -1)\n",
    "test_img = test_images.reshape(test_images.shape[0], -1)\n",
    "val_img = val_images.reshape(val_images.shape[0], -1)"
   ]
  },
  {
   "cell_type": "code",
   "execution_count": 9,
   "metadata": {},
   "outputs": [
    {
     "name": "stdout",
     "output_type": "stream",
     "text": [
      "Train Images: (200, 16384)\n",
      "Test Images: (200, 16384)\n",
      "Validation Images: (16, 16384)\n"
     ]
    }
   ],
   "source": [
    "#Previewing the shape of images\n",
    "print('Train Images:',np.shape(train_img))\n",
    "print('Test Images:',np.shape(test_img))\n",
    "print('Validation Images:',np.shape(val_img))"
   ]
  },
  {
   "cell_type": "markdown",
   "metadata": {},
   "source": [
    "### Labels"
   ]
  },
  {
   "cell_type": "code",
   "execution_count": 10,
   "metadata": {
    "scrolled": true
   },
   "outputs": [
    {
     "data": {
      "text/plain": [
       "array([[0., 1.],\n",
       "       [0., 1.],\n",
       "       [1., 0.],\n",
       "       [0., 1.],\n",
       "       [1., 0.],\n",
       "       [1., 0.],\n",
       "       [0., 1.],\n",
       "       [0., 1.],\n",
       "       [0., 1.],\n",
       "       [0., 1.],\n",
       "       [1., 0.],\n",
       "       [0., 1.],\n",
       "       [0., 1.],\n",
       "       [0., 1.],\n",
       "       [0., 1.],\n",
       "       [0., 1.],\n",
       "       [0., 1.],\n",
       "       [0., 1.],\n",
       "       [0., 1.],\n",
       "       [0., 1.],\n",
       "       [0., 1.],\n",
       "       [0., 1.],\n",
       "       [0., 1.],\n",
       "       [0., 1.],\n",
       "       [0., 1.],\n",
       "       [0., 1.],\n",
       "       [0., 1.],\n",
       "       [0., 1.],\n",
       "       [0., 1.],\n",
       "       [0., 1.],\n",
       "       [0., 1.],\n",
       "       [0., 1.],\n",
       "       [0., 1.],\n",
       "       [0., 1.],\n",
       "       [0., 1.],\n",
       "       [0., 1.],\n",
       "       [0., 1.],\n",
       "       [0., 1.],\n",
       "       [1., 0.],\n",
       "       [0., 1.],\n",
       "       [1., 0.],\n",
       "       [0., 1.],\n",
       "       [0., 1.],\n",
       "       [1., 0.],\n",
       "       [1., 0.],\n",
       "       [0., 1.],\n",
       "       [0., 1.],\n",
       "       [1., 0.],\n",
       "       [1., 0.],\n",
       "       [0., 1.],\n",
       "       [0., 1.],\n",
       "       [0., 1.],\n",
       "       [0., 1.],\n",
       "       [0., 1.],\n",
       "       [0., 1.],\n",
       "       [0., 1.],\n",
       "       [0., 1.],\n",
       "       [0., 1.],\n",
       "       [1., 0.],\n",
       "       [0., 1.],\n",
       "       [0., 1.],\n",
       "       [1., 0.],\n",
       "       [0., 1.],\n",
       "       [0., 1.],\n",
       "       [0., 1.],\n",
       "       [0., 1.],\n",
       "       [1., 0.],\n",
       "       [0., 1.],\n",
       "       [0., 1.],\n",
       "       [0., 1.],\n",
       "       [0., 1.],\n",
       "       [0., 1.],\n",
       "       [0., 1.],\n",
       "       [0., 1.],\n",
       "       [1., 0.],\n",
       "       [1., 0.],\n",
       "       [0., 1.],\n",
       "       [0., 1.],\n",
       "       [1., 0.],\n",
       "       [0., 1.],\n",
       "       [1., 0.],\n",
       "       [0., 1.],\n",
       "       [1., 0.],\n",
       "       [1., 0.],\n",
       "       [0., 1.],\n",
       "       [0., 1.],\n",
       "       [0., 1.],\n",
       "       [0., 1.],\n",
       "       [0., 1.],\n",
       "       [1., 0.],\n",
       "       [0., 1.],\n",
       "       [0., 1.],\n",
       "       [0., 1.],\n",
       "       [0., 1.],\n",
       "       [0., 1.],\n",
       "       [0., 1.],\n",
       "       [0., 1.],\n",
       "       [0., 1.],\n",
       "       [0., 1.],\n",
       "       [0., 1.],\n",
       "       [0., 1.],\n",
       "       [0., 1.],\n",
       "       [1., 0.],\n",
       "       [1., 0.],\n",
       "       [0., 1.],\n",
       "       [0., 1.],\n",
       "       [0., 1.],\n",
       "       [0., 1.],\n",
       "       [0., 1.],\n",
       "       [1., 0.],\n",
       "       [0., 1.],\n",
       "       [0., 1.],\n",
       "       [0., 1.],\n",
       "       [1., 0.],\n",
       "       [0., 1.],\n",
       "       [0., 1.],\n",
       "       [0., 1.],\n",
       "       [0., 1.],\n",
       "       [0., 1.],\n",
       "       [0., 1.],\n",
       "       [0., 1.],\n",
       "       [1., 0.],\n",
       "       [0., 1.],\n",
       "       [0., 1.],\n",
       "       [0., 1.],\n",
       "       [0., 1.],\n",
       "       [1., 0.],\n",
       "       [0., 1.],\n",
       "       [1., 0.],\n",
       "       [0., 1.],\n",
       "       [0., 1.],\n",
       "       [0., 1.],\n",
       "       [0., 1.],\n",
       "       [0., 1.],\n",
       "       [0., 1.],\n",
       "       [1., 0.],\n",
       "       [0., 1.],\n",
       "       [0., 1.],\n",
       "       [0., 1.],\n",
       "       [0., 1.],\n",
       "       [0., 1.],\n",
       "       [0., 1.],\n",
       "       [0., 1.],\n",
       "       [0., 1.],\n",
       "       [1., 0.],\n",
       "       [0., 1.],\n",
       "       [0., 1.],\n",
       "       [0., 1.],\n",
       "       [1., 0.],\n",
       "       [1., 0.],\n",
       "       [0., 1.],\n",
       "       [0., 1.],\n",
       "       [0., 1.],\n",
       "       [0., 1.],\n",
       "       [0., 1.],\n",
       "       [0., 1.],\n",
       "       [0., 1.],\n",
       "       [0., 1.],\n",
       "       [0., 1.],\n",
       "       [0., 1.],\n",
       "       [0., 1.],\n",
       "       [0., 1.],\n",
       "       [0., 1.],\n",
       "       [0., 1.],\n",
       "       [0., 1.],\n",
       "       [1., 0.],\n",
       "       [0., 1.],\n",
       "       [0., 1.],\n",
       "       [1., 0.],\n",
       "       [1., 0.],\n",
       "       [1., 0.],\n",
       "       [1., 0.],\n",
       "       [0., 1.],\n",
       "       [0., 1.],\n",
       "       [1., 0.],\n",
       "       [1., 0.],\n",
       "       [0., 1.],\n",
       "       [0., 1.],\n",
       "       [1., 0.],\n",
       "       [0., 1.],\n",
       "       [1., 0.],\n",
       "       [1., 0.],\n",
       "       [0., 1.],\n",
       "       [0., 1.],\n",
       "       [0., 1.],\n",
       "       [0., 1.],\n",
       "       [0., 1.],\n",
       "       [0., 1.],\n",
       "       [0., 1.],\n",
       "       [0., 1.],\n",
       "       [0., 1.],\n",
       "       [0., 1.],\n",
       "       [0., 1.],\n",
       "       [0., 1.],\n",
       "       [1., 0.],\n",
       "       [0., 1.],\n",
       "       [0., 1.],\n",
       "       [0., 1.],\n",
       "       [0., 1.],\n",
       "       [0., 1.]], dtype=float32)"
      ]
     },
     "execution_count": 10,
     "metadata": {},
     "output_type": "execute_result"
    }
   ],
   "source": [
    "#Taking a look at the array of the train_labels\n",
    "train_labels"
   ]
  },
  {
   "cell_type": "code",
   "execution_count": 11,
   "metadata": {},
   "outputs": [
    {
     "data": {
      "text/plain": [
       "{'NORMAL': 0, 'PNEUMONIA': 1}"
      ]
     },
     "execution_count": 11,
     "metadata": {},
     "output_type": "execute_result"
    }
   ],
   "source": [
    "#Looking at the binary assignment of the cases\n",
    "train_generator.class_indices"
   ]
  },
  {
   "cell_type": "code",
   "execution_count": 12,
   "metadata": {},
   "outputs": [],
   "source": [
    "#Reshaping the labels\n",
    "train_label = np.reshape(train_labels[:, 0], (200,1))\n",
    "test_label = np.reshape(test_labels[:, 0], (200,1))\n",
    "val_label = np.reshape(val_labels[:, 0], (16,1))"
   ]
  },
  {
   "cell_type": "code",
   "execution_count": 13,
   "metadata": {},
   "outputs": [
    {
     "name": "stdout",
     "output_type": "stream",
     "text": [
      "Train Labels: (200, 1)\n",
      "Test Labels: (200, 1)\n",
      "Validation Labels: (16, 1)\n"
     ]
    }
   ],
   "source": [
    "#Printing the shapes to check \n",
    "print('Train Labels:',np.shape(train_label))\n",
    "print('Test Labels:',np.shape(test_label))\n",
    "print('Validation Labels:',np.shape(val_label))"
   ]
  },
  {
   "cell_type": "markdown",
   "metadata": {},
   "source": [
    "## Baseline Model"
   ]
  },
  {
   "cell_type": "markdown",
   "metadata": {},
   "source": [
    "### Model"
   ]
  },
  {
   "cell_type": "code",
   "execution_count": 14,
   "metadata": {},
   "outputs": [],
   "source": [
    "#Build a baseline fully connected model\n",
    "np.random.seed(42)\n",
    "model = models.Sequential()\n",
    "model.add(layers.Dense(8, activation='relu', input_shape=(16384, )))\n",
    "model.add(layers.Dense(1, activation='sigmoid'))"
   ]
  },
  {
   "cell_type": "code",
   "execution_count": 15,
   "metadata": {},
   "outputs": [
    {
     "name": "stdout",
     "output_type": "stream",
     "text": [
      "Model: \"sequential\"\n",
      "_________________________________________________________________\n",
      "Layer (type)                 Output Shape              Param #   \n",
      "=================================================================\n",
      "dense (Dense)                (None, 8)                 131080    \n",
      "_________________________________________________________________\n",
      "dense_1 (Dense)              (None, 1)                 9         \n",
      "=================================================================\n",
      "Total params: 131,089\n",
      "Trainable params: 131,089\n",
      "Non-trainable params: 0\n",
      "_________________________________________________________________\n"
     ]
    }
   ],
   "source": [
    "model.summary()"
   ]
  },
  {
   "cell_type": "code",
   "execution_count": 16,
   "metadata": {},
   "outputs": [],
   "source": [
    "#Creating a Compile\n",
    "model.compile(optimizer='sgd',\n",
    "              loss='binary_crossentropy',\n",
    "              metrics=['accuracy'])"
   ]
  },
  {
   "cell_type": "code",
   "execution_count": 17,
   "metadata": {
    "scrolled": true
   },
   "outputs": [
    {
     "name": "stdout",
     "output_type": "stream",
     "text": [
      "Epoch 1/100\n",
      "3/3 [==============================] - 0s 48ms/step - loss: 0.5653 - accuracy: 0.7550 - val_loss: 0.9140 - val_accuracy: 0.5000\n",
      "Epoch 2/100\n",
      "3/3 [==============================] - 0s 8ms/step - loss: 0.5111 - accuracy: 0.7900 - val_loss: 0.8677 - val_accuracy: 0.5000\n",
      "Epoch 3/100\n",
      "3/3 [==============================] - 0s 8ms/step - loss: 0.5021 - accuracy: 0.7900 - val_loss: 0.8984 - val_accuracy: 0.5000\n",
      "Epoch 4/100\n",
      "3/3 [==============================] - 0s 8ms/step - loss: 0.5124 - accuracy: 0.7900 - val_loss: 0.8390 - val_accuracy: 0.5000\n",
      "Epoch 5/100\n",
      "3/3 [==============================] - 0s 8ms/step - loss: 0.4973 - accuracy: 0.7900 - val_loss: 0.9047 - val_accuracy: 0.5000\n",
      "Epoch 6/100\n",
      "3/3 [==============================] - 0s 9ms/step - loss: 0.4926 - accuracy: 0.7900 - val_loss: 0.8898 - val_accuracy: 0.5000\n",
      "Epoch 7/100\n",
      "3/3 [==============================] - 0s 9ms/step - loss: 0.4904 - accuracy: 0.7900 - val_loss: 0.9224 - val_accuracy: 0.5000\n",
      "Epoch 8/100\n",
      "3/3 [==============================] - 0s 10ms/step - loss: 0.4860 - accuracy: 0.7900 - val_loss: 0.9179 - val_accuracy: 0.5000\n",
      "Epoch 9/100\n",
      "3/3 [==============================] - 0s 9ms/step - loss: 0.4833 - accuracy: 0.7900 - val_loss: 0.7828 - val_accuracy: 0.5000\n",
      "Epoch 10/100\n",
      "3/3 [==============================] - 0s 9ms/step - loss: 0.4773 - accuracy: 0.7900 - val_loss: 0.9022 - val_accuracy: 0.5000\n",
      "Epoch 11/100\n",
      "3/3 [==============================] - 0s 9ms/step - loss: 0.4733 - accuracy: 0.7900 - val_loss: 0.8305 - val_accuracy: 0.5000\n",
      "Epoch 12/100\n",
      "3/3 [==============================] - 0s 9ms/step - loss: 0.4703 - accuracy: 0.7900 - val_loss: 0.7532 - val_accuracy: 0.5000\n",
      "Epoch 13/100\n",
      "3/3 [==============================] - 0s 8ms/step - loss: 0.4696 - accuracy: 0.7900 - val_loss: 0.7746 - val_accuracy: 0.5000\n",
      "Epoch 14/100\n",
      "3/3 [==============================] - 0s 8ms/step - loss: 0.4573 - accuracy: 0.7900 - val_loss: 0.8763 - val_accuracy: 0.5000\n",
      "Epoch 15/100\n",
      "3/3 [==============================] - 0s 8ms/step - loss: 0.4618 - accuracy: 0.7900 - val_loss: 0.9370 - val_accuracy: 0.5000\n",
      "Epoch 16/100\n",
      "3/3 [==============================] - 0s 8ms/step - loss: 0.4572 - accuracy: 0.7900 - val_loss: 0.9453 - val_accuracy: 0.5000\n",
      "Epoch 17/100\n",
      "3/3 [==============================] - 0s 8ms/step - loss: 0.4489 - accuracy: 0.7900 - val_loss: 0.8593 - val_accuracy: 0.5000\n",
      "Epoch 18/100\n",
      "3/3 [==============================] - 0s 7ms/step - loss: 0.4405 - accuracy: 0.7900 - val_loss: 0.9310 - val_accuracy: 0.5000\n",
      "Epoch 19/100\n",
      "3/3 [==============================] - 0s 8ms/step - loss: 0.4357 - accuracy: 0.7900 - val_loss: 0.6963 - val_accuracy: 0.5000\n",
      "Epoch 20/100\n",
      "3/3 [==============================] - 0s 8ms/step - loss: 0.4525 - accuracy: 0.7900 - val_loss: 0.8958 - val_accuracy: 0.5000\n",
      "Epoch 21/100\n",
      "3/3 [==============================] - 0s 9ms/step - loss: 0.4282 - accuracy: 0.7900 - val_loss: 0.8624 - val_accuracy: 0.5000\n",
      "Epoch 22/100\n",
      "3/3 [==============================] - 0s 9ms/step - loss: 0.4205 - accuracy: 0.7900 - val_loss: 0.8720 - val_accuracy: 0.5000\n",
      "Epoch 23/100\n",
      "3/3 [==============================] - 0s 8ms/step - loss: 0.4139 - accuracy: 0.7900 - val_loss: 0.7993 - val_accuracy: 0.5000\n",
      "Epoch 24/100\n",
      "3/3 [==============================] - 0s 8ms/step - loss: 0.4091 - accuracy: 0.7900 - val_loss: 0.8168 - val_accuracy: 0.5000\n",
      "Epoch 25/100\n",
      "3/3 [==============================] - 0s 8ms/step - loss: 0.4248 - accuracy: 0.7900 - val_loss: 0.8571 - val_accuracy: 0.5000\n",
      "Epoch 26/100\n",
      "3/3 [==============================] - 0s 8ms/step - loss: 0.3963 - accuracy: 0.7900 - val_loss: 0.6830 - val_accuracy: 0.5000\n",
      "Epoch 27/100\n",
      "3/3 [==============================] - 0s 9ms/step - loss: 0.3993 - accuracy: 0.7900 - val_loss: 0.7215 - val_accuracy: 0.5000\n",
      "Epoch 28/100\n",
      "3/3 [==============================] - 0s 8ms/step - loss: 0.3909 - accuracy: 0.7900 - val_loss: 0.6472 - val_accuracy: 0.5000\n",
      "Epoch 29/100\n",
      "3/3 [==============================] - 0s 9ms/step - loss: 0.3867 - accuracy: 0.7900 - val_loss: 0.8214 - val_accuracy: 0.5000\n",
      "Epoch 30/100\n",
      "3/3 [==============================] - 0s 8ms/step - loss: 0.3752 - accuracy: 0.7900 - val_loss: 0.7991 - val_accuracy: 0.5000\n",
      "Epoch 31/100\n",
      "3/3 [==============================] - 0s 8ms/step - loss: 0.3819 - accuracy: 0.7900 - val_loss: 1.0138 - val_accuracy: 0.5000\n",
      "Epoch 32/100\n",
      "3/3 [==============================] - 0s 8ms/step - loss: 0.3930 - accuracy: 0.7900 - val_loss: 0.7551 - val_accuracy: 0.5000\n",
      "Epoch 33/100\n",
      "3/3 [==============================] - 0s 8ms/step - loss: 0.3596 - accuracy: 0.7900 - val_loss: 0.9454 - val_accuracy: 0.5000\n",
      "Epoch 34/100\n",
      "3/3 [==============================] - 0s 9ms/step - loss: 0.3736 - accuracy: 0.7900 - val_loss: 0.6194 - val_accuracy: 0.5000\n",
      "Epoch 35/100\n",
      "3/3 [==============================] - 0s 8ms/step - loss: 0.4216 - accuracy: 0.7900 - val_loss: 0.7883 - val_accuracy: 0.5000\n",
      "Epoch 36/100\n",
      "3/3 [==============================] - 0s 8ms/step - loss: 0.3572 - accuracy: 0.7900 - val_loss: 0.7241 - val_accuracy: 0.5000\n",
      "Epoch 37/100\n",
      "3/3 [==============================] - 0s 9ms/step - loss: 0.3440 - accuracy: 0.7900 - val_loss: 0.8107 - val_accuracy: 0.5000\n",
      "Epoch 38/100\n",
      "3/3 [==============================] - 0s 10ms/step - loss: 0.3417 - accuracy: 0.7900 - val_loss: 0.6124 - val_accuracy: 0.5625\n",
      "Epoch 39/100\n",
      "3/3 [==============================] - 0s 9ms/step - loss: 0.3366 - accuracy: 0.8200 - val_loss: 0.8983 - val_accuracy: 0.5000\n",
      "Epoch 40/100\n",
      "3/3 [==============================] - 0s 9ms/step - loss: 0.3376 - accuracy: 0.8100 - val_loss: 0.7123 - val_accuracy: 0.5000\n",
      "Epoch 41/100\n",
      "3/3 [==============================] - 0s 8ms/step - loss: 0.3338 - accuracy: 0.8250 - val_loss: 0.6363 - val_accuracy: 0.5625\n",
      "Epoch 42/100\n",
      "3/3 [==============================] - 0s 8ms/step - loss: 0.3422 - accuracy: 0.8350 - val_loss: 0.7159 - val_accuracy: 0.5000\n",
      "Epoch 43/100\n",
      "3/3 [==============================] - 0s 7ms/step - loss: 0.3230 - accuracy: 0.8350 - val_loss: 0.8867 - val_accuracy: 0.5000\n",
      "Epoch 44/100\n",
      "3/3 [==============================] - 0s 8ms/step - loss: 0.3360 - accuracy: 0.8100 - val_loss: 0.5953 - val_accuracy: 0.6875\n",
      "Epoch 45/100\n",
      "3/3 [==============================] - 0s 8ms/step - loss: 0.3973 - accuracy: 0.8500 - val_loss: 0.7140 - val_accuracy: 0.5000\n",
      "Epoch 46/100\n",
      "3/3 [==============================] - 0s 9ms/step - loss: 0.3156 - accuracy: 0.8350 - val_loss: 0.6382 - val_accuracy: 0.6250\n",
      "Epoch 47/100\n",
      "3/3 [==============================] - 0s 8ms/step - loss: 0.3247 - accuracy: 0.8600 - val_loss: 0.9891 - val_accuracy: 0.5000\n",
      "Epoch 48/100\n",
      "3/3 [==============================] - 0s 8ms/step - loss: 0.3144 - accuracy: 0.8450 - val_loss: 0.6622 - val_accuracy: 0.5625\n",
      "Epoch 49/100\n",
      "3/3 [==============================] - 0s 8ms/step - loss: 0.3142 - accuracy: 0.8650 - val_loss: 0.7474 - val_accuracy: 0.5625\n",
      "Epoch 50/100\n",
      "3/3 [==============================] - 0s 7ms/step - loss: 0.3220 - accuracy: 0.8600 - val_loss: 0.9043 - val_accuracy: 0.5000\n",
      "Epoch 51/100\n",
      "3/3 [==============================] - 0s 8ms/step - loss: 0.3073 - accuracy: 0.8550 - val_loss: 0.9928 - val_accuracy: 0.5000\n",
      "Epoch 52/100\n",
      "3/3 [==============================] - 0s 10ms/step - loss: 0.3624 - accuracy: 0.8400 - val_loss: 0.6276 - val_accuracy: 0.6250\n",
      "Epoch 53/100\n",
      "3/3 [==============================] - 0s 8ms/step - loss: 0.3076 - accuracy: 0.8750 - val_loss: 0.6008 - val_accuracy: 0.7500\n",
      "Epoch 54/100\n",
      "3/3 [==============================] - 0s 8ms/step - loss: 0.3327 - accuracy: 0.8800 - val_loss: 0.7974 - val_accuracy: 0.5625\n",
      "Epoch 55/100\n",
      "3/3 [==============================] - 0s 8ms/step - loss: 0.3013 - accuracy: 0.8650 - val_loss: 0.7684 - val_accuracy: 0.5625\n",
      "Epoch 56/100\n",
      "3/3 [==============================] - 0s 10ms/step - loss: 0.2925 - accuracy: 0.8700 - val_loss: 0.9138 - val_accuracy: 0.5000\n",
      "Epoch 57/100\n",
      "3/3 [==============================] - 0s 7ms/step - loss: 0.3071 - accuracy: 0.8700 - val_loss: 0.6248 - val_accuracy: 0.6250\n",
      "Epoch 58/100\n",
      "3/3 [==============================] - 0s 8ms/step - loss: 0.2970 - accuracy: 0.9000 - val_loss: 0.6383 - val_accuracy: 0.6250\n",
      "Epoch 59/100\n",
      "3/3 [==============================] - 0s 8ms/step - loss: 0.3066 - accuracy: 0.8900 - val_loss: 1.0100 - val_accuracy: 0.5000\n",
      "Epoch 60/100\n",
      "3/3 [==============================] - 0s 8ms/step - loss: 0.3049 - accuracy: 0.8700 - val_loss: 0.8386 - val_accuracy: 0.5625\n",
      "Epoch 61/100\n",
      "3/3 [==============================] - 0s 8ms/step - loss: 0.2821 - accuracy: 0.8750 - val_loss: 0.8164 - val_accuracy: 0.5625\n",
      "Epoch 62/100\n",
      "3/3 [==============================] - 0s 8ms/step - loss: 0.3326 - accuracy: 0.8800 - val_loss: 0.7373 - val_accuracy: 0.5625\n",
      "Epoch 63/100\n",
      "3/3 [==============================] - 0s 8ms/step - loss: 0.2978 - accuracy: 0.8800 - val_loss: 1.1872 - val_accuracy: 0.5000\n",
      "Epoch 64/100\n",
      "3/3 [==============================] - 0s 8ms/step - loss: 0.4127 - accuracy: 0.8300 - val_loss: 0.5807 - val_accuracy: 0.8125\n",
      "Epoch 65/100\n",
      "3/3 [==============================] - 0s 7ms/step - loss: 0.3086 - accuracy: 0.8950 - val_loss: 0.9304 - val_accuracy: 0.5625\n",
      "Epoch 66/100\n",
      "3/3 [==============================] - 0s 8ms/step - loss: 0.3008 - accuracy: 0.8700 - val_loss: 0.5795 - val_accuracy: 0.8750\n",
      "Epoch 67/100\n",
      "3/3 [==============================] - 0s 8ms/step - loss: 0.3266 - accuracy: 0.8950 - val_loss: 0.7998 - val_accuracy: 0.5625\n",
      "Epoch 68/100\n",
      "3/3 [==============================] - 0s 8ms/step - loss: 0.2802 - accuracy: 0.8800 - val_loss: 0.6102 - val_accuracy: 0.6875\n",
      "Epoch 69/100\n",
      "3/3 [==============================] - 0s 9ms/step - loss: 0.3275 - accuracy: 0.9000 - val_loss: 1.0724 - val_accuracy: 0.5000\n",
      "Epoch 70/100\n",
      "3/3 [==============================] - 0s 9ms/step - loss: 0.2937 - accuracy: 0.8650 - val_loss: 0.5755 - val_accuracy: 0.8125\n",
      "Epoch 71/100\n",
      "3/3 [==============================] - 0s 9ms/step - loss: 0.3525 - accuracy: 0.9050 - val_loss: 0.8660 - val_accuracy: 0.5625\n",
      "Epoch 72/100\n",
      "3/3 [==============================] - 0s 9ms/step - loss: 0.2921 - accuracy: 0.8700 - val_loss: 0.6188 - val_accuracy: 0.6875\n",
      "Epoch 73/100\n",
      "3/3 [==============================] - 0s 8ms/step - loss: 0.2763 - accuracy: 0.9150 - val_loss: 1.0008 - val_accuracy: 0.5625\n",
      "Epoch 74/100\n",
      "3/3 [==============================] - 0s 8ms/step - loss: 0.3124 - accuracy: 0.8900 - val_loss: 0.7201 - val_accuracy: 0.5625\n",
      "Epoch 75/100\n",
      "3/3 [==============================] - 0s 8ms/step - loss: 0.2748 - accuracy: 0.9000 - val_loss: 0.7122 - val_accuracy: 0.6250\n",
      "Epoch 76/100\n",
      "3/3 [==============================] - 0s 10ms/step - loss: 0.2652 - accuracy: 0.9250 - val_loss: 0.9006 - val_accuracy: 0.5625\n",
      "Epoch 77/100\n",
      "3/3 [==============================] - 0s 7ms/step - loss: 0.2650 - accuracy: 0.9100 - val_loss: 0.9315 - val_accuracy: 0.5625\n",
      "Epoch 78/100\n",
      "3/3 [==============================] - 0s 12ms/step - loss: 0.2658 - accuracy: 0.9050 - val_loss: 1.0385 - val_accuracy: 0.5625\n",
      "Epoch 79/100\n",
      "3/3 [==============================] - 0s 8ms/step - loss: 0.2826 - accuracy: 0.8550 - val_loss: 0.5937 - val_accuracy: 0.8125\n",
      "Epoch 80/100\n",
      "3/3 [==============================] - 0s 8ms/step - loss: 0.3031 - accuracy: 0.8950 - val_loss: 0.8949 - val_accuracy: 0.5625\n",
      "Epoch 81/100\n",
      "3/3 [==============================] - 0s 8ms/step - loss: 0.2825 - accuracy: 0.8950 - val_loss: 0.7726 - val_accuracy: 0.5625\n",
      "Epoch 82/100\n",
      "3/3 [==============================] - 0s 8ms/step - loss: 0.2851 - accuracy: 0.8900 - val_loss: 0.5929 - val_accuracy: 0.7500\n",
      "Epoch 83/100\n",
      "3/3 [==============================] - 0s 8ms/step - loss: 0.2763 - accuracy: 0.9200 - val_loss: 1.0278 - val_accuracy: 0.5625\n",
      "Epoch 84/100\n",
      "3/3 [==============================] - 0s 8ms/step - loss: 0.2962 - accuracy: 0.8700 - val_loss: 0.5853 - val_accuracy: 0.8125\n",
      "Epoch 85/100\n",
      "3/3 [==============================] - 0s 8ms/step - loss: 0.2981 - accuracy: 0.8800 - val_loss: 0.5822 - val_accuracy: 0.8750\n",
      "Epoch 86/100\n",
      "3/3 [==============================] - 0s 8ms/step - loss: 0.2627 - accuracy: 0.9200 - val_loss: 0.6683 - val_accuracy: 0.6250\n",
      "Epoch 87/100\n",
      "3/3 [==============================] - 0s 9ms/step - loss: 0.2661 - accuracy: 0.9100 - val_loss: 0.5933 - val_accuracy: 0.8125\n",
      "Epoch 88/100\n",
      "3/3 [==============================] - 0s 8ms/step - loss: 0.3340 - accuracy: 0.8800 - val_loss: 0.9912 - val_accuracy: 0.5625\n",
      "Epoch 89/100\n",
      "3/3 [==============================] - 0s 7ms/step - loss: 0.2689 - accuracy: 0.8900 - val_loss: 0.6792 - val_accuracy: 0.6250\n",
      "Epoch 90/100\n",
      "3/3 [==============================] - 0s 8ms/step - loss: 0.2654 - accuracy: 0.9150 - val_loss: 1.0990 - val_accuracy: 0.5625\n",
      "Epoch 91/100\n",
      "3/3 [==============================] - 0s 8ms/step - loss: 0.3359 - accuracy: 0.8750 - val_loss: 0.6596 - val_accuracy: 0.6250\n",
      "Epoch 92/100\n",
      "3/3 [==============================] - 0s 8ms/step - loss: 0.2436 - accuracy: 0.9300 - val_loss: 0.7237 - val_accuracy: 0.5625\n",
      "Epoch 93/100\n",
      "3/3 [==============================] - 0s 8ms/step - loss: 0.2427 - accuracy: 0.9200 - val_loss: 0.5655 - val_accuracy: 0.8750\n",
      "Epoch 94/100\n",
      "3/3 [==============================] - 0s 8ms/step - loss: 0.2955 - accuracy: 0.9100 - val_loss: 0.7553 - val_accuracy: 0.5625\n",
      "Epoch 95/100\n",
      "3/3 [==============================] - 0s 8ms/step - loss: 0.2456 - accuracy: 0.9350 - val_loss: 1.1388 - val_accuracy: 0.5625\n",
      "Epoch 96/100\n",
      "3/3 [==============================] - 0s 9ms/step - loss: 0.2640 - accuracy: 0.9200 - val_loss: 0.8169 - val_accuracy: 0.5625\n",
      "Epoch 97/100\n",
      "3/3 [==============================] - 0s 8ms/step - loss: 0.2427 - accuracy: 0.9150 - val_loss: 0.6440 - val_accuracy: 0.6875\n",
      "Epoch 98/100\n",
      "3/3 [==============================] - 0s 8ms/step - loss: 0.2372 - accuracy: 0.9450 - val_loss: 0.6995 - val_accuracy: 0.5625\n",
      "Epoch 99/100\n",
      "3/3 [==============================] - 0s 8ms/step - loss: 0.2483 - accuracy: 0.9150 - val_loss: 0.9261 - val_accuracy: 0.5625\n",
      "Epoch 100/100\n",
      "3/3 [==============================] - 0s 9ms/step - loss: 0.2404 - accuracy: 0.9100 - val_loss: 0.7743 - val_accuracy: 0.5625\n"
     ]
    }
   ],
   "source": [
    "#Creating history to see the training process\n",
    "history_bl = model.fit(train_img,\n",
    "                    train_label,\n",
    "                    epochs=100,\n",
    "                    batch_size=80,\n",
    "                    validation_data=(val_img, val_label))"
   ]
  },
  {
   "cell_type": "markdown",
   "metadata": {},
   "source": [
    "### Results"
   ]
  },
  {
   "cell_type": "code",
   "execution_count": 18,
   "metadata": {},
   "outputs": [],
   "source": [
    "#Created a function for simple results of the model\n",
    "def model_results(tr_img, tr_lab, te_img, te_lab):\n",
    "    result_train = model.evaluate(tr_img, tr_lab)\n",
    "    results_test = model.evaluate(te_img, te_lab)\n",
    "    print(result_train)\n",
    "    print(results_test)"
   ]
  },
  {
   "cell_type": "code",
   "execution_count": 19,
   "metadata": {},
   "outputs": [],
   "source": [
    "#Created a function that will spit out graphs consistently for each models\n",
    "def model_graphs(hist):\n",
    "    acc = hist.history['accuracy']\n",
    "    val_acc = hist.history['val_accuracy']\n",
    "    loss = hist.history['loss']\n",
    "    val_loss = hist.history['val_loss']\n",
    "    epochs = range(len(acc))\n",
    "    plt.plot(epochs, acc, 'bo', label='Training acc')\n",
    "    plt.plot(epochs, val_acc, 'b', label='Validation acc')\n",
    "    plt.title('Training and validation accuracy')\n",
    "    plt.legend()\n",
    "    plt.figure()\n",
    "    plt.plot(epochs, loss, 'bo', label='Training loss')\n",
    "    plt.plot(epochs, val_loss, 'b', label='Validation loss')\n",
    "    plt.title('Training and validation loss')\n",
    "    plt.legend()\n",
    "    plt.show()"
   ]
  },
  {
   "cell_type": "code",
   "execution_count": 20,
   "metadata": {
    "scrolled": true
   },
   "outputs": [
    {
     "name": "stdout",
     "output_type": "stream",
     "text": [
      "7/7 [==============================] - 0s 997us/step - loss: 0.2350 - accuracy: 0.9300\n",
      "7/7 [==============================] - 0s 997us/step - loss: 0.6153 - accuracy: 0.6950\n",
      "[0.2349928468465805, 0.9300000071525574]\n",
      "[0.615324079990387, 0.6949999928474426]\n"
     ]
    }
   ],
   "source": [
    "model_results(train_img, train_label, test_img, test_label)"
   ]
  },
  {
   "cell_type": "code",
   "execution_count": 21,
   "metadata": {
    "scrolled": true
   },
   "outputs": [
    {
     "data": {
      "image/png": "[encoded data removed]",
      "text/plain": [
       "<Figure size 432x288 with 1 Axes>"
      ]
     },
     "metadata": {},
     "output_type": "display_data"
    },
    {
     "data": {
      "image/png": "[encoded data removed]",
      "text/plain": [
       "<Figure size 432x288 with 1 Axes>"
      ]
     },
     "metadata": {},
     "output_type": "display_data"
    }
   ],
   "source": [
    "model_graphs(history_bl)"
   ]
  },
  {
   "cell_type": "code",
   "execution_count": 22,
   "metadata": {},
   "outputs": [],
   "source": [
    "model.save('Chest_X-ray_baseline.h5')"
   ]
  },
  {
   "cell_type": "markdown",
   "metadata": {},
   "source": [
    "## CNN"
   ]
  },
  {
   "cell_type": "markdown",
   "metadata": {},
   "source": [
    "### Datagenerator"
   ]
  },
  {
   "cell_type": "code",
   "execution_count": 23,
   "metadata": {},
   "outputs": [],
   "source": [
    "#Get all of the data into each generator and modify the images\n",
    "train_regen = ImageDataGenerator(rescale=1./255)\n",
    "test_regen = ImageDataGenerator(rescale=1./255)\n",
    "val_regen = ImageDataGenerator(rescale=1./255)"
   ]
  },
  {
   "cell_type": "code",
   "execution_count": 24,
   "metadata": {},
   "outputs": [
    {
     "name": "stdout",
     "output_type": "stream",
     "text": [
      "Found 5216 images belonging to 2 classes.\n",
      "Found 624 images belonging to 2 classes.\n",
      "Found 16 images belonging to 2 classes.\n"
     ]
    }
   ],
   "source": [
    "train_generator = train_regen.flow_from_directory(train_data_dir,\n",
    "                                                  target_size = (128, 128),\n",
    "                                                  batch_size = 64,\n",
    "                                                  color_mode = 'grayscale',\n",
    "                                                  class_mode = 'binary')\n",
    "                                                  \n",
    "test_generator = test_regen.flow_from_directory(test_data_dir,\n",
    "                                                target_size = (128, 128),\n",
    "                                                batch_size = 6,\n",
    "                                                color_mode = 'grayscale',\n",
    "                                                class_mode = 'binary')\n",
    "\n",
    "val_generator = val_regen.flow_from_directory(val_data_dir,\n",
    "                                              target_size = (128, 128),\n",
    "                                              batch_size = 4,\n",
    "                                              color_mode = 'grayscale',\n",
    "                                              class_mode = 'binary')"
   ]
  },
  {
   "cell_type": "code",
   "execution_count": 25,
   "metadata": {},
   "outputs": [],
   "source": [
    "#Creating new sets for CNN\n",
    "X_train, y_train = next(train_generator)\n",
    "X_test, y_test = next(test_generator)\n",
    "X_val, y_val = next(val_generator)"
   ]
  },
  {
   "cell_type": "markdown",
   "metadata": {},
   "source": [
    "### Model"
   ]
  },
  {
   "cell_type": "code",
   "execution_count": 26,
   "metadata": {},
   "outputs": [],
   "source": [
    "#Build a baseline CNN model\n",
    "model = models.Sequential()\n",
    "\n",
    "model.add(layers.Conv2D(32, (3, 3), activation='relu',\n",
    "                        input_shape=(128, 128, 1)))\n",
    "model.add(layers.MaxPooling2D((2, 2)))\n",
    "model.add(layers.Conv2D(64, (3, 3), activation='relu'))\n",
    "model.add(layers.MaxPooling2D((2, 2)))\n",
    "model.add(layers.Conv2D(128, (3, 3), activation='relu'))\n",
    "model.add(layers.MaxPooling2D((2, 2)))\n",
    "model.add(layers.Flatten())\n",
    "model.add(layers.Dense(512, activation='relu'))\n",
    "model.add(layers.Dense(1, activation='sigmoid'))"
   ]
  },
  {
   "cell_type": "code",
   "execution_count": 27,
   "metadata": {},
   "outputs": [
    {
     "name": "stdout",
     "output_type": "stream",
     "text": [
      "Model: \"sequential_1\"\n",
      "_________________________________________________________________\n",
      "Layer (type)                 Output Shape              Param #   \n",
      "=================================================================\n",
      "conv2d (Conv2D)              (None, 126, 126, 32)      320       \n",
      "_________________________________________________________________\n",
      "max_pooling2d (MaxPooling2D) (None, 63, 63, 32)        0         \n",
      "_________________________________________________________________\n",
      "conv2d_1 (Conv2D)            (None, 61, 61, 64)        18496     \n",
      "_________________________________________________________________\n",
      "max_pooling2d_1 (MaxPooling2 (None, 30, 30, 64)        0         \n",
      "_________________________________________________________________\n",
      "conv2d_2 (Conv2D)            (None, 28, 28, 128)       73856     \n",
      "_________________________________________________________________\n",
      "max_pooling2d_2 (MaxPooling2 (None, 14, 14, 128)       0         \n",
      "_________________________________________________________________\n",
      "flatten (Flatten)            (None, 25088)             0         \n",
      "_________________________________________________________________\n",
      "dense_2 (Dense)              (None, 512)               12845568  \n",
      "_________________________________________________________________\n",
      "dense_3 (Dense)              (None, 1)                 513       \n",
      "=================================================================\n",
      "Total params: 12,938,753\n",
      "Trainable params: 12,938,753\n",
      "Non-trainable params: 0\n",
      "_________________________________________________________________\n"
     ]
    }
   ],
   "source": [
    "model.summary()"
   ]
  },
  {
   "cell_type": "code",
   "execution_count": 28,
   "metadata": {},
   "outputs": [],
   "source": [
    "#CNN compile\n",
    "model.compile(loss='binary_crossentropy',\n",
    "              optimizer=optimizers.RMSprop(lr=1e-4),\n",
    "              metrics=['accuracy'])"
   ]
  },
  {
   "cell_type": "code",
   "execution_count": 29,
   "metadata": {
    "scrolled": true
   },
   "outputs": [
    {
     "name": "stdout",
     "output_type": "stream",
     "text": [
      "Epoch 1/40\n",
      "82/82 [==============================] - 71s 870ms/step - loss: 0.4255 - accuracy: 0.8115 - val_loss: 0.7662 - val_accuracy: 0.6250\n",
      "Epoch 2/40\n",
      "82/82 [==============================] - 77s 939ms/step - loss: 0.2065 - accuracy: 0.9231 - val_loss: 0.4688 - val_accuracy: 0.7500\n",
      "Epoch 3/40\n",
      "82/82 [==============================] - 74s 900ms/step - loss: 0.1394 - accuracy: 0.9450 - val_loss: 0.9548 - val_accuracy: 0.5625\n",
      "Epoch 4/40\n",
      "82/82 [==============================] - 74s 899ms/step - loss: 0.1147 - accuracy: 0.9571 - val_loss: 0.2226 - val_accuracy: 0.9375\n",
      "Epoch 5/40\n",
      "82/82 [==============================] - 73s 892ms/step - loss: 0.1034 - accuracy: 0.9647 - val_loss: 0.2862 - val_accuracy: 0.8750\n",
      "Epoch 6/40\n",
      "82/82 [==============================] - 69s 840ms/step - loss: 0.0915 - accuracy: 0.9663 - val_loss: 0.7370 - val_accuracy: 0.6250\n",
      "Epoch 7/40\n",
      "82/82 [==============================] - 70s 848ms/step - loss: 0.0813 - accuracy: 0.9699 - val_loss: 0.2178 - val_accuracy: 0.9375\n",
      "Epoch 8/40\n",
      "82/82 [==============================] - 69s 843ms/step - loss: 0.0765 - accuracy: 0.9711 - val_loss: 0.1572 - val_accuracy: 0.9375\n",
      "Epoch 9/40\n",
      "82/82 [==============================] - 69s 836ms/step - loss: 0.0716 - accuracy: 0.9714 - val_loss: 0.2818 - val_accuracy: 0.8750\n",
      "Epoch 10/40\n",
      "82/82 [==============================] - 66s 799ms/step - loss: 0.0640 - accuracy: 0.9772 - val_loss: 0.5694 - val_accuracy: 0.6875\n",
      "Epoch 11/40\n",
      "82/82 [==============================] - 63s 774ms/step - loss: 0.0639 - accuracy: 0.9757 - val_loss: 0.3457 - val_accuracy: 0.8125\n",
      "Epoch 12/40\n",
      "82/82 [==============================] - 63s 770ms/step - loss: 0.0629 - accuracy: 0.9768 - val_loss: 0.3512 - val_accuracy: 0.8125\n",
      "Epoch 13/40\n",
      "82/82 [==============================] - 63s 766ms/step - loss: 0.0574 - accuracy: 0.9783 - val_loss: 0.4165 - val_accuracy: 0.7500\n",
      "Epoch 14/40\n",
      "82/82 [==============================] - 70s 855ms/step - loss: 0.0533 - accuracy: 0.9806 - val_loss: 0.0879 - val_accuracy: 1.0000\n",
      "Epoch 15/40\n",
      "82/82 [==============================] - 63s 774ms/step - loss: 0.0511 - accuracy: 0.9810 - val_loss: 0.1926 - val_accuracy: 0.9375\n",
      "Epoch 16/40\n",
      "82/82 [==============================] - 63s 764ms/step - loss: 0.0438 - accuracy: 0.9841 - val_loss: 0.2605 - val_accuracy: 0.8750\n",
      "Epoch 17/40\n",
      "82/82 [==============================] - 63s 767ms/step - loss: 0.0466 - accuracy: 0.9837 - val_loss: 0.3274 - val_accuracy: 0.8125\n",
      "Epoch 18/40\n",
      "82/82 [==============================] - 62s 762ms/step - loss: 0.0411 - accuracy: 0.9850 - val_loss: 0.1047 - val_accuracy: 0.9375\n",
      "Epoch 19/40\n",
      "82/82 [==============================] - 62s 760ms/step - loss: 0.0399 - accuracy: 0.9843 - val_loss: 0.2887 - val_accuracy: 0.8125\n",
      "Epoch 20/40\n",
      "82/82 [==============================] - 62s 759ms/step - loss: 0.0368 - accuracy: 0.9856 - val_loss: 0.4816 - val_accuracy: 0.7500\n",
      "Epoch 21/40\n",
      "82/82 [==============================] - 62s 758ms/step - loss: 0.0357 - accuracy: 0.9849 - val_loss: 0.4004 - val_accuracy: 0.8125\n",
      "Epoch 22/40\n",
      "82/82 [==============================] - 64s 784ms/step - loss: 0.0304 - accuracy: 0.9875 - val_loss: 0.1785 - val_accuracy: 0.8750\n",
      "Epoch 23/40\n",
      "82/82 [==============================] - 62s 760ms/step - loss: 0.0313 - accuracy: 0.9883 - val_loss: 1.9931 - val_accuracy: 0.5625\n",
      "Epoch 24/40\n",
      "82/82 [==============================] - 63s 765ms/step - loss: 0.0292 - accuracy: 0.9893 - val_loss: 0.2809 - val_accuracy: 0.8750\n",
      "Epoch 25/40\n",
      "82/82 [==============================] - 62s 761ms/step - loss: 0.0256 - accuracy: 0.9914 - val_loss: 0.2274 - val_accuracy: 0.8750\n",
      "Epoch 26/40\n",
      "82/82 [==============================] - 63s 762ms/step - loss: 0.0254 - accuracy: 0.9908 - val_loss: 0.6013 - val_accuracy: 0.6875\n",
      "Epoch 27/40\n",
      "82/82 [==============================] - 63s 768ms/step - loss: 0.0234 - accuracy: 0.9908 - val_loss: 0.9233 - val_accuracy: 0.6875\n",
      "Epoch 28/40\n",
      "82/82 [==============================] - 62s 762ms/step - loss: 0.0221 - accuracy: 0.9923 - val_loss: 0.4542 - val_accuracy: 0.7500\n",
      "Epoch 29/40\n",
      "82/82 [==============================] - 62s 762ms/step - loss: 0.0189 - accuracy: 0.9939 - val_loss: 0.0322 - val_accuracy: 1.0000\n",
      "Epoch 30/40\n",
      "82/82 [==============================] - 62s 761ms/step - loss: 0.0194 - accuracy: 0.9941 - val_loss: 0.6085 - val_accuracy: 0.6875\n",
      "Epoch 31/40\n",
      "82/82 [==============================] - 62s 758ms/step - loss: 0.0172 - accuracy: 0.9933 - val_loss: 0.8251 - val_accuracy: 0.6875\n",
      "Epoch 32/40\n",
      "82/82 [==============================] - 62s 760ms/step - loss: 0.0137 - accuracy: 0.9956 - val_loss: 1.0883 - val_accuracy: 0.6250\n",
      "Epoch 33/40\n",
      "82/82 [==============================] - 63s 763ms/step - loss: 0.0135 - accuracy: 0.9954 - val_loss: 1.1543 - val_accuracy: 0.6875\n",
      "Epoch 34/40\n",
      "82/82 [==============================] - 62s 761ms/step - loss: 0.0133 - accuracy: 0.9958 - val_loss: 0.7008 - val_accuracy: 0.8125\n",
      "Epoch 35/40\n",
      "82/82 [==============================] - 62s 761ms/step - loss: 0.0116 - accuracy: 0.9965 - val_loss: 0.1841 - val_accuracy: 0.8125\n",
      "Epoch 36/40\n",
      "82/82 [==============================] - 75s 918ms/step - loss: 0.0123 - accuracy: 0.9948 - val_loss: 0.5838 - val_accuracy: 0.8125\n",
      "Epoch 37/40\n",
      "82/82 [==============================] - 71s 868ms/step - loss: 0.0106 - accuracy: 0.9969 - val_loss: 0.6686 - val_accuracy: 0.7500\n",
      "Epoch 38/40\n",
      "82/82 [==============================] - 62s 756ms/step - loss: 0.0090 - accuracy: 0.9969 - val_loss: 0.9456 - val_accuracy: 0.6875\n",
      "Epoch 39/40\n",
      "82/82 [==============================] - 62s 755ms/step - loss: 0.0075 - accuracy: 0.9983 - val_loss: 0.5688 - val_accuracy: 0.8125\n",
      "Epoch 40/40\n",
      "82/82 [==============================] - 62s 756ms/step - loss: 0.0102 - accuracy: 0.9971 - val_loss: 0.2817 - val_accuracy: 0.8125\n"
     ]
    }
   ],
   "source": [
    "#CNN training generator\n",
    "history_cnn = model.fit(train_generator, \n",
    "                    epochs = 40, \n",
    "                    validation_data=val_generator)"
   ]
  },
  {
   "cell_type": "markdown",
   "metadata": {},
   "source": [
    "### Results"
   ]
  },
  {
   "cell_type": "code",
   "execution_count": 30,
   "metadata": {
    "scrolled": false
   },
   "outputs": [
    {
     "data": {
      "image/png": "[encoded data removed]",
      "text/plain": [
       "<Figure size 432x288 with 1 Axes>"
      ]
     },
     "metadata": {},
     "output_type": "display_data"
    },
    {
     "data": {
      "image/png": "[encoded data removed]",
      "text/plain": [
       "<Figure size 432x288 with 1 Axes>"
      ]
     },
     "metadata": {},
     "output_type": "display_data"
    }
   ],
   "source": [
    "model_graphs(history_cnn)"
   ]
  },
  {
   "cell_type": "code",
   "execution_count": 31,
   "metadata": {},
   "outputs": [],
   "source": [
    "model.save('Chest_X-ray_cnn.h5')"
   ]
  },
  {
   "cell_type": "markdown",
   "metadata": {},
   "source": [
    "## CNN Weighted"
   ]
  },
  {
   "cell_type": "markdown",
   "metadata": {},
   "source": [
    "### Class Imbalance"
   ]
  },
  {
   "cell_type": "markdown",
   "metadata": {},
   "source": [
    ">Quick EDAs to see the severity of class imbalance"
   ]
  },
  {
   "cell_type": "code",
   "execution_count": 32,
   "metadata": {},
   "outputs": [],
   "source": [
    "#Import library to filter out the warnings for quick EDAs\n",
    "import warnings\n",
    "warnings.filterwarnings(\"ignore\")"
   ]
  },
  {
   "cell_type": "code",
   "execution_count": 33,
   "metadata": {},
   "outputs": [
    {
     "data": {
      "text/plain": [
       "{'NORMAL': 0, 'PNEUMONIA': 1}"
      ]
     },
     "execution_count": 33,
     "metadata": {},
     "output_type": "execute_result"
    }
   ],
   "source": [
    "#Checking to confirm the idenity of the binary labels\n",
    "train_generator.class_indices"
   ]
  },
  {
   "cell_type": "code",
   "execution_count": 34,
   "metadata": {},
   "outputs": [],
   "source": [
    "#Created a function to identify class imbalance\n",
    "def imbalance_graphs(data_list):\n",
    "    \n",
    "    empty = []\n",
    "    \n",
    "    for i in data_list:\n",
    "        if(i[1] == 0):\n",
    "            empty.append(\"NORMAL\")\n",
    "        else:\n",
    "            empty.append(\"PNEUMONIA\")\n",
    "    sns.countplot(empty);     "
   ]
  },
  {
   "cell_type": "code",
   "execution_count": 35,
   "metadata": {
    "scrolled": true
   },
   "outputs": [
    {
     "data": {
      "image/png": "[encoded data removed]",
      "text/plain": [
       "<Figure size 432x288 with 1 Axes>"
      ]
     },
     "metadata": {},
     "output_type": "display_data"
    }
   ],
   "source": [
    "imbalance_graphs(train_labels)"
   ]
  },
  {
   "cell_type": "code",
   "execution_count": 36,
   "metadata": {},
   "outputs": [
    {
     "data": {
      "image/png": "[encoded data removed]",
      "text/plain": [
       "<Figure size 432x288 with 1 Axes>"
      ]
     },
     "metadata": {},
     "output_type": "display_data"
    }
   ],
   "source": [
    "imbalance_graphs(test_labels)"
   ]
  },
  {
   "cell_type": "code",
   "execution_count": 37,
   "metadata": {
    "scrolled": false
   },
   "outputs": [
    {
     "data": {
      "image/png": "[encoded data removed]",
      "text/plain": [
       "<Figure size 432x288 with 1 Axes>"
      ]
     },
     "metadata": {},
     "output_type": "display_data"
    }
   ],
   "source": [
    "imbalance_graphs(val_labels)"
   ]
  },
  {
   "cell_type": "markdown",
   "metadata": {},
   "source": [
    "As seen in the graphs above there is a severe class imbalance within the train data and the test data. Where the number of pneumonia images heavily out weigh the number of normal images. The validation set does not have a class imbalance. Weight parameter will be added to the model fit in the history section to bring to a closer class balance."
   ]
  },
  {
   "cell_type": "markdown",
   "metadata": {},
   "source": [
    "### Model"
   ]
  },
  {
   "cell_type": "code",
   "execution_count": 38,
   "metadata": {},
   "outputs": [],
   "source": [
    "#Reusing the model layers from the previous CNN model\n",
    "model = models.Sequential()\n",
    "\n",
    "model.add(layers.Conv2D(32, (3, 3), activation='relu',\n",
    "                        input_shape=(128, 128, 1)))\n",
    "model.add(layers.MaxPooling2D((2, 2)))\n",
    "model.add(layers.Conv2D(64, (3, 3), activation='relu'))\n",
    "model.add(layers.MaxPooling2D((2, 2)))\n",
    "model.add(layers.Conv2D(128, (3, 3), activation='relu'))\n",
    "model.add(layers.MaxPooling2D((2, 2)))\n",
    "model.add(layers.Flatten())\n",
    "model.add(layers.Dense(512, activation='relu'))\n",
    "model.add(layers.Dense(1, activation='sigmoid'))"
   ]
  },
  {
   "cell_type": "code",
   "execution_count": 39,
   "metadata": {},
   "outputs": [
    {
     "name": "stdout",
     "output_type": "stream",
     "text": [
      "Model: \"sequential_2\"\n",
      "_________________________________________________________________\n",
      "Layer (type)                 Output Shape              Param #   \n",
      "=================================================================\n",
      "conv2d_3 (Conv2D)            (None, 126, 126, 32)      320       \n",
      "_________________________________________________________________\n",
      "max_pooling2d_3 (MaxPooling2 (None, 63, 63, 32)        0         \n",
      "_________________________________________________________________\n",
      "conv2d_4 (Conv2D)            (None, 61, 61, 64)        18496     \n",
      "_________________________________________________________________\n",
      "max_pooling2d_4 (MaxPooling2 (None, 30, 30, 64)        0         \n",
      "_________________________________________________________________\n",
      "conv2d_5 (Conv2D)            (None, 28, 28, 128)       73856     \n",
      "_________________________________________________________________\n",
      "max_pooling2d_5 (MaxPooling2 (None, 14, 14, 128)       0         \n",
      "_________________________________________________________________\n",
      "flatten_1 (Flatten)          (None, 25088)             0         \n",
      "_________________________________________________________________\n",
      "dense_4 (Dense)              (None, 512)               12845568  \n",
      "_________________________________________________________________\n",
      "dense_5 (Dense)              (None, 1)                 513       \n",
      "=================================================================\n",
      "Total params: 12,938,753\n",
      "Trainable params: 12,938,753\n",
      "Non-trainable params: 0\n",
      "_________________________________________________________________\n"
     ]
    }
   ],
   "source": [
    "model.summary()"
   ]
  },
  {
   "cell_type": "code",
   "execution_count": 40,
   "metadata": {},
   "outputs": [],
   "source": [
    "model.compile(loss='binary_crossentropy',\n",
    "              optimizer=optimizers.RMSprop(lr=1e-4),\n",
    "              metrics=['accuracy'])"
   ]
  },
  {
   "cell_type": "code",
   "execution_count": 41,
   "metadata": {
    "scrolled": true
   },
   "outputs": [
    {
     "name": "stdout",
     "output_type": "stream",
     "text": [
      "Epoch 1/40\n",
      "82/82 [==============================] - 62s 760ms/step - loss: 0.7871 - accuracy: 0.7387 - val_loss: 0.4981 - val_accuracy: 0.6875\n",
      "Epoch 2/40\n",
      "82/82 [==============================] - 62s 753ms/step - loss: 0.3670 - accuracy: 0.9112 - val_loss: 0.3811 - val_accuracy: 0.8125\n",
      "Epoch 3/40\n",
      "82/82 [==============================] - 62s 754ms/step - loss: 0.2390 - accuracy: 0.9369 - val_loss: 0.3117 - val_accuracy: 0.8750\n",
      "Epoch 4/40\n",
      "82/82 [==============================] - 62s 755ms/step - loss: 0.2097 - accuracy: 0.9438 - val_loss: 0.2724 - val_accuracy: 0.8750\n",
      "Epoch 5/40\n",
      "82/82 [==============================] - 62s 757ms/step - loss: 0.1737 - accuracy: 0.9549 - val_loss: 0.3247 - val_accuracy: 0.8750\n",
      "Epoch 6/40\n",
      "82/82 [==============================] - 64s 782ms/step - loss: 0.1515 - accuracy: 0.9601 - val_loss: 0.4284 - val_accuracy: 0.6875\n",
      "Epoch 7/40\n",
      "82/82 [==============================] - 63s 766ms/step - loss: 0.1450 - accuracy: 0.9609 - val_loss: 0.2948 - val_accuracy: 0.8750\n",
      "Epoch 8/40\n",
      "82/82 [==============================] - 63s 764ms/step - loss: 0.1393 - accuracy: 0.9641 - val_loss: 0.1301 - val_accuracy: 0.9375\n",
      "Epoch 9/40\n",
      "82/82 [==============================] - 63s 763ms/step - loss: 0.1194 - accuracy: 0.9689 - val_loss: 0.2016 - val_accuracy: 0.9375\n",
      "Epoch 10/40\n",
      "82/82 [==============================] - 63s 772ms/step - loss: 0.1193 - accuracy: 0.9695 - val_loss: 0.2626 - val_accuracy: 0.8750\n",
      "Epoch 11/40\n",
      "82/82 [==============================] - 63s 765ms/step - loss: 0.1084 - accuracy: 0.9739 - val_loss: 0.1742 - val_accuracy: 0.9375\n",
      "Epoch 12/40\n",
      "82/82 [==============================] - 63s 766ms/step - loss: 0.0970 - accuracy: 0.9760 - val_loss: 0.0981 - val_accuracy: 1.0000\n",
      "Epoch 13/40\n",
      "82/82 [==============================] - 63s 764ms/step - loss: 0.0915 - accuracy: 0.9764 - val_loss: 0.0682 - val_accuracy: 1.0000\n",
      "Epoch 14/40\n",
      "82/82 [==============================] - 63s 771ms/step - loss: 0.0919 - accuracy: 0.9747 - val_loss: 0.2532 - val_accuracy: 0.8750\n",
      "Epoch 15/40\n",
      "82/82 [==============================] - 63s 766ms/step - loss: 0.0817 - accuracy: 0.9797 - val_loss: 0.2732 - val_accuracy: 0.8125\n",
      "Epoch 16/40\n",
      "82/82 [==============================] - 63s 768ms/step - loss: 0.0770 - accuracy: 0.9787 - val_loss: 0.0633 - val_accuracy: 1.0000\n",
      "Epoch 17/40\n",
      "82/82 [==============================] - 63s 768ms/step - loss: 0.0716 - accuracy: 0.9829 - val_loss: 0.4165 - val_accuracy: 0.8125\n",
      "Epoch 18/40\n",
      "82/82 [==============================] - 63s 766ms/step - loss: 0.0736 - accuracy: 0.9824 - val_loss: 0.1457 - val_accuracy: 0.9375\n",
      "Epoch 19/40\n",
      "82/82 [==============================] - 63s 763ms/step - loss: 0.0667 - accuracy: 0.9850 - val_loss: 0.2534 - val_accuracy: 0.8750\n",
      "Epoch 20/40\n",
      "82/82 [==============================] - 63s 767ms/step - loss: 0.0651 - accuracy: 0.9839 - val_loss: 0.3547 - val_accuracy: 0.7500\n",
      "Epoch 21/40\n",
      "82/82 [==============================] - 63s 764ms/step - loss: 0.0582 - accuracy: 0.9854 - val_loss: 0.3609 - val_accuracy: 0.8750\n",
      "Epoch 22/40\n",
      "82/82 [==============================] - 62s 762ms/step - loss: 0.0557 - accuracy: 0.9845 - val_loss: 0.3488 - val_accuracy: 0.8750\n",
      "Epoch 23/40\n",
      "82/82 [==============================] - 62s 762ms/step - loss: 0.0510 - accuracy: 0.9864 - val_loss: 0.3274 - val_accuracy: 0.8125\n",
      "Epoch 24/40\n",
      "82/82 [==============================] - 62s 762ms/step - loss: 0.0499 - accuracy: 0.9866 - val_loss: 0.8791 - val_accuracy: 0.6875\n",
      "Epoch 25/40\n",
      "82/82 [==============================] - 63s 762ms/step - loss: 0.0485 - accuracy: 0.9862 - val_loss: 0.1839 - val_accuracy: 0.9375\n",
      "Epoch 26/40\n",
      "82/82 [==============================] - 62s 758ms/step - loss: 0.0440 - accuracy: 0.9883 - val_loss: 0.3621 - val_accuracy: 0.7500\n",
      "Epoch 27/40\n",
      "82/82 [==============================] - 62s 754ms/step - loss: 0.0417 - accuracy: 0.9877 - val_loss: 0.0751 - val_accuracy: 1.0000\n",
      "Epoch 28/40\n",
      "82/82 [==============================] - 62s 755ms/step - loss: 0.0380 - accuracy: 0.9902 - val_loss: 0.1880 - val_accuracy: 0.8750\n",
      "Epoch 29/40\n",
      "82/82 [==============================] - 62s 756ms/step - loss: 0.0367 - accuracy: 0.9906 - val_loss: 0.4636 - val_accuracy: 0.7500\n",
      "Epoch 30/40\n",
      "82/82 [==============================] - 62s 756ms/step - loss: 0.0356 - accuracy: 0.9908 - val_loss: 0.0732 - val_accuracy: 1.0000\n",
      "Epoch 31/40\n",
      "82/82 [==============================] - 62s 754ms/step - loss: 0.0290 - accuracy: 0.9923 - val_loss: 0.6697 - val_accuracy: 0.6875\n",
      "Epoch 32/40\n",
      "82/82 [==============================] - 62s 756ms/step - loss: 0.0252 - accuracy: 0.9933 - val_loss: 1.0324 - val_accuracy: 0.6250\n",
      "Epoch 33/40\n",
      "82/82 [==============================] - 62s 752ms/step - loss: 0.0253 - accuracy: 0.9937 - val_loss: 0.4231 - val_accuracy: 0.7500\n",
      "Epoch 34/40\n",
      "82/82 [==============================] - 62s 756ms/step - loss: 0.0223 - accuracy: 0.9939 - val_loss: 0.5355 - val_accuracy: 0.7500\n",
      "Epoch 35/40\n",
      "82/82 [==============================] - 62s 757ms/step - loss: 0.0237 - accuracy: 0.9935 - val_loss: 0.4920 - val_accuracy: 0.7500\n",
      "Epoch 36/40\n",
      "82/82 [==============================] - 62s 751ms/step - loss: 0.0184 - accuracy: 0.9950 - val_loss: 1.3272 - val_accuracy: 0.6250\n",
      "Epoch 37/40\n",
      "82/82 [==============================] - 62s 751ms/step - loss: 0.0204 - accuracy: 0.9950 - val_loss: 0.2629 - val_accuracy: 0.8125\n",
      "Epoch 38/40\n",
      "82/82 [==============================] - 62s 751ms/step - loss: 0.0172 - accuracy: 0.9954 - val_loss: 0.9140 - val_accuracy: 0.7500\n",
      "Epoch 39/40\n",
      "82/82 [==============================] - 62s 753ms/step - loss: 0.0138 - accuracy: 0.9973 - val_loss: 0.5402 - val_accuracy: 0.7500\n",
      "Epoch 40/40\n",
      "82/82 [==============================] - 62s 752ms/step - loss: 0.0171 - accuracy: 0.9954 - val_loss: 0.3777 - val_accuracy: 0.8125\n"
     ]
    }
   ],
   "source": [
    "#Adding the class_weight to the list of parameters to adjust for class imbalance\n",
    "history_cnn_w = model.fit(train_generator, \n",
    "                    epochs = 40,\n",
    "                    class_weight = {0: 3., 1: 1.},\n",
    "                    validation_data=val_generator)"
   ]
  },
  {
   "cell_type": "markdown",
   "metadata": {},
   "source": [
    "### Results"
   ]
  },
  {
   "cell_type": "code",
   "execution_count": 42,
   "metadata": {},
   "outputs": [
    {
     "data": {
      "image/png": "[encoded data removed]",
      "text/plain": [
       "<Figure size 432x288 with 1 Axes>"
      ]
     },
     "metadata": {},
     "output_type": "display_data"
    },
    {
     "data": {
      "image/png": "[encoded data removed]",
      "text/plain": [
       "<Figure size 432x288 with 1 Axes>"
      ]
     },
     "metadata": {},
     "output_type": "display_data"
    }
   ],
   "source": [
    "model_graphs(history_cnn_w)"
   ]
  },
  {
   "cell_type": "code",
   "execution_count": 43,
   "metadata": {},
   "outputs": [],
   "source": [
    "model.save('Chest_X-ray_weighted_cnn.h5')"
   ]
  },
  {
   "cell_type": "markdown",
   "metadata": {},
   "source": [
    "## CNN Final Model"
   ]
  },
  {
   "cell_type": "markdown",
   "metadata": {},
   "source": [
    "### GridSearch"
   ]
  },
  {
   "cell_type": "code",
   "execution_count": 44,
   "metadata": {},
   "outputs": [],
   "source": [
    "#Function for displaying grid search results\n",
    "def display_cv_results(search_results):\n",
    "    print('Best score = {:.4f} using {}'.format(search_results.best_score_, search_results.best_params_))\n",
    "    means = search_results.cv_results_['mean_test_score']\n",
    "    stds = search_results.cv_results_['std_test_score']\n",
    "    params = search_results.cv_results_['params']\n",
    "    for mean, stdev, param in zip(means, stds, params):\n",
    "        print('mean test accuracy +/- std = {:.4f} +/- {:.4f} with: {}'.format(mean, stdev, param))"
   ]
  },
  {
   "cell_type": "code",
   "execution_count": 45,
   "metadata": {},
   "outputs": [
    {
     "name": "stdout",
     "output_type": "stream",
     "text": [
      "Model: \"sequential_3\"\n",
      "_________________________________________________________________\n",
      "Layer (type)                 Output Shape              Param #   \n",
      "=================================================================\n",
      "conv2d_6 (Conv2D)            (None, 126, 126, 32)      320       \n",
      "_________________________________________________________________\n",
      "max_pooling2d_6 (MaxPooling2 (None, 63, 63, 32)        0         \n",
      "_________________________________________________________________\n",
      "conv2d_7 (Conv2D)            (None, 61, 61, 64)        18496     \n",
      "_________________________________________________________________\n",
      "max_pooling2d_7 (MaxPooling2 (None, 30, 30, 64)        0         \n",
      "_________________________________________________________________\n",
      "conv2d_8 (Conv2D)            (None, 28, 28, 128)       73856     \n",
      "_________________________________________________________________\n",
      "max_pooling2d_8 (MaxPooling2 (None, 14, 14, 128)       0         \n",
      "_________________________________________________________________\n",
      "flatten_2 (Flatten)          (None, 25088)             0         \n",
      "_________________________________________________________________\n",
      "dense_6 (Dense)              (None, 512)               12845568  \n",
      "_________________________________________________________________\n",
      "dense_7 (Dense)              (None, 1)                 513       \n",
      "=================================================================\n",
      "Total params: 12,938,753\n",
      "Trainable params: 12,938,753\n",
      "Non-trainable params: 0\n",
      "_________________________________________________________________\n"
     ]
    }
   ],
   "source": [
    "#Function for an easy to use cnn model to create for grid search \n",
    "def cnn_model(pool_type='max', conv_activation='sigmoid', dropout_rate=0.10):\n",
    "    model = models.Sequential()\n",
    "\n",
    "    model.add(layers.Conv2D(32, (3, 3), activation='relu',\n",
    "                            input_shape=(128, 128, 1)))\n",
    "    model.add(layers.MaxPooling2D((2, 2)))\n",
    "    model.add(layers.Conv2D(64, (3, 3), activation='relu'))\n",
    "    model.add(layers.MaxPooling2D((2, 2)))\n",
    "    model.add(layers.Conv2D(128, (3, 3), activation='relu'))\n",
    "    model.add(layers.MaxPooling2D((2, 2)))\n",
    "    model.add(layers.Flatten())\n",
    "    model.add(layers.Dense(512, activation='relu'))\n",
    "    model.add(layers.Dense(1, activation='sigmoid'))\n",
    "    \n",
    "    model.compile(loss='binary_crossentropy',\n",
    "              optimizer=optimizers.RMSprop(lr=1e-4),\n",
    "              metrics=['accuracy'])\n",
    "    return (model)\n",
    "#Makes cnn equal to the model \n",
    "cnn = cnn_model()\n",
    "cnn.summary()"
   ]
  },
  {
   "cell_type": "code",
   "execution_count": 46,
   "metadata": {},
   "outputs": [],
   "source": [
    "#Makes our model from the funtion \n",
    "model = KerasClassifier(build_fn=cnn_model, verbose=1)"
   ]
  },
  {
   "cell_type": "code",
   "execution_count": 47,
   "metadata": {},
   "outputs": [],
   "source": [
    "#Paramters for grid search of the model to go through \n",
    "#these can all be changed and modified depending on what we want to find\n",
    "param_grid = {\n",
    "    'pool_type': ['max', 'average'],\n",
    "    'conv_activation': ['sigmoid', 'tanh', 'relu'],    \n",
    "    'epochs': [10 , 7],\n",
    "}"
   ]
  },
  {
   "cell_type": "code",
   "execution_count": 48,
   "metadata": {},
   "outputs": [
    {
     "name": "stdout",
     "output_type": "stream",
     "text": [
      "Epoch 1/10\n",
      "2/2 [==============================] - 0s 152ms/step - loss: 0.7549 - accuracy: 0.6406\n",
      "Epoch 2/10\n",
      "2/2 [==============================] - 0s 153ms/step - loss: 0.6616 - accuracy: 0.6719\n",
      "Epoch 3/10\n",
      "2/2 [==============================] - 0s 158ms/step - loss: 0.6248 - accuracy: 0.6406\n",
      "Epoch 4/10\n",
      "2/2 [==============================] - 0s 155ms/step - loss: 0.6209 - accuracy: 0.6406\n",
      "Epoch 5/10\n",
      "2/2 [==============================] - 0s 155ms/step - loss: 0.6361 - accuracy: 0.5469\n",
      "Epoch 6/10\n",
      "2/2 [==============================] - 0s 154ms/step - loss: 0.6066 - accuracy: 0.7500\n",
      "Epoch 7/10\n",
      "2/2 [==============================] - 0s 157ms/step - loss: 0.5606 - accuracy: 0.6406\n",
      "Epoch 8/10\n",
      "2/2 [==============================] - 0s 157ms/step - loss: 0.5297 - accuracy: 0.8906\n",
      "Epoch 9/10\n",
      "2/2 [==============================] - 0s 157ms/step - loss: 0.5072 - accuracy: 0.7031\n",
      "Epoch 10/10\n",
      "2/2 [==============================] - 0s 157ms/step - loss: 0.6827 - accuracy: 0.4844\n"
     ]
    }
   ],
   "source": [
    "#Running the Gridsearch\n",
    "grid = GridSearchCV(estimator=model, param_grid=param_grid, n_jobs=-1, cv=3)\n",
    "grid_result = grid.fit(X_train, y_train)"
   ]
  },
  {
   "cell_type": "code",
   "execution_count": 49,
   "metadata": {
    "scrolled": true
   },
   "outputs": [
    {
     "name": "stdout",
     "output_type": "stream",
     "text": [
      "Best score = 0.8153 using {'conv_activation': 'tanh', 'epochs': 10, 'pool_type': 'max'}\n",
      "mean test accuracy +/- std = 0.6558 +/- 0.0611 with: {'conv_activation': 'sigmoid', 'epochs': 10, 'pool_type': 'max'}\n",
      "mean test accuracy +/- std = 0.6566 +/- 0.0414 with: {'conv_activation': 'sigmoid', 'epochs': 10, 'pool_type': 'average'}\n",
      "mean test accuracy +/- std = 0.6407 +/- 0.0584 with: {'conv_activation': 'sigmoid', 'epochs': 7, 'pool_type': 'max'}\n",
      "mean test accuracy +/- std = 0.5887 +/- 0.2548 with: {'conv_activation': 'sigmoid', 'epochs': 7, 'pool_type': 'average'}\n",
      "mean test accuracy +/- std = 0.8153 +/- 0.1324 with: {'conv_activation': 'tanh', 'epochs': 10, 'pool_type': 'max'}\n",
      "mean test accuracy +/- std = 0.6407 +/- 0.0584 with: {'conv_activation': 'tanh', 'epochs': 10, 'pool_type': 'average'}\n",
      "mean test accuracy +/- std = 0.6407 +/- 0.0584 with: {'conv_activation': 'tanh', 'epochs': 7, 'pool_type': 'max'}\n",
      "mean test accuracy +/- std = 0.6566 +/- 0.0414 with: {'conv_activation': 'tanh', 'epochs': 7, 'pool_type': 'average'}\n",
      "mean test accuracy +/- std = 0.6861 +/- 0.0846 with: {'conv_activation': 'relu', 'epochs': 10, 'pool_type': 'max'}\n",
      "mean test accuracy +/- std = 0.7359 +/- 0.1886 with: {'conv_activation': 'relu', 'epochs': 10, 'pool_type': 'average'}\n",
      "mean test accuracy +/- std = 0.8124 +/- 0.0391 with: {'conv_activation': 'relu', 'epochs': 7, 'pool_type': 'max'}\n",
      "mean test accuracy +/- std = 0.7359 +/- 0.1886 with: {'conv_activation': 'relu', 'epochs': 7, 'pool_type': 'average'}\n"
     ]
    }
   ],
   "source": [
    "#Displays the best parameters found by the Gridsearch \n",
    "display_cv_results(grid_result)"
   ]
  },
  {
   "cell_type": "markdown",
   "metadata": {},
   "source": [
    "### Model"
   ]
  },
  {
   "cell_type": "code",
   "execution_count": 63,
   "metadata": {},
   "outputs": [],
   "source": [
    "#Final CNN model taking in some GridSearch into an account\n",
    "model = models.Sequential()\n",
    "\n",
    "model.add(layers.Conv2D(32, (3, 3), activation='relu',\n",
    "                        input_shape=(128, 128, 1)))\n",
    "model.add(layers.MaxPooling2D((2, 2)))\n",
    "model.add(layers.Conv2D(64, (3, 3), activation='tanh'))\n",
    "model.add(layers.MaxPooling2D((2, 2)))\n",
    "model.add(layers.Conv2D(128, (3, 3), activation='tanh'))\n",
    "model.add(layers.MaxPooling2D((2, 2)))\n",
    "model.add(layers.Flatten())\n",
    "model.add(layers.Dense(512, activation='relu'))\n",
    "model.add(layers.Dense(1, activation='sigmoid'))"
   ]
  },
  {
   "cell_type": "code",
   "execution_count": 64,
   "metadata": {},
   "outputs": [
    {
     "name": "stdout",
     "output_type": "stream",
     "text": [
      "Model: \"sequential_5\"\n",
      "_________________________________________________________________\n",
      "Layer (type)                 Output Shape              Param #   \n",
      "=================================================================\n",
      "conv2d_12 (Conv2D)           (None, 126, 126, 32)      320       \n",
      "_________________________________________________________________\n",
      "max_pooling2d_12 (MaxPooling (None, 63, 63, 32)        0         \n",
      "_________________________________________________________________\n",
      "conv2d_13 (Conv2D)           (None, 61, 61, 64)        18496     \n",
      "_________________________________________________________________\n",
      "max_pooling2d_13 (MaxPooling (None, 30, 30, 64)        0         \n",
      "_________________________________________________________________\n",
      "conv2d_14 (Conv2D)           (None, 28, 28, 128)       73856     \n",
      "_________________________________________________________________\n",
      "max_pooling2d_14 (MaxPooling (None, 14, 14, 128)       0         \n",
      "_________________________________________________________________\n",
      "flatten_4 (Flatten)          (None, 25088)             0         \n",
      "_________________________________________________________________\n",
      "dense_10 (Dense)             (None, 512)               12845568  \n",
      "_________________________________________________________________\n",
      "dense_11 (Dense)             (None, 1)                 513       \n",
      "=================================================================\n",
      "Total params: 12,938,753\n",
      "Trainable params: 12,938,753\n",
      "Non-trainable params: 0\n",
      "_________________________________________________________________\n"
     ]
    }
   ],
   "source": [
    "model.summary()"
   ]
  },
  {
   "cell_type": "code",
   "execution_count": 65,
   "metadata": {},
   "outputs": [],
   "source": [
    "#Compile\n",
    "model.compile(loss='binary_crossentropy',\n",
    "              optimizer=optimizers.RMSprop(lr=1e-4),\n",
    "              metrics=['accuracy'])"
   ]
  },
  {
   "cell_type": "code",
   "execution_count": 67,
   "metadata": {},
   "outputs": [
    {
     "name": "stdout",
     "output_type": "stream",
     "text": [
      "Epoch 1/40\n",
      "82/82 [==============================] - 64s 776ms/step - loss: 0.4303 - accuracy: 0.8779 - val_loss: 0.4646 - val_accuracy: 0.7500\n",
      "Epoch 2/40\n",
      "82/82 [==============================] - 68s 826ms/step - loss: 0.2270 - accuracy: 0.9404 - val_loss: 0.1930 - val_accuracy: 0.9375\n",
      "Epoch 3/40\n",
      "82/82 [==============================] - 79s 958ms/step - loss: 0.1806 - accuracy: 0.9530 - val_loss: 0.1635 - val_accuracy: 1.0000\n",
      "Epoch 4/40\n",
      "82/82 [==============================] - 89s 1s/step - loss: 0.1466 - accuracy: 0.9609 - val_loss: 0.1108 - val_accuracy: 1.0000\n",
      "Epoch 5/40\n",
      "82/82 [==============================] - 81s 989ms/step - loss: 0.1287 - accuracy: 0.9655 - val_loss: 0.3858 - val_accuracy: 0.8125\n",
      "Epoch 6/40\n",
      "82/82 [==============================] - 83s 1s/step - loss: 0.1097 - accuracy: 0.9705 - val_loss: 0.1029 - val_accuracy: 1.0000\n",
      "Epoch 7/40\n",
      "82/82 [==============================] - 89s 1s/step - loss: 0.0935 - accuracy: 0.9758 - val_loss: 0.0491 - val_accuracy: 1.0000\n",
      "Epoch 8/40\n",
      "82/82 [==============================] - 86s 1s/step - loss: 0.0866 - accuracy: 0.9789 - val_loss: 0.5590 - val_accuracy: 0.6875\n",
      "Epoch 9/40\n",
      "82/82 [==============================] - 85s 1s/step - loss: 0.0791 - accuracy: 0.9785 - val_loss: 0.0462 - val_accuracy: 1.0000\n",
      "Epoch 10/40\n",
      "82/82 [==============================] - 67s 815ms/step - loss: 0.0667 - accuracy: 0.9816 - val_loss: 0.1024 - val_accuracy: 0.9375\n",
      "Epoch 11/40\n",
      "82/82 [==============================] - 64s 780ms/step - loss: 0.0631 - accuracy: 0.9845 - val_loss: 0.2285 - val_accuracy: 0.8750\n",
      "Epoch 12/40\n",
      "82/82 [==============================] - 63s 769ms/step - loss: 0.0558 - accuracy: 0.9858 - val_loss: 0.1840 - val_accuracy: 0.8125\n",
      "Epoch 13/40\n",
      "82/82 [==============================] - 63s 763ms/step - loss: 0.0499 - accuracy: 0.9879 - val_loss: 0.3168 - val_accuracy: 0.8125\n",
      "Epoch 14/40\n",
      "82/82 [==============================] - 63s 764ms/step - loss: 0.0462 - accuracy: 0.9887 - val_loss: 0.0373 - val_accuracy: 1.0000\n",
      "Epoch 15/40\n",
      "82/82 [==============================] - 62s 762ms/step - loss: 0.0400 - accuracy: 0.9895 - val_loss: 0.4165 - val_accuracy: 0.7500\n",
      "Epoch 16/40\n",
      "82/82 [==============================] - 63s 766ms/step - loss: 0.0370 - accuracy: 0.9919 - val_loss: 0.0643 - val_accuracy: 0.9375\n",
      "Epoch 17/40\n",
      "82/82 [==============================] - 62s 759ms/step - loss: 0.0320 - accuracy: 0.9925 - val_loss: 0.5867 - val_accuracy: 0.7500\n",
      "Epoch 18/40\n",
      "82/82 [==============================] - 62s 761ms/step - loss: 0.0277 - accuracy: 0.9929 - val_loss: 0.2434 - val_accuracy: 0.8750\n",
      "Epoch 19/40\n",
      "82/82 [==============================] - 62s 762ms/step - loss: 0.0213 - accuracy: 0.9950 - val_loss: 0.0219 - val_accuracy: 1.0000\n",
      "Epoch 20/40\n",
      "82/82 [==============================] - 62s 759ms/step - loss: 0.0191 - accuracy: 0.9956 - val_loss: 0.1840 - val_accuracy: 0.9375\n",
      "Epoch 21/40\n",
      "82/82 [==============================] - 62s 761ms/step - loss: 0.0163 - accuracy: 0.9967 - val_loss: 0.2004 - val_accuracy: 0.9375\n",
      "Epoch 22/40\n",
      "82/82 [==============================] - 63s 762ms/step - loss: 0.0119 - accuracy: 0.9973 - val_loss: 0.3593 - val_accuracy: 0.8125\n",
      "Epoch 23/40\n",
      "82/82 [==============================] - 62s 761ms/step - loss: 0.0119 - accuracy: 0.9973 - val_loss: 0.6189 - val_accuracy: 0.6875\n",
      "Epoch 24/40\n",
      "82/82 [==============================] - 62s 760ms/step - loss: 0.0110 - accuracy: 0.9975 - val_loss: 0.3509 - val_accuracy: 0.8125\n",
      "Epoch 25/40\n",
      "82/82 [==============================] - 62s 759ms/step - loss: 0.0097 - accuracy: 0.9979 - val_loss: 0.1509 - val_accuracy: 0.9375\n",
      "Epoch 26/40\n",
      "82/82 [==============================] - 62s 762ms/step - loss: 0.0087 - accuracy: 0.9983 - val_loss: 0.2690 - val_accuracy: 0.8750\n",
      "Epoch 27/40\n",
      "82/82 [==============================] - 62s 760ms/step - loss: 0.0065 - accuracy: 0.9987 - val_loss: 0.2711 - val_accuracy: 0.9375\n",
      "Epoch 28/40\n",
      "82/82 [==============================] - 62s 758ms/step - loss: 0.0043 - accuracy: 0.9994 - val_loss: 0.1366 - val_accuracy: 0.9375\n",
      "Epoch 29/40\n",
      "82/82 [==============================] - 62s 758ms/step - loss: 0.0059 - accuracy: 0.9992 - val_loss: 0.1888 - val_accuracy: 0.9375\n",
      "Epoch 30/40\n",
      "82/82 [==============================] - 63s 768ms/step - loss: 0.0027 - accuracy: 0.9994 - val_loss: 0.0834 - val_accuracy: 0.9375\n",
      "Epoch 31/40\n",
      "82/82 [==============================] - 66s 802ms/step - loss: 0.0039 - accuracy: 0.9992 - val_loss: 0.4284 - val_accuracy: 0.8750\n",
      "Epoch 32/40\n",
      "82/82 [==============================] - 62s 757ms/step - loss: 0.0021 - accuracy: 0.9996 - val_loss: 0.6317 - val_accuracy: 0.7500\n",
      "Epoch 33/40\n",
      "82/82 [==============================] - 62s 757ms/step - loss: 0.0016 - accuracy: 0.9998 - val_loss: 0.3857 - val_accuracy: 0.8750\n",
      "Epoch 34/40\n",
      "82/82 [==============================] - 65s 787ms/step - loss: 0.0017 - accuracy: 0.9994 - val_loss: 0.2130 - val_accuracy: 0.9375\n",
      "Epoch 35/40\n",
      "82/82 [==============================] - 62s 760ms/step - loss: 0.0035 - accuracy: 0.9992 - val_loss: 0.4093 - val_accuracy: 0.8125\n",
      "Epoch 36/40\n",
      "82/82 [==============================] - 62s 762ms/step - loss: 0.0013 - accuracy: 0.9998 - val_loss: 0.3807 - val_accuracy: 0.8750\n",
      "Epoch 37/40\n",
      "82/82 [==============================] - 62s 759ms/step - loss: 0.0011 - accuracy: 0.9998 - val_loss: 0.1301 - val_accuracy: 0.9375\n",
      "Epoch 38/40\n",
      "82/82 [==============================] - 65s 795ms/step - loss: 0.0011 - accuracy: 1.0000 - val_loss: 0.1566 - val_accuracy: 0.9375\n",
      "Epoch 39/40\n",
      "82/82 [==============================] - 63s 772ms/step - loss: 9.4520e-04 - accuracy: 0.9998 - val_loss: 0.6673 - val_accuracy: 0.7500\n",
      "Epoch 40/40\n",
      "82/82 [==============================] - 62s 759ms/step - loss: 0.0023 - accuracy: 0.9992 - val_loss: 0.1685 - val_accuracy: 0.9375\n"
     ]
    }
   ],
   "source": [
    "#Final model fit\n",
    "history_cnn_final = model.fit(train_generator, \n",
    "                    epochs = 40,\n",
    "                    class_weight = {0: 3., 1: 1.},\n",
    "                    validation_data=val_generator)"
   ]
  },
  {
   "cell_type": "markdown",
   "metadata": {},
   "source": [
    "### Results"
   ]
  },
  {
   "cell_type": "code",
   "execution_count": 68,
   "metadata": {
    "scrolled": false
   },
   "outputs": [
    {
     "data": {
      "image/png": "[encoded data removed]",
      "text/plain": [
       "<Figure size 432x288 with 1 Axes>"
      ]
     },
     "metadata": {},
     "output_type": "display_data"
    },
    {
     "data": {
      "image/png": "[encoded data removed]",
      "text/plain": [
       "<Figure size 432x288 with 1 Axes>"
      ]
     },
     "metadata": {},
     "output_type": "display_data"
    }
   ],
   "source": [
    "model_graphs(history_cnn_final)"
   ]
  },
  {
   "cell_type": "code",
   "execution_count": 76,
   "metadata": {},
   "outputs": [],
   "source": [
    "model.save('Chest_X-ray_final_cnn.h5')"
   ]
  },
  {
   "cell_type": "markdown",
   "metadata": {},
   "source": [
    "## Conclusion "
   ]
  },
  {
   "cell_type": "markdown",
   "metadata": {},
   "source": [
    "In the final model at epoch 20 we achieved a model accuracy of 0.9956 with a loss of 0.0191. Whereas the validation accuracy is 0.9375 with a validation loss of 0.1840. Anything further epochs leads to similar trend and greater chance of overfitting. Our validation loss in not ideal we would like to see it closer to the training loss which could be helped with more data in our batch sizes but do to time restraints we could not do this but could in future work to improve our model further. "
   ]
  },
  {
   "cell_type": "code",
   "execution_count": null,
   "metadata": {},
   "outputs": [],
   "source": [
    "h"
   ]
  },
  {
   "cell_type": "markdown",
   "metadata": {},
   "source": [
    "## Play Testing"
   ]
  },
  {
   "cell_type": "markdown",
   "metadata": {
    "heading_collapsed": true
   },
   "source": [
    "#### *Augmentation Generator Dataset (Unused)"
   ]
  },
  {
   "cell_type": "markdown",
   "metadata": {
    "hidden": true
   },
   "source": [
    "Both the train set and test has a severe class imbalance so we will need to preform some data augmentation to create more normal images to match the number of pneumonia images. Whereas the validation set is equal so it will not need any adjustment."
   ]
  },
  {
   "cell_type": "code",
   "execution_count": 51,
   "metadata": {
    "hidden": true
   },
   "outputs": [],
   "source": [
    "# train_aug_gen = ImageDataGenerator(rescale=1./255, \n",
    "#                                    rotation_range=30, \n",
    "#                                    width_shift_range=0.3, \n",
    "#                                    height_shift_range=0.2, \n",
    "#                                    zoom_range=0.2, \n",
    "#                                    vertical_flip=True)"
   ]
  },
  {
   "cell_type": "code",
   "execution_count": 52,
   "metadata": {
    "hidden": true
   },
   "outputs": [],
   "source": [
    "# test_aug_gen = ImageDataGenerator(rescale=1./255, \n",
    "#                                    rotation_range=30, \n",
    "#                                    width_shift_range=0.3, \n",
    "#                                    height_shift_range=0.2,  \n",
    "#                                    zoom_range=0.2, \n",
    "#                                    vertical_flip=True)"
   ]
  },
  {
   "cell_type": "code",
   "execution_count": 53,
   "metadata": {
    "hidden": true,
    "scrolled": true
   },
   "outputs": [],
   "source": [
    "# #Get all the data in each generator and reshaping the images\n",
    "# train_generator = train_aug_gen.flow_from_directory(\n",
    "#         train_data_dir, \n",
    "#         target_size=(128, 128), \n",
    "#         color_mode = 'grayscale', \n",
    "#         batch_size=500)\n",
    "\n",
    "# test_generator = test_aug_gen.flow_from_directory(\n",
    "#         test_data_dir, \n",
    "#         target_size=(128, 128), \n",
    "#         color_mode = 'grayscale', \n",
    "#         batch_size=6)\n",
    "\n",
    "# val_generator = ImageDataGenerator(rescale = 1./255).flow_from_directory(\n",
    "#         val_data_dir, \n",
    "#         target_size=(128, 128), \n",
    "#         color_mode = 'grayscale',\n",
    "#         batch_size=4)"
   ]
  },
  {
   "cell_type": "code",
   "execution_count": 54,
   "metadata": {
    "hidden": true
   },
   "outputs": [],
   "source": [
    "# train_images, train_labels = next(train_generator)\n",
    "# test_images, test_labels = next(test_generator)\n",
    "# val_images, val_labels = next(val_generator)"
   ]
  },
  {
   "cell_type": "code",
   "execution_count": 55,
   "metadata": {
    "hidden": true
   },
   "outputs": [],
   "source": [
    "# imbalance_graphs(train_labels)"
   ]
  },
  {
   "cell_type": "code",
   "execution_count": 56,
   "metadata": {
    "hidden": true
   },
   "outputs": [],
   "source": [
    "# imbalance_graphs(test_labels)"
   ]
  },
  {
   "cell_type": "markdown",
   "metadata": {
    "heading_collapsed": true
   },
   "source": [
    "#### Model"
   ]
  },
  {
   "cell_type": "code",
   "execution_count": 57,
   "metadata": {
    "hidden": true
   },
   "outputs": [],
   "source": [
    "# model = models.Sequential()\n",
    "# model.add(layers.Conv2D(32, (3, 3), activation='relu',\n",
    "#                         input_shape=(128, 128,  1)))\n",
    "# model.add(layers.MaxPooling2D((2, 2)))\n",
    "\n",
    "# model.add(layers.Conv2D(32, (4, 4), activation='relu'))\n",
    "# model.add(layers.MaxPooling2D((2, 2)))\n",
    "\n",
    "# model.add(layers.Conv2D(64, (3, 3), activation='relu'))\n",
    "# model.add(layers.MaxPooling2D((2, 2)))\n",
    "\n",
    "# model.add(layers.Flatten())\n",
    "# model.add(layers.Dense(64, activation='relu'))\n",
    "# model.add(layers.Dense(1, activation='sigmoid'))\n",
    "\n",
    "# model.compile(loss='binary_crossentropy',\n",
    "#               optimizer= 'sgd',\n",
    "#               metrics=['accuracy'])"
   ]
  },
  {
   "cell_type": "code",
   "execution_count": 58,
   "metadata": {
    "hidden": true,
    "scrolled": false
   },
   "outputs": [],
   "source": [
    "# model.summary()"
   ]
  },
  {
   "cell_type": "code",
   "execution_count": 59,
   "metadata": {
    "hidden": true,
    "scrolled": true
   },
   "outputs": [],
   "source": [
    "# history_da = model.fit(test_generator,\n",
    "#                     epochs= 50, \n",
    "#                     class_weight = {0: 2., 1: 1.},\n",
    "#                     validation_data=val_generator) "
   ]
  },
  {
   "cell_type": "markdown",
   "metadata": {
    "heading_collapsed": true
   },
   "source": [
    "#### Results"
   ]
  },
  {
   "cell_type": "code",
   "execution_count": 60,
   "metadata": {
    "hidden": true,
    "scrolled": true
   },
   "outputs": [],
   "source": [
    "# model_results(X_train, y_train, X_test, y_test)"
   ]
  },
  {
   "cell_type": "code",
   "execution_count": 61,
   "metadata": {
    "hidden": true
   },
   "outputs": [],
   "source": [
    "# model_graphs(history_da)"
   ]
  }
 ],
 "metadata": {
  "kernelspec": {
   "display_name": "Python 3",
   "language": "python",
   "name": "python3"
  },
  "language_info": {
   "codemirror_mode": {
    "name": "ipython",
    "version": 3
   },
   "file_extension": ".py",
   "mimetype": "text/x-python",
   "name": "python",
   "nbconvert_exporter": "python",
   "pygments_lexer": "ipython3",
   "version": "3.8.5"
  },
  "toc": {
   "base_numbering": 1,
   "nav_menu": {},
   "number_sections": true,
   "sideBar": true,
   "skip_h1_title": false,
   "title_cell": "Table of Contents",
   "title_sidebar": "Contents",
   "toc_cell": false,
   "toc_position": {
    "height": "calc(100% - 180px)",
    "left": "10px",
    "top": "150px",
    "width": "318px"
   },
   "toc_section_display": true,
   "toc_window_display": true
  }
 },
 "nbformat": 4,
 "nbformat_minor": 4
}
