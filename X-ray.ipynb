{
 "cells": [
  {
   "cell_type": "markdown",
   "metadata": {},
   "source": [
    "Chest X-Ray Image Classification"
   ]
  },
  {
   "cell_type": "markdown",
   "metadata": {},
   "source": [
    "## Importing Libraries and Loading Images"
   ]
  },
  {
   "cell_type": "markdown",
   "metadata": {},
   "source": [
    "### Libraries"
   ]
  },
  {
   "cell_type": "code",
   "execution_count": 1,
   "metadata": {},
   "outputs": [],
   "source": [
    "#Import necessary libraries\n",
    "import numpy as np\n",
    "import matplotlib.pyplot as plt\n",
    "import seaborn as sns\n",
    "sns.set_style(\"darkgrid\")\n",
    "from sklearn.model_selection import train_test_split\n",
    "import keras\n",
    "from keras import models\n",
    "from keras import layers\n",
    "from keras import optimizers\n",
    "from keras.preprocessing.image import ImageDataGenerator, array_to_img, img_to_array, load_img\n",
    "import os"
   ]
  },
  {
   "cell_type": "markdown",
   "metadata": {},
   "source": [
    "### Load Images"
   ]
  },
  {
   "cell_type": "code",
   "execution_count": 2,
   "metadata": {},
   "outputs": [],
   "source": [
    "#Directory path\n",
    "train_data_dir = 'chest_xray/train/'\n",
    "test_data_dir = 'chest_xray/test/'\n",
    "val_data_dir = 'chest_xray/val/'"
   ]
  },
  {
   "cell_type": "code",
   "execution_count": 26,
   "metadata": {},
   "outputs": [
    {
     "name": "stdout",
     "output_type": "stream",
     "text": [
      "Found 5216 images belonging to 2 classes.\n",
      "Found 624 images belonging to 2 classes.\n",
      "Found 16 images belonging to 2 classes.\n"
     ]
    }
   ],
   "source": [
    "#Get all the data in each generator and reshaping the images\n",
    "train_generator = ImageDataGenerator(rescale = 1./255).flow_from_directory(\n",
    "        train_data_dir, \n",
    "        target_size=(128, 128), \n",
    "        color_mode = 'grayscale', \n",
    "        batch_size=5216)\n",
    "\n",
    "test_generator = ImageDataGenerator(rescale = 1./255).flow_from_directory(\n",
    "        test_data_dir, \n",
    "        target_size=(128, 128), \n",
    "        color_mode = 'grayscale', \n",
    "        batch_size=624)\n",
    "\n",
    "val_generator = ImageDataGenerator(rescale = 1./255).flow_from_directory(\n",
    "        val_data_dir, \n",
    "        target_size=(128, 128), \n",
    "        color_mode = 'grayscale',\n",
    "        batch_size=16)"
   ]
  },
  {
   "cell_type": "code",
   "execution_count": 27,
   "metadata": {},
   "outputs": [],
   "source": [
    "#Create the datasets\n",
    "train_images, train_labels = next(train_generator)\n",
    "test_images, test_labels = next(test_generator)\n",
    "val_images, val_labels = next(val_generator)"
   ]
  },
  {
   "cell_type": "markdown",
   "metadata": {},
   "source": [
    "### Previewing Images"
   ]
  },
  {
   "cell_type": "code",
   "execution_count": 28,
   "metadata": {},
   "outputs": [
    {
     "data": {
      "image/png": "[encoded data removed]",
      "text/plain": [
       "<PIL.Image.Image image mode=L size=128x128 at 0x1E0786D0B08>"
      ]
     },
     "execution_count": 28,
     "metadata": {},
     "output_type": "execute_result"
    }
   ],
   "source": [
    "array_to_img(train_images[10])"
   ]
  },
  {
   "cell_type": "code",
   "execution_count": 29,
   "metadata": {},
   "outputs": [
    {
     "data": {
      "image/png": "[encoded data removed]",
      "text/plain": [
       "<PIL.Image.Image image mode=L size=128x128 at 0x1E07C225B88>"
      ]
     },
     "execution_count": 29,
     "metadata": {},
     "output_type": "execute_result"
    }
   ],
   "source": [
    "array_to_img(train_images[72])"
   ]
  },
  {
   "cell_type": "markdown",
   "metadata": {},
   "source": [
    "## Images and Labels"
   ]
  },
  {
   "cell_type": "code",
   "execution_count": 30,
   "metadata": {},
   "outputs": [
    {
     "name": "stdout",
     "output_type": "stream",
     "text": [
      "Number of training samples: 5216\n",
      "Number of testing samples: 624\n",
      "Number of validation samples: 16\n",
      "train_images shape: (5216, 128, 128, 1)\n",
      "train_labels shape: (5216, 2)\n",
      "test_images shape: (624, 128, 128, 1)\n",
      "test_labels shape: (624, 2)\n",
      "val_images shape: (16, 128, 128, 1)\n",
      "val_labels shape: (16, 2)\n"
     ]
    }
   ],
   "source": [
    "#exploring the data set\n",
    "train_ex = train_images.shape[0]\n",
    "num_px = train_images.shape[1]\n",
    "test_ex = test_images.shape[0]\n",
    "val_ex = val_images.shape[0]\n",
    "\n",
    "print (\"Number of training samples: \" + str(train_ex))\n",
    "print (\"Number of testing samples: \" + str(test_ex))\n",
    "print (\"Number of validation samples: \" + str(val_ex))\n",
    "print (\"train_images shape: \" + str(train_images.shape))\n",
    "print (\"train_labels shape: \" + str(train_labels.shape))\n",
    "print (\"test_images shape: \" + str(test_images.shape))\n",
    "print (\"test_labels shape: \" + str(test_labels.shape))\n",
    "print (\"val_images shape: \" + str(val_images.shape))\n",
    "print (\"val_labels shape: \" + str(val_labels.shape))"
   ]
  },
  {
   "cell_type": "markdown",
   "metadata": {},
   "source": [
    ">Images"
   ]
  },
  {
   "cell_type": "code",
   "execution_count": 31,
   "metadata": {},
   "outputs": [],
   "source": [
    "#Reshaping the images\n",
    "# train_images = train_images.reshape(500, -1).T\n",
    "# test_images = test_images.reshape(125, -1).T\n",
    "# val_images = val_images.reshape(8, -1).T"
   ]
  },
  {
   "cell_type": "code",
   "execution_count": 32,
   "metadata": {},
   "outputs": [],
   "source": [
    "#Reshaping the images\n",
    "train_images = train_images.reshape(train_images.shape[0], -1)\n",
    "test_images = test_images.reshape(test_images.shape[0], -1)\n",
    "val_images = val_images.reshape(val_images.shape[0], -1)"
   ]
  },
  {
   "cell_type": "code",
   "execution_count": 33,
   "metadata": {},
   "outputs": [
    {
     "name": "stdout",
     "output_type": "stream",
     "text": [
      "Train Images: (5216, 16384)\n",
      "Test Images: (624, 16384)\n",
      "Validation Images: (16, 16384)\n"
     ]
    }
   ],
   "source": [
    "#Previewing the shape of train_images_unrow\n",
    "print('Train Images:',np.shape(train_images))\n",
    "print('Test Images:',np.shape(test_images))\n",
    "print('Validation Images:',np.shape(val_images))"
   ]
  },
  {
   "cell_type": "markdown",
   "metadata": {},
   "source": [
    ">Labels"
   ]
  },
  {
   "cell_type": "code",
   "execution_count": 34,
   "metadata": {
    "scrolled": true
   },
   "outputs": [
    {
     "data": {
      "text/plain": [
       "array([[0., 1.],\n",
       "       [0., 1.],\n",
       "       [0., 1.],\n",
       "       ...,\n",
       "       [0., 1.],\n",
       "       [1., 0.],\n",
       "       [0., 1.]], dtype=float32)"
      ]
     },
     "execution_count": 34,
     "metadata": {},
     "output_type": "execute_result"
    }
   ],
   "source": [
    "train_labels"
   ]
  },
  {
   "cell_type": "code",
   "execution_count": 35,
   "metadata": {},
   "outputs": [
    {
     "data": {
      "text/plain": [
       "{'NORMAL': 0, 'PNEUMONIA': 1}"
      ]
     },
     "execution_count": 35,
     "metadata": {},
     "output_type": "execute_result"
    }
   ],
   "source": [
    "train_generator.class_indices"
   ]
  },
  {
   "cell_type": "code",
   "execution_count": 36,
   "metadata": {},
   "outputs": [],
   "source": [
    "# train_labels_final = train_labels.T[[1]]\n",
    "# test_labels_final = test_labels.T[[1]]\n",
    "# val_labels_final = val_labels.T[[1]]"
   ]
  },
  {
   "cell_type": "code",
   "execution_count": 37,
   "metadata": {},
   "outputs": [],
   "source": [
    "train_l = np.reshape(train_labels[:,0], (5216,1))\n",
    "test_l= np.reshape(test_labels[:,0], (624,1))\n",
    "val_l = np.reshape(val_labels[:,0], (16,1))"
   ]
  },
  {
   "cell_type": "code",
   "execution_count": 38,
   "metadata": {},
   "outputs": [
    {
     "name": "stdout",
     "output_type": "stream",
     "text": [
      "Train Labels: (5216, 1)\n",
      "Test Labels: (624, 1)\n",
      "Validation Labels: (16, 1)\n"
     ]
    }
   ],
   "source": [
    "print('Train Labels:',np.shape(train_l))\n",
    "print('Test Labels:',np.shape(test_l))\n",
    "print('Validation Labels:',np.shape(val_l))"
   ]
  },
  {
   "cell_type": "markdown",
   "metadata": {},
   "source": [
    "Standardizing the Data"
   ]
  },
  {
   "cell_type": "code",
   "execution_count": null,
   "metadata": {},
   "outputs": [],
   "source": []
  },
  {
   "cell_type": "markdown",
   "metadata": {},
   "source": [
    "Train Test Split"
   ]
  },
  {
   "cell_type": "code",
   "execution_count": null,
   "metadata": {},
   "outputs": [],
   "source": []
  },
  {
   "cell_type": "code",
   "execution_count": null,
   "metadata": {},
   "outputs": [],
   "source": []
  },
  {
   "cell_type": "code",
   "execution_count": null,
   "metadata": {},
   "outputs": [],
   "source": []
  },
  {
   "cell_type": "markdown",
   "metadata": {},
   "source": [
    "## Baseline Model"
   ]
  },
  {
   "cell_type": "code",
   "execution_count": 39,
   "metadata": {},
   "outputs": [],
   "source": [
    "# Build a baseline fully connected model\n",
    "np.random.seed(42)\n",
    "model = models.Sequential()\n",
    "model.add(layers.Dense(15, activation='relu', input_shape=(16384,))) # 1 hidden layers\n",
    "model.add(layers.Dense(8, activation='relu'))\n",
    "model.add(layers.Dense(8, activation='relu'))\n",
    "model.add(layers.Dense(1, activation='sigmoid'))"
   ]
  },
  {
   "cell_type": "code",
   "execution_count": 40,
   "metadata": {},
   "outputs": [],
   "source": [
    "#Creating a Compile\n",
    "model.compile(optimizer='sgd',\n",
    "              loss='binary_crossentropy',\n",
    "              metrics=['acc'])"
   ]
  },
  {
   "cell_type": "code",
   "execution_count": 41,
   "metadata": {},
   "outputs": [
    {
     "name": "stdout",
     "output_type": "stream",
     "text": [
      "Epoch 1/100\n",
      "66/66 [==============================] - 1s 6ms/step - loss: 0.7356 - acc: 0.6029 - val_loss: 0.6984 - val_acc: 0.5000\n",
      "Epoch 2/100\n",
      "66/66 [==============================] - 0s 4ms/step - loss: 0.6410 - acc: 0.7415 - val_loss: 0.7104 - val_acc: 0.5000\n",
      "Epoch 3/100\n",
      "66/66 [==============================] - 0s 4ms/step - loss: 0.6144 - acc: 0.7437 - val_loss: 0.7255 - val_acc: 0.5000\n",
      "Epoch 4/100\n",
      "66/66 [==============================] - 0s 4ms/step - loss: 0.6015 - acc: 0.7363 - val_loss: 0.7396 - val_acc: 0.5000\n",
      "Epoch 5/100\n",
      "66/66 [==============================] - 0s 4ms/step - loss: 0.5904 - acc: 0.7388 - val_loss: 0.7547 - val_acc: 0.5000\n",
      "Epoch 6/100\n",
      "66/66 [==============================] - 0s 4ms/step - loss: 0.5864 - acc: 0.7357 - val_loss: 0.7669 - val_acc: 0.5000\n",
      "Epoch 7/100\n",
      "66/66 [==============================] - 0s 5ms/step - loss: 0.5729 - acc: 0.7478 - val_loss: 0.7772 - val_acc: 0.5000\n",
      "Epoch 8/100\n",
      "66/66 [==============================] - 0s 4ms/step - loss: 0.5802 - acc: 0.7353 - val_loss: 0.7856 - val_acc: 0.5000\n",
      "Epoch 9/100\n",
      "66/66 [==============================] - 0s 4ms/step - loss: 0.5648 - acc: 0.7471 - val_loss: 0.7814 - val_acc: 0.5000\n",
      "Epoch 10/100\n",
      "66/66 [==============================] - 0s 4ms/step - loss: 0.5581 - acc: 0.7387 - val_loss: 0.6938 - val_acc: 0.5000\n",
      "Epoch 11/100\n",
      "66/66 [==============================] - 0s 5ms/step - loss: 0.5045 - acc: 0.7616 - val_loss: 0.5859 - val_acc: 0.6875\n",
      "Epoch 12/100\n",
      "66/66 [==============================] - 0s 4ms/step - loss: 0.4600 - acc: 0.8437 - val_loss: 0.5509 - val_acc: 0.7500\n",
      "Epoch 13/100\n",
      "66/66 [==============================] - 0s 4ms/step - loss: 0.3899 - acc: 0.8914 - val_loss: 1.0820 - val_acc: 0.5000\n",
      "Epoch 14/100\n",
      "66/66 [==============================] - 0s 4ms/step - loss: 0.4314 - acc: 0.8465 - val_loss: 0.4567 - val_acc: 0.8125\n",
      "Epoch 15/100\n",
      "66/66 [==============================] - 0s 4ms/step - loss: 0.3021 - acc: 0.9239 - val_loss: 0.4414 - val_acc: 0.7500\n",
      "Epoch 16/100\n",
      "66/66 [==============================] - 0s 4ms/step - loss: 0.3184 - acc: 0.8945 - val_loss: 0.3542 - val_acc: 0.8750\n",
      "Epoch 17/100\n",
      "66/66 [==============================] - 0s 4ms/step - loss: 0.2741 - acc: 0.9142 - val_loss: 0.3399 - val_acc: 0.9375\n",
      "Epoch 18/100\n",
      "66/66 [==============================] - 0s 4ms/step - loss: 0.2492 - acc: 0.9249 - val_loss: 0.8068 - val_acc: 0.6250\n",
      "Epoch 19/100\n",
      "66/66 [==============================] - 0s 4ms/step - loss: 0.6245 - acc: 0.7499 - val_loss: 0.3484 - val_acc: 0.8750\n",
      "Epoch 20/100\n",
      "66/66 [==============================] - 0s 4ms/step - loss: 0.2462 - acc: 0.9275 - val_loss: 0.4717 - val_acc: 0.7500\n",
      "Epoch 21/100\n",
      "66/66 [==============================] - 0s 4ms/step - loss: 0.2254 - acc: 0.9334 - val_loss: 0.7712 - val_acc: 0.6250\n",
      "Epoch 22/100\n",
      "66/66 [==============================] - 0s 4ms/step - loss: 0.2239 - acc: 0.9318 - val_loss: 0.3794 - val_acc: 0.8125\n",
      "Epoch 23/100\n",
      "66/66 [==============================] - 0s 4ms/step - loss: 0.2508 - acc: 0.9167 - val_loss: 0.3145 - val_acc: 0.9375\n",
      "Epoch 24/100\n",
      "66/66 [==============================] - 0s 4ms/step - loss: 0.1836 - acc: 0.9441 - val_loss: 0.8712 - val_acc: 0.5625\n",
      "Epoch 25/100\n",
      "66/66 [==============================] - 0s 4ms/step - loss: 0.1881 - acc: 0.9421 - val_loss: 0.2954 - val_acc: 0.9375\n",
      "Epoch 26/100\n",
      "66/66 [==============================] - 0s 4ms/step - loss: 0.1868 - acc: 0.9406 - val_loss: 0.3522 - val_acc: 0.8750\n",
      "Epoch 27/100\n",
      "66/66 [==============================] - 0s 4ms/step - loss: 0.1727 - acc: 0.9459 - val_loss: 0.4329 - val_acc: 0.7500\n",
      "Epoch 28/100\n",
      "66/66 [==============================] - 0s 4ms/step - loss: 0.2867 - acc: 0.8974 - val_loss: 0.2829 - val_acc: 0.9375\n",
      "Epoch 29/100\n",
      "66/66 [==============================] - 0s 4ms/step - loss: 0.1690 - acc: 0.9483 - val_loss: 0.7897 - val_acc: 0.6875\n",
      "Epoch 30/100\n",
      "66/66 [==============================] - 0s 4ms/step - loss: 0.2531 - acc: 0.9119 - val_loss: 0.3000 - val_acc: 0.9375\n",
      "Epoch 31/100\n",
      "66/66 [==============================] - 0s 4ms/step - loss: 0.1713 - acc: 0.9416 - val_loss: 0.6852 - val_acc: 0.6250\n",
      "Epoch 32/100\n",
      "66/66 [==============================] - 0s 4ms/step - loss: 0.1575 - acc: 0.9428 - val_loss: 0.2819 - val_acc: 0.9375\n",
      "Epoch 33/100\n",
      "66/66 [==============================] - 0s 4ms/step - loss: 0.1680 - acc: 0.9409 - val_loss: 0.2463 - val_acc: 0.8750\n",
      "Epoch 34/100\n",
      "66/66 [==============================] - 0s 4ms/step - loss: 0.1496 - acc: 0.9514 - val_loss: 0.2680 - val_acc: 0.9375\n",
      "Epoch 35/100\n",
      "66/66 [==============================] - 0s 4ms/step - loss: 0.1414 - acc: 0.9508 - val_loss: 0.2468 - val_acc: 0.9375\n",
      "Epoch 36/100\n",
      "66/66 [==============================] - 0s 4ms/step - loss: 0.1366 - acc: 0.9544 - val_loss: 0.2726 - val_acc: 0.9375\n",
      "Epoch 37/100\n",
      "66/66 [==============================] - 0s 4ms/step - loss: 0.1336 - acc: 0.9566 - val_loss: 0.6625 - val_acc: 0.6875\n",
      "Epoch 38/100\n",
      "66/66 [==============================] - 0s 4ms/step - loss: 0.1459 - acc: 0.9455 - val_loss: 0.4382 - val_acc: 0.8125\n",
      "Epoch 39/100\n",
      "66/66 [==============================] - 0s 4ms/step - loss: 0.1410 - acc: 0.9533 - val_loss: 0.2549 - val_acc: 0.9375\n",
      "Epoch 40/100\n",
      "66/66 [==============================] - 0s 4ms/step - loss: 0.1456 - acc: 0.9513 - val_loss: 0.2194 - val_acc: 0.9375\n",
      "Epoch 41/100\n",
      "66/66 [==============================] - 0s 4ms/step - loss: 0.1378 - acc: 0.9513 - val_loss: 0.9476 - val_acc: 0.6250\n",
      "Epoch 42/100\n",
      "66/66 [==============================] - 0s 5ms/step - loss: 0.1652 - acc: 0.9396 - val_loss: 0.3914 - val_acc: 0.8750\n",
      "Epoch 43/100\n",
      "66/66 [==============================] - 0s 4ms/step - loss: 0.1175 - acc: 0.9608 - val_loss: 0.4102 - val_acc: 0.8750\n",
      "Epoch 44/100\n",
      "66/66 [==============================] - 0s 4ms/step - loss: 0.1238 - acc: 0.9591 - val_loss: 0.3256 - val_acc: 0.8125\n",
      "Epoch 45/100\n",
      "66/66 [==============================] - 0s 4ms/step - loss: 0.1676 - acc: 0.9352 - val_loss: 1.3536 - val_acc: 0.5625\n",
      "Epoch 46/100\n",
      "66/66 [==============================] - 0s 4ms/step - loss: 0.1488 - acc: 0.9501 - val_loss: 0.2335 - val_acc: 0.8125\n",
      "Epoch 47/100\n",
      "66/66 [==============================] - 0s 4ms/step - loss: 0.1250 - acc: 0.9575 - val_loss: 0.2064 - val_acc: 0.9375\n",
      "Epoch 48/100\n",
      "66/66 [==============================] - 0s 4ms/step - loss: 0.1433 - acc: 0.9455 - val_loss: 0.3855 - val_acc: 0.8750\n",
      "Epoch 49/100\n",
      "66/66 [==============================] - 0s 4ms/step - loss: 0.1141 - acc: 0.9602 - val_loss: 0.3433 - val_acc: 0.8750\n",
      "Epoch 50/100\n",
      "66/66 [==============================] - 0s 4ms/step - loss: 0.1149 - acc: 0.9601 - val_loss: 0.2118 - val_acc: 0.9375\n",
      "Epoch 51/100\n",
      "66/66 [==============================] - 0s 4ms/step - loss: 0.1194 - acc: 0.9605 - val_loss: 0.2500 - val_acc: 0.9375\n",
      "Epoch 52/100\n",
      "66/66 [==============================] - 0s 4ms/step - loss: 0.1219 - acc: 0.9619 - val_loss: 0.4708 - val_acc: 0.8125\n",
      "Epoch 53/100\n",
      "66/66 [==============================] - 0s 4ms/step - loss: 0.1111 - acc: 0.9627 - val_loss: 0.7347 - val_acc: 0.6875\n",
      "Epoch 54/100\n",
      "66/66 [==============================] - 0s 4ms/step - loss: 0.1477 - acc: 0.9451 - val_loss: 1.0088 - val_acc: 0.6250\n",
      "Epoch 55/100\n",
      "66/66 [==============================] - 0s 4ms/step - loss: 0.1381 - acc: 0.9490 - val_loss: 0.2040 - val_acc: 0.9375\n",
      "Epoch 56/100\n",
      "66/66 [==============================] - 0s 4ms/step - loss: 0.1112 - acc: 0.9620 - val_loss: 0.2138 - val_acc: 0.9375\n",
      "Epoch 57/100\n",
      "66/66 [==============================] - 0s 4ms/step - loss: 0.1253 - acc: 0.9565 - val_loss: 0.2272 - val_acc: 0.9375\n",
      "Epoch 58/100\n",
      "66/66 [==============================] - 0s 4ms/step - loss: 0.1241 - acc: 0.9593 - val_loss: 0.8393 - val_acc: 0.6250\n",
      "Epoch 59/100\n",
      "66/66 [==============================] - 0s 4ms/step - loss: 0.1227 - acc: 0.9570 - val_loss: 0.4844 - val_acc: 0.8125\n",
      "Epoch 60/100\n",
      "66/66 [==============================] - 0s 4ms/step - loss: 0.1144 - acc: 0.9579 - val_loss: 0.7023 - val_acc: 0.6875\n",
      "Epoch 61/100\n",
      "66/66 [==============================] - 0s 4ms/step - loss: 0.1164 - acc: 0.9578 - val_loss: 0.1825 - val_acc: 0.9375\n",
      "Epoch 62/100\n",
      "66/66 [==============================] - 0s 4ms/step - loss: 0.1162 - acc: 0.9600 - val_loss: 0.3179 - val_acc: 0.9375\n",
      "Epoch 63/100\n"
     ]
    },
    {
     "name": "stdout",
     "output_type": "stream",
     "text": [
      "66/66 [==============================] - 0s 4ms/step - loss: 0.1123 - acc: 0.9597 - val_loss: 0.4646 - val_acc: 0.8750\n",
      "Epoch 64/100\n",
      "66/66 [==============================] - 0s 4ms/step - loss: 0.1190 - acc: 0.9604 - val_loss: 0.1856 - val_acc: 0.9375\n",
      "Epoch 65/100\n",
      "66/66 [==============================] - 0s 4ms/step - loss: 0.1058 - acc: 0.9632 - val_loss: 0.4807 - val_acc: 0.8125\n",
      "Epoch 66/100\n",
      "66/66 [==============================] - 0s 4ms/step - loss: 0.1211 - acc: 0.9519 - val_loss: 0.2843 - val_acc: 0.9375\n",
      "Epoch 67/100\n",
      "66/66 [==============================] - 0s 4ms/step - loss: 0.1361 - acc: 0.9539 - val_loss: 0.2316 - val_acc: 0.8750\n",
      "Epoch 68/100\n",
      "66/66 [==============================] - 0s 4ms/step - loss: 0.1503 - acc: 0.9407 - val_loss: 0.3437 - val_acc: 0.8750\n",
      "Epoch 69/100\n",
      "66/66 [==============================] - 0s 4ms/step - loss: 0.0961 - acc: 0.9670 - val_loss: 0.5416 - val_acc: 0.7500\n",
      "Epoch 70/100\n",
      "66/66 [==============================] - 0s 4ms/step - loss: 0.1383 - acc: 0.9490 - val_loss: 0.7116 - val_acc: 0.6875\n",
      "Epoch 71/100\n",
      "66/66 [==============================] - 0s 4ms/step - loss: 0.1091 - acc: 0.9580 - val_loss: 0.2097 - val_acc: 0.9375\n",
      "Epoch 72/100\n",
      "66/66 [==============================] - 0s 5ms/step - loss: 0.1016 - acc: 0.9678 - val_loss: 0.6120 - val_acc: 0.6875\n",
      "Epoch 73/100\n",
      "66/66 [==============================] - 0s 4ms/step - loss: 0.1107 - acc: 0.9599 - val_loss: 0.4013 - val_acc: 0.8750\n",
      "Epoch 74/100\n",
      "66/66 [==============================] - 0s 4ms/step - loss: 0.1059 - acc: 0.9620 - val_loss: 0.2164 - val_acc: 0.9375\n",
      "Epoch 75/100\n",
      "66/66 [==============================] - 0s 4ms/step - loss: 0.1093 - acc: 0.9611 - val_loss: 0.1760 - val_acc: 0.9375\n",
      "Epoch 76/100\n",
      "66/66 [==============================] - 0s 4ms/step - loss: 0.1216 - acc: 0.9519 - val_loss: 0.1938 - val_acc: 0.8750\n",
      "Epoch 77/100\n",
      "66/66 [==============================] - 0s 4ms/step - loss: 0.1008 - acc: 0.9667 - val_loss: 1.2866 - val_acc: 0.5625\n",
      "Epoch 78/100\n",
      "66/66 [==============================] - 0s 4ms/step - loss: 0.1422 - acc: 0.9451 - val_loss: 0.3710 - val_acc: 0.8750\n",
      "Epoch 79/100\n",
      "66/66 [==============================] - 0s 4ms/step - loss: 0.0971 - acc: 0.9622 - val_loss: 0.5210 - val_acc: 0.7500\n",
      "Epoch 80/100\n",
      "66/66 [==============================] - 0s 4ms/step - loss: 0.0938 - acc: 0.9652 - val_loss: 0.2721 - val_acc: 0.9375\n",
      "Epoch 81/100\n",
      "66/66 [==============================] - 0s 4ms/step - loss: 0.3641 - acc: 0.8837 - val_loss: 2.1278 - val_acc: 0.5000\n",
      "Epoch 82/100\n",
      "66/66 [==============================] - 0s 5ms/step - loss: 0.8235 - acc: 0.7903 - val_loss: 0.7319 - val_acc: 0.7500\n",
      "Epoch 83/100\n",
      "66/66 [==============================] - 0s 5ms/step - loss: 0.1100 - acc: 0.9642 - val_loss: 1.2812 - val_acc: 0.5625\n",
      "Epoch 84/100\n",
      "66/66 [==============================] - 0s 4ms/step - loss: 0.1321 - acc: 0.9536 - val_loss: 0.3507 - val_acc: 0.8750\n",
      "Epoch 85/100\n",
      "66/66 [==============================] - 0s 4ms/step - loss: 0.1083 - acc: 0.9651 - val_loss: 0.1693 - val_acc: 0.9375\n",
      "Epoch 86/100\n",
      "66/66 [==============================] - 0s 4ms/step - loss: 0.1047 - acc: 0.9659 - val_loss: 0.2134 - val_acc: 0.9375\n",
      "Epoch 87/100\n",
      "66/66 [==============================] - 0s 4ms/step - loss: 0.1014 - acc: 0.9641 - val_loss: 0.2990 - val_acc: 0.9375\n",
      "Epoch 88/100\n",
      "66/66 [==============================] - 0s 4ms/step - loss: 0.1046 - acc: 0.9650 - val_loss: 0.2133 - val_acc: 0.9375\n",
      "Epoch 89/100\n",
      "66/66 [==============================] - 0s 4ms/step - loss: 0.1164 - acc: 0.9609 - val_loss: 0.7320 - val_acc: 0.6875\n",
      "Epoch 90/100\n",
      "66/66 [==============================] - 0s 4ms/step - loss: 0.1069 - acc: 0.9661 - val_loss: 1.1328 - val_acc: 0.6250\n",
      "Epoch 91/100\n",
      "66/66 [==============================] - 0s 4ms/step - loss: 0.1363 - acc: 0.9472 - val_loss: 0.5340 - val_acc: 0.7500\n",
      "Epoch 92/100\n",
      "66/66 [==============================] - 0s 4ms/step - loss: 0.0974 - acc: 0.9667 - val_loss: 0.2328 - val_acc: 0.9375\n",
      "Epoch 93/100\n",
      "66/66 [==============================] - 0s 4ms/step - loss: 0.0968 - acc: 0.9656 - val_loss: 0.3222 - val_acc: 0.8750\n",
      "Epoch 94/100\n",
      "66/66 [==============================] - 0s 4ms/step - loss: 0.0937 - acc: 0.9676 - val_loss: 0.4629 - val_acc: 0.8125\n",
      "Epoch 95/100\n",
      "66/66 [==============================] - 0s 4ms/step - loss: 0.0884 - acc: 0.9697 - val_loss: 0.4999 - val_acc: 0.8125\n",
      "Epoch 96/100\n",
      "66/66 [==============================] - 0s 4ms/step - loss: 0.0907 - acc: 0.9689 - val_loss: 0.2454 - val_acc: 0.9375\n",
      "Epoch 97/100\n",
      "66/66 [==============================] - 0s 4ms/step - loss: 0.0935 - acc: 0.9673 - val_loss: 0.3356 - val_acc: 0.8750\n",
      "Epoch 98/100\n",
      "66/66 [==============================] - 0s 4ms/step - loss: 0.0897 - acc: 0.9690 - val_loss: 0.6492 - val_acc: 0.6875\n",
      "Epoch 99/100\n",
      "66/66 [==============================] - 0s 4ms/step - loss: 0.0885 - acc: 0.9712 - val_loss: 0.8209 - val_acc: 0.6875\n",
      "Epoch 100/100\n",
      "66/66 [==============================] - 0s 4ms/step - loss: 0.1033 - acc: 0.9632 - val_loss: 0.3577 - val_acc: 0.8750\n"
     ]
    }
   ],
   "source": [
    "#Creating History variable\n",
    "history = model.fit(train_images,\n",
    "                    train_l,\n",
    "                    epochs=100,\n",
    "                    batch_size=80,\n",
    "                    validation_data=(val_images, val_l))"
   ]
  },
  {
   "cell_type": "code",
   "execution_count": 42,
   "metadata": {},
   "outputs": [
    {
     "name": "stdout",
     "output_type": "stream",
     "text": [
      "163/163 [==============================] - 0s 2ms/step - loss: 0.0805 - acc: 0.9741\n"
     ]
    }
   ],
   "source": [
    "result_train = model.evaluate(train_images, train_l)"
   ]
  },
  {
   "cell_type": "code",
   "execution_count": 43,
   "metadata": {},
   "outputs": [
    {
     "name": "stdout",
     "output_type": "stream",
     "text": [
      "20/20 [==============================] - 0s 1ms/step - loss: 0.8068 - acc: 0.7532\n"
     ]
    }
   ],
   "source": [
    "results_test = model.evaluate(test_images, test_l)"
   ]
  },
  {
   "cell_type": "code",
   "execution_count": 44,
   "metadata": {},
   "outputs": [
    {
     "data": {
      "text/plain": [
       "[0.08050623536109924, 0.9741181135177612]"
      ]
     },
     "execution_count": 44,
     "metadata": {},
     "output_type": "execute_result"
    }
   ],
   "source": [
    "result_train"
   ]
  },
  {
   "cell_type": "code",
   "execution_count": 45,
   "metadata": {},
   "outputs": [
    {
     "data": {
      "text/plain": [
       "[0.8068307042121887, 0.7532051205635071]"
      ]
     },
     "execution_count": 45,
     "metadata": {},
     "output_type": "execute_result"
    }
   ],
   "source": [
    "results_test"
   ]
  },
  {
   "cell_type": "markdown",
   "metadata": {},
   "source": [
    "## CNN"
   ]
  },
  {
   "cell_type": "code",
   "execution_count": 60,
   "metadata": {},
   "outputs": [],
   "source": [
    "model = models.Sequential()\n",
    "model.add(layers.Conv2D(32, (3, 3), activation='relu',\n",
    "                        input_shape=(128, 128, 1)))\n",
    "model.add(layers.MaxPooling2D((2, 2)))\n",
    "model.add(layers.Conv2D(64, (3, 3), activation='relu'))\n",
    "model.add(layers.MaxPooling2D((2, 2)))\n",
    "model.add(layers.Conv2D(128, (3, 3), activation='relu'))\n",
    "model.add(layers.MaxPooling2D((2, 2)))\n",
    "model.add(layers.Conv2D(128, (3, 3), activation='relu'))\n",
    "model.add(layers.MaxPooling2D((2, 2)))\n",
    "model.add(layers.Flatten())\n",
    "model.add(layers.Dense(512, activation='relu'))\n",
    "model.add(layers.Dense(1, activation='sigmoid'))"
   ]
  },
  {
   "cell_type": "code",
   "execution_count": 63,
   "metadata": {},
   "outputs": [
    {
     "name": "stdout",
     "output_type": "stream",
     "text": [
      "Model: \"sequential_12\"\n",
      "_________________________________________________________________\n",
      "Layer (type)                 Output Shape              Param #   \n",
      "=================================================================\n",
      "conv2d_35 (Conv2D)           (None, 126, 126, 32)      320       \n",
      "_________________________________________________________________\n",
      "max_pooling2d_34 (MaxPooling (None, 63, 63, 32)        0         \n",
      "_________________________________________________________________\n",
      "conv2d_36 (Conv2D)           (None, 61, 61, 64)        18496     \n",
      "_________________________________________________________________\n",
      "max_pooling2d_35 (MaxPooling (None, 30, 30, 64)        0         \n",
      "_________________________________________________________________\n",
      "conv2d_37 (Conv2D)           (None, 28, 28, 128)       73856     \n",
      "_________________________________________________________________\n",
      "max_pooling2d_36 (MaxPooling (None, 14, 14, 128)       0         \n",
      "_________________________________________________________________\n",
      "conv2d_38 (Conv2D)           (None, 12, 12, 128)       147584    \n",
      "_________________________________________________________________\n",
      "max_pooling2d_37 (MaxPooling (None, 6, 6, 128)         0         \n",
      "_________________________________________________________________\n",
      "flatten_9 (Flatten)          (None, 4608)              0         \n",
      "_________________________________________________________________\n",
      "dense_22 (Dense)             (None, 512)               2359808   \n",
      "_________________________________________________________________\n",
      "dense_23 (Dense)             (None, 1)                 513       \n",
      "=================================================================\n",
      "Total params: 2,600,577\n",
      "Trainable params: 2,600,577\n",
      "Non-trainable params: 0\n",
      "_________________________________________________________________\n"
     ]
    }
   ],
   "source": [
    "model.summary()"
   ]
  },
  {
   "cell_type": "code",
   "execution_count": 61,
   "metadata": {},
   "outputs": [],
   "source": [
    "model.compile(loss='binary_crossentropy',\n",
    "              optimizer=\"sgd\",\n",
    "              metrics=['acc'])"
   ]
  },
  {
   "cell_type": "code",
   "execution_count": 62,
   "metadata": {},
   "outputs": [
    {
     "name": "stdout",
     "output_type": "stream",
     "text": [
      "Epoch 1/100\n"
     ]
    },
    {
     "ename": "ValueError",
     "evalue": "in user code:\n\n    D:\\Users\\Trevor Mott\\Anaconda3\\lib\\site-packages\\tensorflow\\python\\keras\\engine\\training.py:805 train_function  *\n        return step_function(self, iterator)\n    D:\\Users\\Trevor Mott\\Anaconda3\\lib\\site-packages\\tensorflow\\python\\keras\\engine\\training.py:795 step_function  **\n        outputs = model.distribute_strategy.run(run_step, args=(data,))\n    D:\\Users\\Trevor Mott\\Anaconda3\\lib\\site-packages\\tensorflow\\python\\distribute\\distribute_lib.py:1259 run\n        return self._extended.call_for_each_replica(fn, args=args, kwargs=kwargs)\n    D:\\Users\\Trevor Mott\\Anaconda3\\lib\\site-packages\\tensorflow\\python\\distribute\\distribute_lib.py:2730 call_for_each_replica\n        return self._call_for_each_replica(fn, args, kwargs)\n    D:\\Users\\Trevor Mott\\Anaconda3\\lib\\site-packages\\tensorflow\\python\\distribute\\distribute_lib.py:3417 _call_for_each_replica\n        return fn(*args, **kwargs)\n    D:\\Users\\Trevor Mott\\Anaconda3\\lib\\site-packages\\tensorflow\\python\\keras\\engine\\training.py:788 run_step  **\n        outputs = model.train_step(data)\n    D:\\Users\\Trevor Mott\\Anaconda3\\lib\\site-packages\\tensorflow\\python\\keras\\engine\\training.py:754 train_step\n        y_pred = self(x, training=True)\n    D:\\Users\\Trevor Mott\\Anaconda3\\lib\\site-packages\\tensorflow\\python\\keras\\engine\\base_layer.py:998 __call__\n        input_spec.assert_input_compatibility(self.input_spec, inputs, self.name)\n    D:\\Users\\Trevor Mott\\Anaconda3\\lib\\site-packages\\tensorflow\\python\\keras\\engine\\input_spec.py:239 assert_input_compatibility\n        str(tuple(shape)))\n\n    ValueError: Input 0 of layer sequential_12 is incompatible with the layer: : expected min_ndim=4, found ndim=2. Full shape received: (None, 16384)\n",
     "output_type": "error",
     "traceback": [
      "\u001b[1;31m---------------------------------------------------------------------------\u001b[0m",
      "\u001b[1;31mValueError\u001b[0m                                Traceback (most recent call last)",
      "\u001b[1;32m<ipython-input-62-b640c8d928c9>\u001b[0m in \u001b[0;36m<module>\u001b[1;34m\u001b[0m\n\u001b[0;32m      4\u001b[0m                     \u001b[0mepochs\u001b[0m\u001b[1;33m=\u001b[0m\u001b[1;36m100\u001b[0m\u001b[1;33m,\u001b[0m\u001b[1;33m\u001b[0m\u001b[1;33m\u001b[0m\u001b[0m\n\u001b[0;32m      5\u001b[0m                     \u001b[0mbatch_size\u001b[0m\u001b[1;33m=\u001b[0m\u001b[1;36m80\u001b[0m\u001b[1;33m,\u001b[0m\u001b[1;33m\u001b[0m\u001b[1;33m\u001b[0m\u001b[0m\n\u001b[1;32m----> 6\u001b[1;33m                     validation_data=(val_images, val_l))\n\u001b[0m",
      "\u001b[1;32mD:\\Users\\Trevor Mott\\Anaconda3\\lib\\site-packages\\tensorflow\\python\\keras\\engine\\training.py\u001b[0m in \u001b[0;36mfit\u001b[1;34m(self, x, y, batch_size, epochs, verbose, callbacks, validation_split, validation_data, shuffle, class_weight, sample_weight, initial_epoch, steps_per_epoch, validation_steps, validation_batch_size, validation_freq, max_queue_size, workers, use_multiprocessing)\u001b[0m\n\u001b[0;32m   1098\u001b[0m                 _r=1):\n\u001b[0;32m   1099\u001b[0m               \u001b[0mcallbacks\u001b[0m\u001b[1;33m.\u001b[0m\u001b[0mon_train_batch_begin\u001b[0m\u001b[1;33m(\u001b[0m\u001b[0mstep\u001b[0m\u001b[1;33m)\u001b[0m\u001b[1;33m\u001b[0m\u001b[1;33m\u001b[0m\u001b[0m\n\u001b[1;32m-> 1100\u001b[1;33m               \u001b[0mtmp_logs\u001b[0m \u001b[1;33m=\u001b[0m \u001b[0mself\u001b[0m\u001b[1;33m.\u001b[0m\u001b[0mtrain_function\u001b[0m\u001b[1;33m(\u001b[0m\u001b[0miterator\u001b[0m\u001b[1;33m)\u001b[0m\u001b[1;33m\u001b[0m\u001b[1;33m\u001b[0m\u001b[0m\n\u001b[0m\u001b[0;32m   1101\u001b[0m               \u001b[1;32mif\u001b[0m \u001b[0mdata_handler\u001b[0m\u001b[1;33m.\u001b[0m\u001b[0mshould_sync\u001b[0m\u001b[1;33m:\u001b[0m\u001b[1;33m\u001b[0m\u001b[1;33m\u001b[0m\u001b[0m\n\u001b[0;32m   1102\u001b[0m                 \u001b[0mcontext\u001b[0m\u001b[1;33m.\u001b[0m\u001b[0masync_wait\u001b[0m\u001b[1;33m(\u001b[0m\u001b[1;33m)\u001b[0m\u001b[1;33m\u001b[0m\u001b[1;33m\u001b[0m\u001b[0m\n",
      "\u001b[1;32mD:\\Users\\Trevor Mott\\Anaconda3\\lib\\site-packages\\tensorflow\\python\\eager\\def_function.py\u001b[0m in \u001b[0;36m__call__\u001b[1;34m(self, *args, **kwds)\u001b[0m\n\u001b[0;32m    826\u001b[0m     \u001b[0mtracing_count\u001b[0m \u001b[1;33m=\u001b[0m \u001b[0mself\u001b[0m\u001b[1;33m.\u001b[0m\u001b[0mexperimental_get_tracing_count\u001b[0m\u001b[1;33m(\u001b[0m\u001b[1;33m)\u001b[0m\u001b[1;33m\u001b[0m\u001b[1;33m\u001b[0m\u001b[0m\n\u001b[0;32m    827\u001b[0m     \u001b[1;32mwith\u001b[0m \u001b[0mtrace\u001b[0m\u001b[1;33m.\u001b[0m\u001b[0mTrace\u001b[0m\u001b[1;33m(\u001b[0m\u001b[0mself\u001b[0m\u001b[1;33m.\u001b[0m\u001b[0m_name\u001b[0m\u001b[1;33m)\u001b[0m \u001b[1;32mas\u001b[0m \u001b[0mtm\u001b[0m\u001b[1;33m:\u001b[0m\u001b[1;33m\u001b[0m\u001b[1;33m\u001b[0m\u001b[0m\n\u001b[1;32m--> 828\u001b[1;33m       \u001b[0mresult\u001b[0m \u001b[1;33m=\u001b[0m \u001b[0mself\u001b[0m\u001b[1;33m.\u001b[0m\u001b[0m_call\u001b[0m\u001b[1;33m(\u001b[0m\u001b[1;33m*\u001b[0m\u001b[0margs\u001b[0m\u001b[1;33m,\u001b[0m \u001b[1;33m**\u001b[0m\u001b[0mkwds\u001b[0m\u001b[1;33m)\u001b[0m\u001b[1;33m\u001b[0m\u001b[1;33m\u001b[0m\u001b[0m\n\u001b[0m\u001b[0;32m    829\u001b[0m       \u001b[0mcompiler\u001b[0m \u001b[1;33m=\u001b[0m \u001b[1;34m\"xla\"\u001b[0m \u001b[1;32mif\u001b[0m \u001b[0mself\u001b[0m\u001b[1;33m.\u001b[0m\u001b[0m_experimental_compile\u001b[0m \u001b[1;32melse\u001b[0m \u001b[1;34m\"nonXla\"\u001b[0m\u001b[1;33m\u001b[0m\u001b[1;33m\u001b[0m\u001b[0m\n\u001b[0;32m    830\u001b[0m       \u001b[0mnew_tracing_count\u001b[0m \u001b[1;33m=\u001b[0m \u001b[0mself\u001b[0m\u001b[1;33m.\u001b[0m\u001b[0mexperimental_get_tracing_count\u001b[0m\u001b[1;33m(\u001b[0m\u001b[1;33m)\u001b[0m\u001b[1;33m\u001b[0m\u001b[1;33m\u001b[0m\u001b[0m\n",
      "\u001b[1;32mD:\\Users\\Trevor Mott\\Anaconda3\\lib\\site-packages\\tensorflow\\python\\eager\\def_function.py\u001b[0m in \u001b[0;36m_call\u001b[1;34m(self, *args, **kwds)\u001b[0m\n\u001b[0;32m    869\u001b[0m       \u001b[1;31m# This is the first call of __call__, so we have to initialize.\u001b[0m\u001b[1;33m\u001b[0m\u001b[1;33m\u001b[0m\u001b[1;33m\u001b[0m\u001b[0m\n\u001b[0;32m    870\u001b[0m       \u001b[0minitializers\u001b[0m \u001b[1;33m=\u001b[0m \u001b[1;33m[\u001b[0m\u001b[1;33m]\u001b[0m\u001b[1;33m\u001b[0m\u001b[1;33m\u001b[0m\u001b[0m\n\u001b[1;32m--> 871\u001b[1;33m       \u001b[0mself\u001b[0m\u001b[1;33m.\u001b[0m\u001b[0m_initialize\u001b[0m\u001b[1;33m(\u001b[0m\u001b[0margs\u001b[0m\u001b[1;33m,\u001b[0m \u001b[0mkwds\u001b[0m\u001b[1;33m,\u001b[0m \u001b[0madd_initializers_to\u001b[0m\u001b[1;33m=\u001b[0m\u001b[0minitializers\u001b[0m\u001b[1;33m)\u001b[0m\u001b[1;33m\u001b[0m\u001b[1;33m\u001b[0m\u001b[0m\n\u001b[0m\u001b[0;32m    872\u001b[0m     \u001b[1;32mfinally\u001b[0m\u001b[1;33m:\u001b[0m\u001b[1;33m\u001b[0m\u001b[1;33m\u001b[0m\u001b[0m\n\u001b[0;32m    873\u001b[0m       \u001b[1;31m# At this point we know that the initialization is complete (or less\u001b[0m\u001b[1;33m\u001b[0m\u001b[1;33m\u001b[0m\u001b[1;33m\u001b[0m\u001b[0m\n",
      "\u001b[1;32mD:\\Users\\Trevor Mott\\Anaconda3\\lib\\site-packages\\tensorflow\\python\\eager\\def_function.py\u001b[0m in \u001b[0;36m_initialize\u001b[1;34m(self, args, kwds, add_initializers_to)\u001b[0m\n\u001b[0;32m    724\u001b[0m     self._concrete_stateful_fn = (\n\u001b[0;32m    725\u001b[0m         self._stateful_fn._get_concrete_function_internal_garbage_collected(  # pylint: disable=protected-access\n\u001b[1;32m--> 726\u001b[1;33m             *args, **kwds))\n\u001b[0m\u001b[0;32m    727\u001b[0m \u001b[1;33m\u001b[0m\u001b[0m\n\u001b[0;32m    728\u001b[0m     \u001b[1;32mdef\u001b[0m \u001b[0minvalid_creator_scope\u001b[0m\u001b[1;33m(\u001b[0m\u001b[1;33m*\u001b[0m\u001b[0munused_args\u001b[0m\u001b[1;33m,\u001b[0m \u001b[1;33m**\u001b[0m\u001b[0munused_kwds\u001b[0m\u001b[1;33m)\u001b[0m\u001b[1;33m:\u001b[0m\u001b[1;33m\u001b[0m\u001b[1;33m\u001b[0m\u001b[0m\n",
      "\u001b[1;32mD:\\Users\\Trevor Mott\\Anaconda3\\lib\\site-packages\\tensorflow\\python\\eager\\function.py\u001b[0m in \u001b[0;36m_get_concrete_function_internal_garbage_collected\u001b[1;34m(self, *args, **kwargs)\u001b[0m\n\u001b[0;32m   2967\u001b[0m       \u001b[0margs\u001b[0m\u001b[1;33m,\u001b[0m \u001b[0mkwargs\u001b[0m \u001b[1;33m=\u001b[0m \u001b[1;32mNone\u001b[0m\u001b[1;33m,\u001b[0m \u001b[1;32mNone\u001b[0m\u001b[1;33m\u001b[0m\u001b[1;33m\u001b[0m\u001b[0m\n\u001b[0;32m   2968\u001b[0m     \u001b[1;32mwith\u001b[0m \u001b[0mself\u001b[0m\u001b[1;33m.\u001b[0m\u001b[0m_lock\u001b[0m\u001b[1;33m:\u001b[0m\u001b[1;33m\u001b[0m\u001b[1;33m\u001b[0m\u001b[0m\n\u001b[1;32m-> 2969\u001b[1;33m       \u001b[0mgraph_function\u001b[0m\u001b[1;33m,\u001b[0m \u001b[0m_\u001b[0m \u001b[1;33m=\u001b[0m \u001b[0mself\u001b[0m\u001b[1;33m.\u001b[0m\u001b[0m_maybe_define_function\u001b[0m\u001b[1;33m(\u001b[0m\u001b[0margs\u001b[0m\u001b[1;33m,\u001b[0m \u001b[0mkwargs\u001b[0m\u001b[1;33m)\u001b[0m\u001b[1;33m\u001b[0m\u001b[1;33m\u001b[0m\u001b[0m\n\u001b[0m\u001b[0;32m   2970\u001b[0m     \u001b[1;32mreturn\u001b[0m \u001b[0mgraph_function\u001b[0m\u001b[1;33m\u001b[0m\u001b[1;33m\u001b[0m\u001b[0m\n\u001b[0;32m   2971\u001b[0m \u001b[1;33m\u001b[0m\u001b[0m\n",
      "\u001b[1;32mD:\\Users\\Trevor Mott\\Anaconda3\\lib\\site-packages\\tensorflow\\python\\eager\\function.py\u001b[0m in \u001b[0;36m_maybe_define_function\u001b[1;34m(self, args, kwargs)\u001b[0m\n\u001b[0;32m   3359\u001b[0m \u001b[1;33m\u001b[0m\u001b[0m\n\u001b[0;32m   3360\u001b[0m           \u001b[0mself\u001b[0m\u001b[1;33m.\u001b[0m\u001b[0m_function_cache\u001b[0m\u001b[1;33m.\u001b[0m\u001b[0mmissed\u001b[0m\u001b[1;33m.\u001b[0m\u001b[0madd\u001b[0m\u001b[1;33m(\u001b[0m\u001b[0mcall_context_key\u001b[0m\u001b[1;33m)\u001b[0m\u001b[1;33m\u001b[0m\u001b[1;33m\u001b[0m\u001b[0m\n\u001b[1;32m-> 3361\u001b[1;33m           \u001b[0mgraph_function\u001b[0m \u001b[1;33m=\u001b[0m \u001b[0mself\u001b[0m\u001b[1;33m.\u001b[0m\u001b[0m_create_graph_function\u001b[0m\u001b[1;33m(\u001b[0m\u001b[0margs\u001b[0m\u001b[1;33m,\u001b[0m \u001b[0mkwargs\u001b[0m\u001b[1;33m)\u001b[0m\u001b[1;33m\u001b[0m\u001b[1;33m\u001b[0m\u001b[0m\n\u001b[0m\u001b[0;32m   3362\u001b[0m           \u001b[0mself\u001b[0m\u001b[1;33m.\u001b[0m\u001b[0m_function_cache\u001b[0m\u001b[1;33m.\u001b[0m\u001b[0mprimary\u001b[0m\u001b[1;33m[\u001b[0m\u001b[0mcache_key\u001b[0m\u001b[1;33m]\u001b[0m \u001b[1;33m=\u001b[0m \u001b[0mgraph_function\u001b[0m\u001b[1;33m\u001b[0m\u001b[1;33m\u001b[0m\u001b[0m\n\u001b[0;32m   3363\u001b[0m \u001b[1;33m\u001b[0m\u001b[0m\n",
      "\u001b[1;32mD:\\Users\\Trevor Mott\\Anaconda3\\lib\\site-packages\\tensorflow\\python\\eager\\function.py\u001b[0m in \u001b[0;36m_create_graph_function\u001b[1;34m(self, args, kwargs, override_flat_arg_shapes)\u001b[0m\n\u001b[0;32m   3204\u001b[0m             \u001b[0marg_names\u001b[0m\u001b[1;33m=\u001b[0m\u001b[0marg_names\u001b[0m\u001b[1;33m,\u001b[0m\u001b[1;33m\u001b[0m\u001b[1;33m\u001b[0m\u001b[0m\n\u001b[0;32m   3205\u001b[0m             \u001b[0moverride_flat_arg_shapes\u001b[0m\u001b[1;33m=\u001b[0m\u001b[0moverride_flat_arg_shapes\u001b[0m\u001b[1;33m,\u001b[0m\u001b[1;33m\u001b[0m\u001b[1;33m\u001b[0m\u001b[0m\n\u001b[1;32m-> 3206\u001b[1;33m             capture_by_value=self._capture_by_value),\n\u001b[0m\u001b[0;32m   3207\u001b[0m         \u001b[0mself\u001b[0m\u001b[1;33m.\u001b[0m\u001b[0m_function_attributes\u001b[0m\u001b[1;33m,\u001b[0m\u001b[1;33m\u001b[0m\u001b[1;33m\u001b[0m\u001b[0m\n\u001b[0;32m   3208\u001b[0m         \u001b[0mfunction_spec\u001b[0m\u001b[1;33m=\u001b[0m\u001b[0mself\u001b[0m\u001b[1;33m.\u001b[0m\u001b[0mfunction_spec\u001b[0m\u001b[1;33m,\u001b[0m\u001b[1;33m\u001b[0m\u001b[1;33m\u001b[0m\u001b[0m\n",
      "\u001b[1;32mD:\\Users\\Trevor Mott\\Anaconda3\\lib\\site-packages\\tensorflow\\python\\framework\\func_graph.py\u001b[0m in \u001b[0;36mfunc_graph_from_py_func\u001b[1;34m(name, python_func, args, kwargs, signature, func_graph, autograph, autograph_options, add_control_dependencies, arg_names, op_return_value, collections, capture_by_value, override_flat_arg_shapes)\u001b[0m\n\u001b[0;32m    988\u001b[0m         \u001b[0m_\u001b[0m\u001b[1;33m,\u001b[0m \u001b[0moriginal_func\u001b[0m \u001b[1;33m=\u001b[0m \u001b[0mtf_decorator\u001b[0m\u001b[1;33m.\u001b[0m\u001b[0munwrap\u001b[0m\u001b[1;33m(\u001b[0m\u001b[0mpython_func\u001b[0m\u001b[1;33m)\u001b[0m\u001b[1;33m\u001b[0m\u001b[1;33m\u001b[0m\u001b[0m\n\u001b[0;32m    989\u001b[0m \u001b[1;33m\u001b[0m\u001b[0m\n\u001b[1;32m--> 990\u001b[1;33m       \u001b[0mfunc_outputs\u001b[0m \u001b[1;33m=\u001b[0m \u001b[0mpython_func\u001b[0m\u001b[1;33m(\u001b[0m\u001b[1;33m*\u001b[0m\u001b[0mfunc_args\u001b[0m\u001b[1;33m,\u001b[0m \u001b[1;33m**\u001b[0m\u001b[0mfunc_kwargs\u001b[0m\u001b[1;33m)\u001b[0m\u001b[1;33m\u001b[0m\u001b[1;33m\u001b[0m\u001b[0m\n\u001b[0m\u001b[0;32m    991\u001b[0m \u001b[1;33m\u001b[0m\u001b[0m\n\u001b[0;32m    992\u001b[0m       \u001b[1;31m# invariant: `func_outputs` contains only Tensors, CompositeTensors,\u001b[0m\u001b[1;33m\u001b[0m\u001b[1;33m\u001b[0m\u001b[1;33m\u001b[0m\u001b[0m\n",
      "\u001b[1;32mD:\\Users\\Trevor Mott\\Anaconda3\\lib\\site-packages\\tensorflow\\python\\eager\\def_function.py\u001b[0m in \u001b[0;36mwrapped_fn\u001b[1;34m(*args, **kwds)\u001b[0m\n\u001b[0;32m    632\u001b[0m             \u001b[0mxla_context\u001b[0m\u001b[1;33m.\u001b[0m\u001b[0mExit\u001b[0m\u001b[1;33m(\u001b[0m\u001b[1;33m)\u001b[0m\u001b[1;33m\u001b[0m\u001b[1;33m\u001b[0m\u001b[0m\n\u001b[0;32m    633\u001b[0m         \u001b[1;32melse\u001b[0m\u001b[1;33m:\u001b[0m\u001b[1;33m\u001b[0m\u001b[1;33m\u001b[0m\u001b[0m\n\u001b[1;32m--> 634\u001b[1;33m           \u001b[0mout\u001b[0m \u001b[1;33m=\u001b[0m \u001b[0mweak_wrapped_fn\u001b[0m\u001b[1;33m(\u001b[0m\u001b[1;33m)\u001b[0m\u001b[1;33m.\u001b[0m\u001b[0m__wrapped__\u001b[0m\u001b[1;33m(\u001b[0m\u001b[1;33m*\u001b[0m\u001b[0margs\u001b[0m\u001b[1;33m,\u001b[0m \u001b[1;33m**\u001b[0m\u001b[0mkwds\u001b[0m\u001b[1;33m)\u001b[0m\u001b[1;33m\u001b[0m\u001b[1;33m\u001b[0m\u001b[0m\n\u001b[0m\u001b[0;32m    635\u001b[0m         \u001b[1;32mreturn\u001b[0m \u001b[0mout\u001b[0m\u001b[1;33m\u001b[0m\u001b[1;33m\u001b[0m\u001b[0m\n\u001b[0;32m    636\u001b[0m \u001b[1;33m\u001b[0m\u001b[0m\n",
      "\u001b[1;32mD:\\Users\\Trevor Mott\\Anaconda3\\lib\\site-packages\\tensorflow\\python\\framework\\func_graph.py\u001b[0m in \u001b[0;36mwrapper\u001b[1;34m(*args, **kwargs)\u001b[0m\n\u001b[0;32m    975\u001b[0m           \u001b[1;32mexcept\u001b[0m \u001b[0mException\u001b[0m \u001b[1;32mas\u001b[0m \u001b[0me\u001b[0m\u001b[1;33m:\u001b[0m  \u001b[1;31m# pylint:disable=broad-except\u001b[0m\u001b[1;33m\u001b[0m\u001b[1;33m\u001b[0m\u001b[0m\n\u001b[0;32m    976\u001b[0m             \u001b[1;32mif\u001b[0m \u001b[0mhasattr\u001b[0m\u001b[1;33m(\u001b[0m\u001b[0me\u001b[0m\u001b[1;33m,\u001b[0m \u001b[1;34m\"ag_error_metadata\"\u001b[0m\u001b[1;33m)\u001b[0m\u001b[1;33m:\u001b[0m\u001b[1;33m\u001b[0m\u001b[1;33m\u001b[0m\u001b[0m\n\u001b[1;32m--> 977\u001b[1;33m               \u001b[1;32mraise\u001b[0m \u001b[0me\u001b[0m\u001b[1;33m.\u001b[0m\u001b[0mag_error_metadata\u001b[0m\u001b[1;33m.\u001b[0m\u001b[0mto_exception\u001b[0m\u001b[1;33m(\u001b[0m\u001b[0me\u001b[0m\u001b[1;33m)\u001b[0m\u001b[1;33m\u001b[0m\u001b[1;33m\u001b[0m\u001b[0m\n\u001b[0m\u001b[0;32m    978\u001b[0m             \u001b[1;32melse\u001b[0m\u001b[1;33m:\u001b[0m\u001b[1;33m\u001b[0m\u001b[1;33m\u001b[0m\u001b[0m\n\u001b[0;32m    979\u001b[0m               \u001b[1;32mraise\u001b[0m\u001b[1;33m\u001b[0m\u001b[1;33m\u001b[0m\u001b[0m\n",
      "\u001b[1;31mValueError\u001b[0m: in user code:\n\n    D:\\Users\\Trevor Mott\\Anaconda3\\lib\\site-packages\\tensorflow\\python\\keras\\engine\\training.py:805 train_function  *\n        return step_function(self, iterator)\n    D:\\Users\\Trevor Mott\\Anaconda3\\lib\\site-packages\\tensorflow\\python\\keras\\engine\\training.py:795 step_function  **\n        outputs = model.distribute_strategy.run(run_step, args=(data,))\n    D:\\Users\\Trevor Mott\\Anaconda3\\lib\\site-packages\\tensorflow\\python\\distribute\\distribute_lib.py:1259 run\n        return self._extended.call_for_each_replica(fn, args=args, kwargs=kwargs)\n    D:\\Users\\Trevor Mott\\Anaconda3\\lib\\site-packages\\tensorflow\\python\\distribute\\distribute_lib.py:2730 call_for_each_replica\n        return self._call_for_each_replica(fn, args, kwargs)\n    D:\\Users\\Trevor Mott\\Anaconda3\\lib\\site-packages\\tensorflow\\python\\distribute\\distribute_lib.py:3417 _call_for_each_replica\n        return fn(*args, **kwargs)\n    D:\\Users\\Trevor Mott\\Anaconda3\\lib\\site-packages\\tensorflow\\python\\keras\\engine\\training.py:788 run_step  **\n        outputs = model.train_step(data)\n    D:\\Users\\Trevor Mott\\Anaconda3\\lib\\site-packages\\tensorflow\\python\\keras\\engine\\training.py:754 train_step\n        y_pred = self(x, training=True)\n    D:\\Users\\Trevor Mott\\Anaconda3\\lib\\site-packages\\tensorflow\\python\\keras\\engine\\base_layer.py:998 __call__\n        input_spec.assert_input_compatibility(self.input_spec, inputs, self.name)\n    D:\\Users\\Trevor Mott\\Anaconda3\\lib\\site-packages\\tensorflow\\python\\keras\\engine\\input_spec.py:239 assert_input_compatibility\n        str(tuple(shape)))\n\n    ValueError: Input 0 of layer sequential_12 is incompatible with the layer: : expected min_ndim=4, found ndim=2. Full shape received: (None, 16384)\n"
     ]
    }
   ],
   "source": [
    "#Creating History variable\n",
    "history = model.fit(train_images,\n",
    "                    train_l,\n",
    "                    epochs=100,\n",
    "                    batch_size=80,\n",
    "                    validation_data=(val_images, val_l))"
   ]
  },
  {
   "cell_type": "code",
   "execution_count": null,
   "metadata": {},
   "outputs": [],
   "source": [
    "print(val_images.shape)"
   ]
  },
  {
   "cell_type": "code",
   "execution_count": null,
   "metadata": {},
   "outputs": [],
   "source": []
  }
 ],
 "metadata": {
  "kernelspec": {
   "display_name": "Python 3",
   "language": "python",
   "name": "python3"
  },
  "language_info": {
   "codemirror_mode": {
    "name": "ipython",
    "version": 3
   },
   "file_extension": ".py",
   "mimetype": "text/x-python",
   "name": "python",
   "nbconvert_exporter": "python",
   "pygments_lexer": "ipython3",
   "version": "3.7.4"
  },
  "toc": {
   "base_numbering": 1,
   "nav_menu": {},
   "number_sections": true,
   "sideBar": true,
   "skip_h1_title": false,
   "title_cell": "Table of Contents",
   "title_sidebar": "Contents",
   "toc_cell": false,
   "toc_position": {},
   "toc_section_display": true,
   "toc_window_display": true
  }
 },
 "nbformat": 4,
 "nbformat_minor": 4
}
