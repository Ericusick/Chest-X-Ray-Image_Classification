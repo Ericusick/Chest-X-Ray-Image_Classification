{
 "cells": [
  {
   "cell_type": "markdown",
   "metadata": {},
   "source": [
    "Chest X-Ray Image Classification"
   ]
  },
  {
   "cell_type": "markdown",
   "metadata": {},
   "source": [
    "## Importing Libraries and Loading Images"
   ]
  },
  {
   "cell_type": "markdown",
   "metadata": {},
   "source": [
    "### Libraries"
   ]
  },
  {
   "cell_type": "code",
   "execution_count": 28,
   "metadata": {},
   "outputs": [],
   "source": [
    "#Import necessary libraries\n",
    "import numpy as np\n",
    "import matplotlib.pyplot as plt\n",
    "import seaborn as sns\n",
    "sns.set_style(\"darkgrid\")\n",
    "from sklearn.model_selection import train_test_split\n",
    "import keras\n",
    "from keras import models\n",
    "from keras import layers\n",
    "from keras import optimizers\n",
    "from keras.preprocessing.image import ImageDataGenerator, array_to_img, img_to_array, load_img\n",
    "import os"
   ]
  },
  {
   "cell_type": "markdown",
   "metadata": {},
   "source": [
    "### Load Images"
   ]
  },
  {
   "cell_type": "code",
   "execution_count": 2,
   "metadata": {},
   "outputs": [],
   "source": [
    "#Directory path\n",
    "train_data_dir = 'chest_xray/train/'\n",
    "test_data_dir = 'chest_xray/test/'\n",
    "val_data_dir = 'chest_xray/val/'"
   ]
  },
  {
   "cell_type": "code",
   "execution_count": 32,
   "metadata": {},
   "outputs": [
    {
     "name": "stdout",
     "output_type": "stream",
     "text": [
      "Found 5216 images belonging to 2 classes.\n",
      "Found 624 images belonging to 2 classes.\n",
      "Found 16 images belonging to 2 classes.\n"
     ]
    }
   ],
   "source": [
    "#Get all the data in each generator and reshaping the images\n",
    "train_generator = ImageDataGenerator(rescale = 1./255).flow_from_directory(\n",
    "        train_data_dir, \n",
    "        target_size=(128, 128), \n",
    "        color_mode = 'grayscale', \n",
    "        batch_size=500)\n",
    "\n",
    "test_generator = ImageDataGenerator(rescale = 1./255).flow_from_directory(\n",
    "        test_data_dir, \n",
    "        target_size=(128, 128), \n",
    "        color_mode = 'grayscale', \n",
    "        batch_size=125)\n",
    "\n",
    "val_generator = ImageDataGenerator(rescale = 1./255).flow_from_directory(\n",
    "        val_data_dir, \n",
    "        target_size=(128, 128), \n",
    "        color_mode = 'grayscale',\n",
    "        batch_size=8)"
   ]
  },
  {
   "cell_type": "code",
   "execution_count": 4,
   "metadata": {},
   "outputs": [],
   "source": [
    "#Create the datasets\n",
    "train_images, train_labels = next(train_generator)\n",
    "test_images, test_labels = next(test_generator)\n",
    "val_images, val_labels = next(val_generator)"
   ]
  },
  {
   "cell_type": "markdown",
   "metadata": {},
   "source": [
    "### Previewing Images"
   ]
  },
  {
   "cell_type": "code",
   "execution_count": 5,
   "metadata": {},
   "outputs": [
    {
     "data": {
      "image/png": "[encoded data removed]",
      "text/plain": [
       "<PIL.Image.Image image mode=L size=128x128 at 0x1EE1298BA48>"
      ]
     },
     "execution_count": 5,
     "metadata": {},
     "output_type": "execute_result"
    }
   ],
   "source": [
    "array_to_img(train_images[10])"
   ]
  },
  {
   "cell_type": "code",
   "execution_count": 6,
   "metadata": {},
   "outputs": [
    {
     "data": {
      "image/png": "[encoded data removed]",
      "text/plain": [
       "<PIL.Image.Image image mode=L size=128x128 at 0x1EE129A6308>"
      ]
     },
     "execution_count": 6,
     "metadata": {},
     "output_type": "execute_result"
    }
   ],
   "source": [
    "array_to_img(train_images[72])"
   ]
  },
  {
   "cell_type": "markdown",
   "metadata": {},
   "source": [
    "## Images and Labels"
   ]
  },
  {
   "cell_type": "code",
   "execution_count": 33,
   "metadata": {},
   "outputs": [
    {
     "name": "stdout",
     "output_type": "stream",
     "text": [
      "Number of training samples: 500\n",
      "Number of testing samples: 125\n",
      "Number of validation samples: 8\n",
      "train_images shape: (500, 128, 128, 1)\n",
      "train_labels shape: (500, 2)\n",
      "test_images shape: (125, 128, 128, 1)\n",
      "test_labels shape: (125, 2)\n",
      "val_images shape: (8, 128, 128, 1)\n",
      "val_labels shape: (8, 2)\n"
     ]
    }
   ],
   "source": [
    "#exploring the data set\n",
    "train_ex = train_images.shape[0]\n",
    "num_px = train_images.shape[1]\n",
    "test_ex = test_images.shape[0]\n",
    "val_ex = val_images.shape[0]\n",
    "\n",
    "print (\"Number of training samples: \" + str(train_ex))\n",
    "print (\"Number of testing samples: \" + str(test_ex))\n",
    "print (\"Number of validation samples: \" + str(val_ex))\n",
    "print (\"train_images shape: \" + str(train_images.shape))\n",
    "print (\"train_labels shape: \" + str(train_labels.shape))\n",
    "print (\"test_images shape: \" + str(test_images.shape))\n",
    "print (\"test_labels shape: \" + str(test_labels.shape))\n",
    "print (\"val_images shape: \" + str(val_images.shape))\n",
    "print (\"val_labels shape: \" + str(val_labels.shape))"
   ]
  },
  {
   "cell_type": "markdown",
   "metadata": {},
   "source": [
    ">Images"
   ]
  },
  {
   "cell_type": "code",
   "execution_count": 8,
   "metadata": {},
   "outputs": [],
   "source": [
    "#Reshaping the images\n",
    "# train_images = train_images.reshape(500, -1).T\n",
    "# test_images = test_images.reshape(125, -1).T\n",
    "# val_images = val_images.reshape(8, -1).T"
   ]
  },
  {
   "cell_type": "code",
   "execution_count": 35,
   "metadata": {},
   "outputs": [],
   "source": [
    "#Reshaping the images\n",
    "train_images = train_images.reshape(train_images.shape[0], -1)\n",
    "test_images = test_images.reshape(test_images.shape[0], -1)\n",
    "val_images = val_images.reshape(val_images.shape[0], -1)"
   ]
  },
  {
   "cell_type": "code",
   "execution_count": 36,
   "metadata": {},
   "outputs": [
    {
     "name": "stdout",
     "output_type": "stream",
     "text": [
      "Train Images: (500, 16384)\n",
      "Test Images: (125, 16384)\n",
      "Validation Images: (8, 16384)\n"
     ]
    }
   ],
   "source": [
    "#Previewing the shape of train_images_unrow\n",
    "print('Train Images:',np.shape(train_images))\n",
    "print('Test Images:',np.shape(test_images))\n",
    "print('Validation Images:',np.shape(val_images))"
   ]
  },
  {
   "cell_type": "markdown",
   "metadata": {},
   "source": [
    ">Labels"
   ]
  },
  {
   "cell_type": "code",
   "execution_count": 10,
   "metadata": {
    "scrolled": true
   },
   "outputs": [
    {
     "data": {
      "text/plain": [
       "array([[0., 1.],\n",
       "       [0., 1.],\n",
       "       [0., 1.],\n",
       "       [0., 1.],\n",
       "       [0., 1.],\n",
       "       [1., 0.],\n",
       "       [0., 1.],\n",
       "       [0., 1.],\n",
       "       [0., 1.],\n",
       "       [0., 1.],\n",
       "       [0., 1.],\n",
       "       [0., 1.],\n",
       "       [0., 1.],\n",
       "       [0., 1.],\n",
       "       [0., 1.],\n",
       "       [0., 1.],\n",
       "       [1., 0.],\n",
       "       [0., 1.],\n",
       "       [0., 1.],\n",
       "       [0., 1.],\n",
       "       [0., 1.],\n",
       "       [0., 1.],\n",
       "       [0., 1.],\n",
       "       [0., 1.],\n",
       "       [0., 1.],\n",
       "       [0., 1.],\n",
       "       [1., 0.],\n",
       "       [0., 1.],\n",
       "       [0., 1.],\n",
       "       [1., 0.],\n",
       "       [0., 1.],\n",
       "       [0., 1.],\n",
       "       [0., 1.],\n",
       "       [0., 1.],\n",
       "       [0., 1.],\n",
       "       [1., 0.],\n",
       "       [0., 1.],\n",
       "       [0., 1.],\n",
       "       [0., 1.],\n",
       "       [0., 1.],\n",
       "       [0., 1.],\n",
       "       [0., 1.],\n",
       "       [0., 1.],\n",
       "       [1., 0.],\n",
       "       [0., 1.],\n",
       "       [1., 0.],\n",
       "       [1., 0.],\n",
       "       [1., 0.],\n",
       "       [1., 0.],\n",
       "       [1., 0.],\n",
       "       [0., 1.],\n",
       "       [0., 1.],\n",
       "       [1., 0.],\n",
       "       [0., 1.],\n",
       "       [0., 1.],\n",
       "       [0., 1.],\n",
       "       [0., 1.],\n",
       "       [0., 1.],\n",
       "       [1., 0.],\n",
       "       [0., 1.],\n",
       "       [0., 1.],\n",
       "       [0., 1.],\n",
       "       [0., 1.],\n",
       "       [0., 1.],\n",
       "       [1., 0.],\n",
       "       [0., 1.],\n",
       "       [0., 1.],\n",
       "       [0., 1.],\n",
       "       [1., 0.],\n",
       "       [0., 1.],\n",
       "       [0., 1.],\n",
       "       [0., 1.],\n",
       "       [1., 0.],\n",
       "       [0., 1.],\n",
       "       [1., 0.],\n",
       "       [0., 1.],\n",
       "       [0., 1.],\n",
       "       [0., 1.],\n",
       "       [1., 0.],\n",
       "       [1., 0.],\n",
       "       [1., 0.],\n",
       "       [0., 1.],\n",
       "       [0., 1.],\n",
       "       [0., 1.],\n",
       "       [0., 1.],\n",
       "       [0., 1.],\n",
       "       [1., 0.],\n",
       "       [1., 0.],\n",
       "       [0., 1.],\n",
       "       [0., 1.],\n",
       "       [0., 1.],\n",
       "       [0., 1.],\n",
       "       [1., 0.],\n",
       "       [0., 1.],\n",
       "       [1., 0.],\n",
       "       [0., 1.],\n",
       "       [0., 1.],\n",
       "       [0., 1.],\n",
       "       [1., 0.],\n",
       "       [0., 1.],\n",
       "       [0., 1.],\n",
       "       [1., 0.],\n",
       "       [1., 0.],\n",
       "       [0., 1.],\n",
       "       [1., 0.],\n",
       "       [0., 1.],\n",
       "       [0., 1.],\n",
       "       [0., 1.],\n",
       "       [1., 0.],\n",
       "       [0., 1.],\n",
       "       [0., 1.],\n",
       "       [1., 0.],\n",
       "       [0., 1.],\n",
       "       [1., 0.],\n",
       "       [1., 0.],\n",
       "       [0., 1.],\n",
       "       [0., 1.],\n",
       "       [0., 1.],\n",
       "       [1., 0.],\n",
       "       [0., 1.],\n",
       "       [0., 1.],\n",
       "       [0., 1.],\n",
       "       [0., 1.],\n",
       "       [1., 0.],\n",
       "       [0., 1.],\n",
       "       [0., 1.],\n",
       "       [0., 1.],\n",
       "       [0., 1.],\n",
       "       [0., 1.],\n",
       "       [1., 0.],\n",
       "       [0., 1.],\n",
       "       [0., 1.],\n",
       "       [0., 1.],\n",
       "       [0., 1.],\n",
       "       [0., 1.],\n",
       "       [0., 1.],\n",
       "       [1., 0.],\n",
       "       [1., 0.],\n",
       "       [0., 1.],\n",
       "       [0., 1.],\n",
       "       [0., 1.],\n",
       "       [0., 1.],\n",
       "       [0., 1.],\n",
       "       [0., 1.],\n",
       "       [0., 1.],\n",
       "       [1., 0.],\n",
       "       [0., 1.],\n",
       "       [0., 1.],\n",
       "       [1., 0.],\n",
       "       [0., 1.],\n",
       "       [1., 0.],\n",
       "       [1., 0.],\n",
       "       [0., 1.],\n",
       "       [0., 1.],\n",
       "       [0., 1.],\n",
       "       [0., 1.],\n",
       "       [0., 1.],\n",
       "       [0., 1.],\n",
       "       [0., 1.],\n",
       "       [0., 1.],\n",
       "       [1., 0.],\n",
       "       [1., 0.],\n",
       "       [0., 1.],\n",
       "       [0., 1.],\n",
       "       [0., 1.],\n",
       "       [0., 1.],\n",
       "       [1., 0.],\n",
       "       [0., 1.],\n",
       "       [0., 1.],\n",
       "       [0., 1.],\n",
       "       [0., 1.],\n",
       "       [0., 1.],\n",
       "       [0., 1.],\n",
       "       [1., 0.],\n",
       "       [0., 1.],\n",
       "       [0., 1.],\n",
       "       [0., 1.],\n",
       "       [0., 1.],\n",
       "       [0., 1.],\n",
       "       [1., 0.],\n",
       "       [0., 1.],\n",
       "       [0., 1.],\n",
       "       [1., 0.],\n",
       "       [0., 1.],\n",
       "       [0., 1.],\n",
       "       [0., 1.],\n",
       "       [0., 1.],\n",
       "       [0., 1.],\n",
       "       [0., 1.],\n",
       "       [0., 1.],\n",
       "       [0., 1.],\n",
       "       [0., 1.],\n",
       "       [1., 0.],\n",
       "       [0., 1.],\n",
       "       [0., 1.],\n",
       "       [0., 1.],\n",
       "       [0., 1.],\n",
       "       [0., 1.],\n",
       "       [1., 0.],\n",
       "       [0., 1.],\n",
       "       [0., 1.],\n",
       "       [0., 1.],\n",
       "       [0., 1.],\n",
       "       [1., 0.],\n",
       "       [0., 1.],\n",
       "       [0., 1.],\n",
       "       [0., 1.],\n",
       "       [0., 1.],\n",
       "       [0., 1.],\n",
       "       [0., 1.],\n",
       "       [1., 0.],\n",
       "       [0., 1.],\n",
       "       [0., 1.],\n",
       "       [0., 1.],\n",
       "       [1., 0.],\n",
       "       [1., 0.],\n",
       "       [1., 0.],\n",
       "       [1., 0.],\n",
       "       [0., 1.],\n",
       "       [0., 1.],\n",
       "       [0., 1.],\n",
       "       [0., 1.],\n",
       "       [0., 1.],\n",
       "       [1., 0.],\n",
       "       [1., 0.],\n",
       "       [0., 1.],\n",
       "       [1., 0.],\n",
       "       [0., 1.],\n",
       "       [0., 1.],\n",
       "       [0., 1.],\n",
       "       [0., 1.],\n",
       "       [0., 1.],\n",
       "       [0., 1.],\n",
       "       [0., 1.],\n",
       "       [0., 1.],\n",
       "       [0., 1.],\n",
       "       [0., 1.],\n",
       "       [0., 1.],\n",
       "       [0., 1.],\n",
       "       [0., 1.],\n",
       "       [1., 0.],\n",
       "       [0., 1.],\n",
       "       [0., 1.],\n",
       "       [0., 1.],\n",
       "       [0., 1.],\n",
       "       [1., 0.],\n",
       "       [0., 1.],\n",
       "       [0., 1.],\n",
       "       [0., 1.],\n",
       "       [1., 0.],\n",
       "       [0., 1.],\n",
       "       [1., 0.],\n",
       "       [1., 0.],\n",
       "       [1., 0.],\n",
       "       [1., 0.],\n",
       "       [0., 1.],\n",
       "       [0., 1.],\n",
       "       [0., 1.],\n",
       "       [1., 0.],\n",
       "       [0., 1.],\n",
       "       [0., 1.],\n",
       "       [1., 0.],\n",
       "       [0., 1.],\n",
       "       [0., 1.],\n",
       "       [0., 1.],\n",
       "       [0., 1.],\n",
       "       [0., 1.],\n",
       "       [1., 0.],\n",
       "       [1., 0.],\n",
       "       [0., 1.],\n",
       "       [0., 1.],\n",
       "       [0., 1.],\n",
       "       [0., 1.],\n",
       "       [0., 1.],\n",
       "       [0., 1.],\n",
       "       [0., 1.],\n",
       "       [1., 0.],\n",
       "       [0., 1.],\n",
       "       [0., 1.],\n",
       "       [0., 1.],\n",
       "       [1., 0.],\n",
       "       [0., 1.],\n",
       "       [0., 1.],\n",
       "       [0., 1.],\n",
       "       [1., 0.],\n",
       "       [0., 1.],\n",
       "       [0., 1.],\n",
       "       [0., 1.],\n",
       "       [0., 1.],\n",
       "       [1., 0.],\n",
       "       [1., 0.],\n",
       "       [0., 1.],\n",
       "       [0., 1.],\n",
       "       [1., 0.],\n",
       "       [0., 1.],\n",
       "       [0., 1.],\n",
       "       [0., 1.],\n",
       "       [1., 0.],\n",
       "       [0., 1.],\n",
       "       [1., 0.],\n",
       "       [0., 1.],\n",
       "       [0., 1.],\n",
       "       [1., 0.],\n",
       "       [0., 1.],\n",
       "       [1., 0.],\n",
       "       [1., 0.],\n",
       "       [0., 1.],\n",
       "       [0., 1.],\n",
       "       [1., 0.],\n",
       "       [0., 1.],\n",
       "       [0., 1.],\n",
       "       [1., 0.],\n",
       "       [0., 1.],\n",
       "       [0., 1.],\n",
       "       [0., 1.],\n",
       "       [0., 1.],\n",
       "       [1., 0.],\n",
       "       [1., 0.],\n",
       "       [0., 1.],\n",
       "       [0., 1.],\n",
       "       [1., 0.],\n",
       "       [0., 1.],\n",
       "       [0., 1.],\n",
       "       [0., 1.],\n",
       "       [0., 1.],\n",
       "       [0., 1.],\n",
       "       [0., 1.],\n",
       "       [1., 0.],\n",
       "       [0., 1.],\n",
       "       [0., 1.],\n",
       "       [0., 1.],\n",
       "       [0., 1.],\n",
       "       [1., 0.],\n",
       "       [1., 0.],\n",
       "       [0., 1.],\n",
       "       [0., 1.],\n",
       "       [0., 1.],\n",
       "       [0., 1.],\n",
       "       [0., 1.],\n",
       "       [1., 0.],\n",
       "       [0., 1.],\n",
       "       [0., 1.],\n",
       "       [0., 1.],\n",
       "       [0., 1.],\n",
       "       [0., 1.],\n",
       "       [1., 0.],\n",
       "       [0., 1.],\n",
       "       [0., 1.],\n",
       "       [0., 1.],\n",
       "       [0., 1.],\n",
       "       [0., 1.],\n",
       "       [0., 1.],\n",
       "       [0., 1.],\n",
       "       [1., 0.],\n",
       "       [0., 1.],\n",
       "       [0., 1.],\n",
       "       [1., 0.],\n",
       "       [0., 1.],\n",
       "       [0., 1.],\n",
       "       [0., 1.],\n",
       "       [0., 1.],\n",
       "       [1., 0.],\n",
       "       [0., 1.],\n",
       "       [1., 0.],\n",
       "       [0., 1.],\n",
       "       [1., 0.],\n",
       "       [0., 1.],\n",
       "       [1., 0.],\n",
       "       [0., 1.],\n",
       "       [0., 1.],\n",
       "       [1., 0.],\n",
       "       [0., 1.],\n",
       "       [0., 1.],\n",
       "       [0., 1.],\n",
       "       [0., 1.],\n",
       "       [1., 0.],\n",
       "       [0., 1.],\n",
       "       [0., 1.],\n",
       "       [0., 1.],\n",
       "       [0., 1.],\n",
       "       [0., 1.],\n",
       "       [1., 0.],\n",
       "       [0., 1.],\n",
       "       [0., 1.],\n",
       "       [0., 1.],\n",
       "       [0., 1.],\n",
       "       [0., 1.],\n",
       "       [0., 1.],\n",
       "       [0., 1.],\n",
       "       [0., 1.],\n",
       "       [0., 1.],\n",
       "       [0., 1.],\n",
       "       [0., 1.],\n",
       "       [0., 1.],\n",
       "       [0., 1.],\n",
       "       [0., 1.],\n",
       "       [1., 0.],\n",
       "       [0., 1.],\n",
       "       [0., 1.],\n",
       "       [0., 1.],\n",
       "       [1., 0.],\n",
       "       [0., 1.],\n",
       "       [0., 1.],\n",
       "       [0., 1.],\n",
       "       [1., 0.],\n",
       "       [1., 0.],\n",
       "       [0., 1.],\n",
       "       [0., 1.],\n",
       "       [0., 1.],\n",
       "       [0., 1.],\n",
       "       [0., 1.],\n",
       "       [1., 0.],\n",
       "       [1., 0.],\n",
       "       [0., 1.],\n",
       "       [1., 0.],\n",
       "       [1., 0.],\n",
       "       [0., 1.],\n",
       "       [0., 1.],\n",
       "       [1., 0.],\n",
       "       [0., 1.],\n",
       "       [0., 1.],\n",
       "       [0., 1.],\n",
       "       [0., 1.],\n",
       "       [0., 1.],\n",
       "       [0., 1.],\n",
       "       [0., 1.],\n",
       "       [0., 1.],\n",
       "       [1., 0.],\n",
       "       [1., 0.],\n",
       "       [0., 1.],\n",
       "       [0., 1.],\n",
       "       [0., 1.],\n",
       "       [0., 1.],\n",
       "       [1., 0.],\n",
       "       [1., 0.],\n",
       "       [0., 1.],\n",
       "       [1., 0.],\n",
       "       [1., 0.],\n",
       "       [0., 1.],\n",
       "       [1., 0.],\n",
       "       [1., 0.],\n",
       "       [0., 1.],\n",
       "       [0., 1.],\n",
       "       [0., 1.],\n",
       "       [0., 1.],\n",
       "       [1., 0.],\n",
       "       [0., 1.],\n",
       "       [0., 1.],\n",
       "       [0., 1.],\n",
       "       [0., 1.],\n",
       "       [0., 1.],\n",
       "       [0., 1.],\n",
       "       [0., 1.],\n",
       "       [1., 0.],\n",
       "       [0., 1.],\n",
       "       [1., 0.],\n",
       "       [0., 1.],\n",
       "       [0., 1.],\n",
       "       [0., 1.],\n",
       "       [1., 0.],\n",
       "       [0., 1.],\n",
       "       [0., 1.],\n",
       "       [0., 1.],\n",
       "       [1., 0.],\n",
       "       [0., 1.],\n",
       "       [0., 1.],\n",
       "       [0., 1.],\n",
       "       [1., 0.],\n",
       "       [0., 1.],\n",
       "       [1., 0.],\n",
       "       [0., 1.],\n",
       "       [0., 1.],\n",
       "       [0., 1.],\n",
       "       [1., 0.],\n",
       "       [0., 1.],\n",
       "       [0., 1.],\n",
       "       [0., 1.],\n",
       "       [0., 1.],\n",
       "       [1., 0.],\n",
       "       [0., 1.],\n",
       "       [0., 1.],\n",
       "       [1., 0.],\n",
       "       [0., 1.],\n",
       "       [0., 1.],\n",
       "       [0., 1.],\n",
       "       [0., 1.],\n",
       "       [0., 1.],\n",
       "       [0., 1.],\n",
       "       [0., 1.],\n",
       "       [0., 1.],\n",
       "       [0., 1.],\n",
       "       [0., 1.],\n",
       "       [0., 1.],\n",
       "       [0., 1.],\n",
       "       [0., 1.],\n",
       "       [0., 1.],\n",
       "       [1., 0.],\n",
       "       [0., 1.],\n",
       "       [0., 1.],\n",
       "       [0., 1.]], dtype=float32)"
      ]
     },
     "execution_count": 10,
     "metadata": {},
     "output_type": "execute_result"
    }
   ],
   "source": [
    "train_labels"
   ]
  },
  {
   "cell_type": "code",
   "execution_count": 11,
   "metadata": {},
   "outputs": [
    {
     "data": {
      "text/plain": [
       "{'NORMAL': 0, 'PNEUMONIA': 1}"
      ]
     },
     "execution_count": 11,
     "metadata": {},
     "output_type": "execute_result"
    }
   ],
   "source": [
    "train_generator.class_indices"
   ]
  },
  {
   "cell_type": "code",
   "execution_count": 12,
   "metadata": {},
   "outputs": [],
   "source": [
    "# train_labels_final = train_labels.T[[1]]\n",
    "# test_labels_final = test_labels.T[[1]]\n",
    "# val_labels_final = val_labels.T[[1]]"
   ]
  },
  {
   "cell_type": "code",
   "execution_count": 38,
   "metadata": {},
   "outputs": [],
   "source": [
    "train_l = np.reshape(train_labels[:,0], (500,1))\n",
    "test_l= np.reshape(test_labels[:,0], (125,1))\n",
    "val_l = np.reshape(val_labels[:,0], (8,1))"
   ]
  },
  {
   "cell_type": "code",
   "execution_count": 39,
   "metadata": {},
   "outputs": [
    {
     "name": "stdout",
     "output_type": "stream",
     "text": [
      "Train Labels: (500, 1)\n",
      "Test Labels: (125, 1)\n",
      "Validation Labels: (8, 1)\n"
     ]
    }
   ],
   "source": [
    "print('Train Labels:',np.shape(train_l))\n",
    "print('Test Labels:',np.shape(test_l))\n",
    "print('Validation Labels:',np.shape(val_l))"
   ]
  },
  {
   "cell_type": "markdown",
   "metadata": {},
   "source": [
    "Standardizing the Data"
   ]
  },
  {
   "cell_type": "code",
   "execution_count": 20,
   "metadata": {},
   "outputs": [
    {
     "data": {
      "text/plain": [
       "numpy.ndarray"
      ]
     },
     "execution_count": 20,
     "metadata": {},
     "output_type": "execute_result"
    }
   ],
   "source": []
  },
  {
   "cell_type": "markdown",
   "metadata": {},
   "source": [
    "Train Test Split"
   ]
  },
  {
   "cell_type": "code",
   "execution_count": null,
   "metadata": {},
   "outputs": [],
   "source": []
  },
  {
   "cell_type": "code",
   "execution_count": null,
   "metadata": {},
   "outputs": [],
   "source": []
  },
  {
   "cell_type": "code",
   "execution_count": null,
   "metadata": {},
   "outputs": [],
   "source": []
  },
  {
   "cell_type": "markdown",
   "metadata": {},
   "source": [
    "## Baseline Model"
   ]
  },
  {
   "cell_type": "code",
   "execution_count": 47,
   "metadata": {},
   "outputs": [],
   "source": [
    "# Build a baseline fully connected model\n",
    "np.random.seed(42)\n",
    "model = models.Sequential()\n",
    "model.add(layers.Dense(20, activation='relu', input_shape=(16384,))) # 2 hidden layers\n",
    "model.add(layers.Dense(7, activation='relu'))\n",
    "model.add(layers.Dense(5, activation='relu'))\n",
    "model.add(layers.Dense(1, activation='sigmoid'))"
   ]
  },
  {
   "cell_type": "code",
   "execution_count": 48,
   "metadata": {},
   "outputs": [],
   "source": [
    "#Creating a Compile\n",
    "model.compile(optimizer='sgd',\n",
    "              loss='binary_crossentropy',\n",
    "              metrics=['acc'])"
   ]
  },
  {
   "cell_type": "code",
   "execution_count": 49,
   "metadata": {},
   "outputs": [
    {
     "name": "stdout",
     "output_type": "stream",
     "text": [
      "Epoch 1/100\n",
      "7/7 [==============================] - 1s 38ms/step - loss: 93252.5244 - acc: 0.4114 - val_loss: 0.6932 - val_acc: 0.5000\n",
      "Epoch 2/100\n",
      "7/7 [==============================] - 0s 9ms/step - loss: 0.6868 - acc: 0.7593 - val_loss: 0.6933 - val_acc: 0.5000\n",
      "Epoch 3/100\n",
      "7/7 [==============================] - 0s 10ms/step - loss: 0.6838 - acc: 0.7320 - val_loss: 0.6935 - val_acc: 0.5000\n",
      "Epoch 4/100\n",
      "7/7 [==============================] - 0s 10ms/step - loss: 0.6802 - acc: 0.7315 - val_loss: 0.6938 - val_acc: 0.5000\n",
      "Epoch 5/100\n",
      "7/7 [==============================] - 0s 10ms/step - loss: 0.6743 - acc: 0.7597 - val_loss: 0.6941 - val_acc: 0.5000\n",
      "Epoch 6/100\n",
      "7/7 [==============================] - 0s 11ms/step - loss: 0.6729 - acc: 0.7370 - val_loss: 0.6944 - val_acc: 0.5000\n",
      "Epoch 7/100\n",
      "7/7 [==============================] - 0s 10ms/step - loss: 0.6683 - acc: 0.7503 - val_loss: 0.6949 - val_acc: 0.5000\n",
      "Epoch 8/100\n",
      "7/7 [==============================] - 0s 10ms/step - loss: 0.6633 - acc: 0.7619 - val_loss: 0.6954 - val_acc: 0.5000\n",
      "Epoch 9/100\n",
      "7/7 [==============================] - 0s 10ms/step - loss: 0.6603 - acc: 0.7579 - val_loss: 0.6959 - val_acc: 0.5000\n",
      "Epoch 10/100\n",
      "7/7 [==============================] - 0s 10ms/step - loss: 0.6590 - acc: 0.7459 - val_loss: 0.6964 - val_acc: 0.5000\n",
      "Epoch 11/100\n",
      "7/7 [==============================] - 0s 10ms/step - loss: 0.6600 - acc: 0.7221 - val_loss: 0.6970 - val_acc: 0.5000\n",
      "Epoch 12/100\n",
      "7/7 [==============================] - 0s 10ms/step - loss: 0.6522 - acc: 0.7505 - val_loss: 0.6976 - val_acc: 0.5000\n",
      "Epoch 13/100\n",
      "7/7 [==============================] - 0s 9ms/step - loss: 0.6500 - acc: 0.7479 - val_loss: 0.6983 - val_acc: 0.5000\n",
      "Epoch 14/100\n",
      "7/7 [==============================] - 0s 10ms/step - loss: 0.6446 - acc: 0.7611 - val_loss: 0.6990 - val_acc: 0.5000\n",
      "Epoch 15/100\n",
      "7/7 [==============================] - 0s 11ms/step - loss: 0.6434 - acc: 0.7540 - val_loss: 0.6997 - val_acc: 0.5000\n",
      "Epoch 16/100\n",
      "7/7 [==============================] - 0s 10ms/step - loss: 0.6469 - acc: 0.7280 - val_loss: 0.7005 - val_acc: 0.5000\n",
      "Epoch 17/100\n",
      "7/7 [==============================] - 0s 11ms/step - loss: 0.6362 - acc: 0.7629 - val_loss: 0.7013 - val_acc: 0.5000\n",
      "Epoch 18/100\n",
      "7/7 [==============================] - 0s 10ms/step - loss: 0.6367 - acc: 0.7505 - val_loss: 0.7022 - val_acc: 0.5000\n",
      "Epoch 19/100\n",
      "7/7 [==============================] - 0s 10ms/step - loss: 0.6341 - acc: 0.7511 - val_loss: 0.7030 - val_acc: 0.5000\n",
      "Epoch 20/100\n",
      "7/7 [==============================] - 0s 10ms/step - loss: 0.6363 - acc: 0.7357 - val_loss: 0.7040 - val_acc: 0.5000\n",
      "Epoch 21/100\n",
      "7/7 [==============================] - 0s 10ms/step - loss: 0.6350 - acc: 0.7325 - val_loss: 0.7049 - val_acc: 0.5000\n",
      "Epoch 22/100\n",
      "7/7 [==============================] - 0s 10ms/step - loss: 0.6331 - acc: 0.7324 - val_loss: 0.7058 - val_acc: 0.5000\n",
      "Epoch 23/100\n",
      "7/7 [==============================] - 0s 13ms/step - loss: 0.6238 - acc: 0.7558 - val_loss: 0.7066 - val_acc: 0.5000\n",
      "Epoch 24/100\n",
      "7/7 [==============================] - 0s 11ms/step - loss: 0.6248 - acc: 0.7473 - val_loss: 0.7076 - val_acc: 0.5000\n",
      "Epoch 25/100\n",
      "7/7 [==============================] - 0s 31ms/step - loss: 0.6168 - acc: 0.7652 - val_loss: 0.7085 - val_acc: 0.5000\n",
      "Epoch 26/100\n",
      "7/7 [==============================] - 0s 13ms/step - loss: 0.6168 - acc: 0.7599 - val_loss: 0.7095 - val_acc: 0.5000\n",
      "Epoch 27/100\n",
      "7/7 [==============================] - 0s 10ms/step - loss: 0.6157 - acc: 0.7577 - val_loss: 0.7103 - val_acc: 0.5000\n",
      "Epoch 28/100\n",
      "7/7 [==============================] - 0s 10ms/step - loss: 0.6176 - acc: 0.7485 - val_loss: 0.7115 - val_acc: 0.5000\n",
      "Epoch 29/100\n",
      "7/7 [==============================] - 0s 10ms/step - loss: 0.6173 - acc: 0.7444 - val_loss: 0.7123 - val_acc: 0.5000\n",
      "Epoch 30/100\n",
      "7/7 [==============================] - 0s 12ms/step - loss: 0.6132 - acc: 0.7515 - val_loss: 0.7134 - val_acc: 0.5000\n",
      "Epoch 31/100\n",
      "7/7 [==============================] - 0s 12ms/step - loss: 0.6261 - acc: 0.7155 - val_loss: 0.7144 - val_acc: 0.5000\n",
      "Epoch 32/100\n",
      "7/7 [==============================] - 0s 14ms/step - loss: 0.6050 - acc: 0.7635 - val_loss: 0.7155 - val_acc: 0.5000\n",
      "Epoch 33/100\n",
      "7/7 [==============================] - 0s 11ms/step - loss: 0.6104 - acc: 0.7469 - val_loss: 0.7165 - val_acc: 0.5000\n",
      "Epoch 34/100\n",
      "7/7 [==============================] - 0s 12ms/step - loss: 0.6140 - acc: 0.7356 - val_loss: 0.7176 - val_acc: 0.5000\n",
      "Epoch 35/100\n",
      "7/7 [==============================] - 0s 14ms/step - loss: 0.6151 - acc: 0.7301 - val_loss: 0.7186 - val_acc: 0.5000\n",
      "Epoch 36/100\n",
      "7/7 [==============================] - 0s 13ms/step - loss: 0.5989 - acc: 0.7636 - val_loss: 0.7197 - val_acc: 0.5000\n",
      "Epoch 37/100\n",
      "7/7 [==============================] - 0s 14ms/step - loss: 0.6106 - acc: 0.7353 - val_loss: 0.7206 - val_acc: 0.5000\n",
      "Epoch 38/100\n",
      "7/7 [==============================] - 0s 14ms/step - loss: 0.6124 - acc: 0.7293 - val_loss: 0.7215 - val_acc: 0.5000\n",
      "Epoch 39/100\n",
      "7/7 [==============================] - 0s 12ms/step - loss: 0.5910 - acc: 0.7722 - val_loss: 0.7226 - val_acc: 0.5000\n",
      "Epoch 40/100\n",
      "7/7 [==============================] - 0s 13ms/step - loss: 0.5993 - acc: 0.7523 - val_loss: 0.7234 - val_acc: 0.5000\n",
      "Epoch 41/100\n",
      "7/7 [==============================] - 0s 13ms/step - loss: 0.6115 - acc: 0.7259 - val_loss: 0.7247 - val_acc: 0.5000\n",
      "Epoch 42/100\n",
      "7/7 [==============================] - 0s 11ms/step - loss: 0.5913 - acc: 0.7638 - val_loss: 0.7259 - val_acc: 0.5000\n",
      "Epoch 43/100\n",
      "7/7 [==============================] - 0s 10ms/step - loss: 0.6061 - acc: 0.7325 - val_loss: 0.7268 - val_acc: 0.5000\n",
      "Epoch 44/100\n",
      "7/7 [==============================] - 0s 11ms/step - loss: 0.6003 - acc: 0.7420 - val_loss: 0.7279 - val_acc: 0.5000\n",
      "Epoch 45/100\n",
      "7/7 [==============================] - 0s 10ms/step - loss: 0.5844 - acc: 0.7701 - val_loss: 0.7289 - val_acc: 0.5000\n",
      "Epoch 46/100\n",
      "7/7 [==============================] - 0s 17ms/step - loss: 0.5893 - acc: 0.7589 - val_loss: 0.7298 - val_acc: 0.5000\n",
      "Epoch 47/100\n",
      "7/7 [==============================] - 0s 10ms/step - loss: 0.5935 - acc: 0.7498 - val_loss: 0.7309 - val_acc: 0.5000\n",
      "Epoch 48/100\n",
      "7/7 [==============================] - 0s 10ms/step - loss: 0.5921 - acc: 0.7506 - val_loss: 0.7319 - val_acc: 0.5000\n",
      "Epoch 49/100\n",
      "7/7 [==============================] - 0s 11ms/step - loss: 0.6030 - acc: 0.7299 - val_loss: 0.7331 - val_acc: 0.5000\n",
      "Epoch 50/100\n",
      "7/7 [==============================] - 0s 10ms/step - loss: 0.5932 - acc: 0.7456 - val_loss: 0.7342 - val_acc: 0.5000\n",
      "Epoch 51/100\n",
      "7/7 [==============================] - 0s 10ms/step - loss: 0.5974 - acc: 0.7369 - val_loss: 0.7353 - val_acc: 0.5000\n",
      "Epoch 52/100\n",
      "7/7 [==============================] - 0s 10ms/step - loss: 0.5877 - acc: 0.7521 - val_loss: 0.7364 - val_acc: 0.5000\n",
      "Epoch 53/100\n",
      "7/7 [==============================] - 0s 11ms/step - loss: 0.5890 - acc: 0.7485 - val_loss: 0.7375 - val_acc: 0.5000\n",
      "Epoch 54/100\n",
      "7/7 [==============================] - 0s 11ms/step - loss: 0.5825 - acc: 0.7580 - val_loss: 0.7382 - val_acc: 0.5000\n",
      "Epoch 55/100\n",
      "7/7 [==============================] - 0s 10ms/step - loss: 0.6017 - acc: 0.7254 - val_loss: 0.7393 - val_acc: 0.5000\n",
      "Epoch 56/100\n",
      "7/7 [==============================] - 0s 11ms/step - loss: 0.5912 - acc: 0.7416 - val_loss: 0.7401 - val_acc: 0.5000\n",
      "Epoch 57/100\n",
      "7/7 [==============================] - 0s 10ms/step - loss: 0.5784 - acc: 0.7615 - val_loss: 0.7411 - val_acc: 0.5000\n",
      "Epoch 58/100\n",
      "7/7 [==============================] - 0s 10ms/step - loss: 0.5934 - acc: 0.7364 - val_loss: 0.7422 - val_acc: 0.5000\n",
      "Epoch 59/100\n",
      "7/7 [==============================] - 0s 11ms/step - loss: 0.5851 - acc: 0.7486 - val_loss: 0.7431 - val_acc: 0.5000\n",
      "Epoch 60/100\n",
      "7/7 [==============================] - 0s 10ms/step - loss: 0.5925 - acc: 0.7361 - val_loss: 0.7441 - val_acc: 0.5000\n",
      "Epoch 61/100\n",
      "7/7 [==============================] - 0s 9ms/step - loss: 0.5838 - acc: 0.7488 - val_loss: 0.7451 - val_acc: 0.5000\n",
      "Epoch 62/100\n",
      "7/7 [==============================] - 0s 10ms/step - loss: 0.5908 - acc: 0.7372 - val_loss: 0.7462 - val_acc: 0.5000\n",
      "Epoch 63/100\n"
     ]
    },
    {
     "name": "stdout",
     "output_type": "stream",
     "text": [
      "7/7 [==============================] - 0s 11ms/step - loss: 0.5924 - acc: 0.7338 - val_loss: 0.7472 - val_acc: 0.5000\n",
      "Epoch 64/100\n",
      "7/7 [==============================] - 0s 12ms/step - loss: 0.5794 - acc: 0.7527 - val_loss: 0.7483 - val_acc: 0.5000\n",
      "Epoch 65/100\n",
      "7/7 [==============================] - 0s 11ms/step - loss: 0.5783 - acc: 0.7534 - val_loss: 0.7492 - val_acc: 0.5000\n",
      "Epoch 66/100\n",
      "7/7 [==============================] - 0s 12ms/step - loss: 0.5918 - acc: 0.7326 - val_loss: 0.7503 - val_acc: 0.5000\n",
      "Epoch 67/100\n",
      "7/7 [==============================] - 0s 12ms/step - loss: 0.5807 - acc: 0.7483 - val_loss: 0.7514 - val_acc: 0.5000\n",
      "Epoch 68/100\n",
      "7/7 [==============================] - 0s 10ms/step - loss: 0.5938 - acc: 0.7286 - val_loss: 0.7523 - val_acc: 0.5000\n",
      "Epoch 69/100\n",
      "7/7 [==============================] - 0s 10ms/step - loss: 0.5900 - acc: 0.7335 - val_loss: 0.7534 - val_acc: 0.5000\n",
      "Epoch 70/100\n",
      "7/7 [==============================] - 0s 10ms/step - loss: 0.5644 - acc: 0.7694 - val_loss: 0.7541 - val_acc: 0.5000\n",
      "Epoch 71/100\n",
      "7/7 [==============================] - 0s 10ms/step - loss: 0.5961 - acc: 0.7238 - val_loss: 0.7552 - val_acc: 0.5000\n",
      "Epoch 72/100\n",
      "7/7 [==============================] - 0s 10ms/step - loss: 0.5780 - acc: 0.7489 - val_loss: 0.7560 - val_acc: 0.5000\n",
      "Epoch 73/100\n",
      "7/7 [==============================] - 0s 12ms/step - loss: 0.5796 - acc: 0.7461 - val_loss: 0.7570 - val_acc: 0.5000\n",
      "Epoch 74/100\n",
      "7/7 [==============================] - 0s 13ms/step - loss: 0.5876 - acc: 0.7345 - val_loss: 0.7579 - val_acc: 0.5000\n",
      "Epoch 75/100\n",
      "7/7 [==============================] - 0s 11ms/step - loss: 0.5756 - acc: 0.7505 - val_loss: 0.7588 - val_acc: 0.5000\n",
      "Epoch 76/100\n",
      "7/7 [==============================] - 0s 30ms/step - loss: 0.5728 - acc: 0.7537 - val_loss: 0.7598 - val_acc: 0.5000\n",
      "Epoch 77/100\n",
      "7/7 [==============================] - 0s 10ms/step - loss: 0.5671 - acc: 0.7608 - val_loss: 0.7607 - val_acc: 0.5000\n",
      "Epoch 78/100\n",
      "7/7 [==============================] - 0s 10ms/step - loss: 0.5808 - acc: 0.7419 - val_loss: 0.7616 - val_acc: 0.5000\n",
      "Epoch 79/100\n",
      "7/7 [==============================] - 0s 11ms/step - loss: 0.5732 - acc: 0.7516 - val_loss: 0.7624 - val_acc: 0.5000\n",
      "Epoch 80/100\n",
      "7/7 [==============================] - 0s 12ms/step - loss: 0.5702 - acc: 0.7552 - val_loss: 0.7633 - val_acc: 0.5000\n",
      "Epoch 81/100\n",
      "7/7 [==============================] - 0s 11ms/step - loss: 0.5751 - acc: 0.7482 - val_loss: 0.7642 - val_acc: 0.5000\n",
      "Epoch 82/100\n",
      "7/7 [==============================] - 0s 10ms/step - loss: 0.5781 - acc: 0.7438 - val_loss: 0.7651 - val_acc: 0.5000\n",
      "Epoch 83/100\n",
      "7/7 [==============================] - 0s 10ms/step - loss: 0.5659 - acc: 0.7594 - val_loss: 0.7661 - val_acc: 0.5000\n",
      "Epoch 84/100\n",
      "7/7 [==============================] - 0s 11ms/step - loss: 0.5839 - acc: 0.7356 - val_loss: 0.7668 - val_acc: 0.5000\n",
      "Epoch 85/100\n",
      "7/7 [==============================] - 0s 11ms/step - loss: 0.5890 - acc: 0.7287 - val_loss: 0.7677 - val_acc: 0.5000\n",
      "Epoch 86/100\n",
      "7/7 [==============================] - 0s 10ms/step - loss: 0.5773 - acc: 0.7434 - val_loss: 0.7684 - val_acc: 0.5000\n",
      "Epoch 87/100\n",
      "7/7 [==============================] - 0s 10ms/step - loss: 0.5654 - acc: 0.7583 - val_loss: 0.7694 - val_acc: 0.5000\n",
      "Epoch 88/100\n",
      "7/7 [==============================] - 0s 9ms/step - loss: 0.6010 - acc: 0.7128 - val_loss: 0.7701 - val_acc: 0.5000\n",
      "Epoch 89/100\n",
      "7/7 [==============================] - 0s 10ms/step - loss: 0.5803 - acc: 0.7388 - val_loss: 0.7709 - val_acc: 0.5000\n",
      "Epoch 90/100\n",
      "7/7 [==============================] - 0s 10ms/step - loss: 0.5669 - acc: 0.7553 - val_loss: 0.7717 - val_acc: 0.5000\n",
      "Epoch 91/100\n",
      "7/7 [==============================] - 0s 10ms/step - loss: 0.5884 - acc: 0.7282 - val_loss: 0.7724 - val_acc: 0.5000\n",
      "Epoch 92/100\n",
      "7/7 [==============================] - 0s 10ms/step - loss: 0.5862 - acc: 0.7307 - val_loss: 0.7732 - val_acc: 0.5000\n",
      "Epoch 93/100\n",
      "7/7 [==============================] - 0s 10ms/step - loss: 0.5588 - acc: 0.7643 - val_loss: 0.7738 - val_acc: 0.5000\n",
      "Epoch 94/100\n",
      "7/7 [==============================] - 0s 11ms/step - loss: 0.5769 - acc: 0.7418 - val_loss: 0.7746 - val_acc: 0.5000\n",
      "Epoch 95/100\n",
      "7/7 [==============================] - 0s 12ms/step - loss: 0.5719 - acc: 0.7477 - val_loss: 0.7752 - val_acc: 0.5000\n",
      "Epoch 96/100\n",
      "7/7 [==============================] - 0s 10ms/step - loss: 0.5630 - acc: 0.7583 - val_loss: 0.7759 - val_acc: 0.5000\n",
      "Epoch 97/100\n",
      "7/7 [==============================] - 0s 9ms/step - loss: 0.5931 - acc: 0.7216 - val_loss: 0.7764 - val_acc: 0.5000\n",
      "Epoch 98/100\n",
      "7/7 [==============================] - 0s 11ms/step - loss: 0.5590 - acc: 0.7626 - val_loss: 0.7771 - val_acc: 0.5000\n",
      "Epoch 99/100\n",
      "7/7 [==============================] - 0s 12ms/step - loss: 0.5627 - acc: 0.7580 - val_loss: 0.7779 - val_acc: 0.5000\n",
      "Epoch 100/100\n",
      "7/7 [==============================] - 0s 11ms/step - loss: 0.5779 - acc: 0.7394 - val_loss: 0.7787 - val_acc: 0.5000\n"
     ]
    }
   ],
   "source": [
    "#Creating History variable\n",
    "history = model.fit(train_images,\n",
    "                    train_l,\n",
    "                    epochs=100,\n",
    "                    batch_size=80,\n",
    "                    validation_data=(val_images, val_l))"
   ]
  },
  {
   "cell_type": "code",
   "execution_count": 50,
   "metadata": {},
   "outputs": [
    {
     "name": "stdout",
     "output_type": "stream",
     "text": [
      "16/16 [==============================] - 0s 2ms/step - loss: 0.5723 - acc: 0.7460\n"
     ]
    }
   ],
   "source": [
    "result_train = model.evaluate(train_images, train_l)"
   ]
  },
  {
   "cell_type": "code",
   "execution_count": 51,
   "metadata": {},
   "outputs": [
    {
     "name": "stdout",
     "output_type": "stream",
     "text": [
      "4/4 [==============================] - 0s 2ms/step - loss: 0.6142 - acc: 0.6960\n"
     ]
    }
   ],
   "source": [
    "results_test = model.evaluate(test_images, test_l)"
   ]
  },
  {
   "cell_type": "code",
   "execution_count": 52,
   "metadata": {},
   "outputs": [
    {
     "data": {
      "text/plain": [
       "[0.572269082069397, 0.7459999918937683]"
      ]
     },
     "execution_count": 52,
     "metadata": {},
     "output_type": "execute_result"
    }
   ],
   "source": [
    "result_train"
   ]
  },
  {
   "cell_type": "code",
   "execution_count": 53,
   "metadata": {},
   "outputs": [
    {
     "data": {
      "text/plain": [
       "[0.6142279505729675, 0.6959999799728394]"
      ]
     },
     "execution_count": 53,
     "metadata": {},
     "output_type": "execute_result"
    }
   ],
   "source": [
    "results_test"
   ]
  },
  {
   "cell_type": "code",
   "execution_count": null,
   "metadata": {},
   "outputs": [],
   "source": []
  }
 ],
 "metadata": {
  "kernelspec": {
   "display_name": "Python 3",
   "language": "python",
   "name": "python3"
  },
  "language_info": {
   "codemirror_mode": {
    "name": "ipython",
    "version": 3
   },
   "file_extension": ".py",
   "mimetype": "text/x-python",
   "name": "python",
   "nbconvert_exporter": "python",
   "pygments_lexer": "ipython3",
   "version": "3.7.4"
  },
  "toc": {
   "base_numbering": 1,
   "nav_menu": {},
   "number_sections": true,
   "sideBar": true,
   "skip_h1_title": false,
   "title_cell": "Table of Contents",
   "title_sidebar": "Contents",
   "toc_cell": false,
   "toc_position": {},
   "toc_section_display": true,
   "toc_window_display": true
  }
 },
 "nbformat": 4,
 "nbformat_minor": 4
}
