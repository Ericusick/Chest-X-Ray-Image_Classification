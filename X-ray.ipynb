{
 "cells": [
  {
   "cell_type": "markdown",
   "metadata": {},
   "source": [
    "## Introduction"
   ]
  },
  {
   "cell_type": "code",
   "execution_count": null,
   "metadata": {},
   "outputs": [],
   "source": []
  },
  {
   "cell_type": "markdown",
   "metadata": {},
   "source": [
    "## Importing Libraries and Loading Images"
   ]
  },
  {
   "cell_type": "markdown",
   "metadata": {},
   "source": [
    "### Libraries"
   ]
  },
  {
   "cell_type": "code",
   "execution_count": 1,
   "metadata": {},
   "outputs": [],
   "source": [
    "#Import necessary libraries\n",
    "import numpy as np\n",
    "import matplotlib.pyplot as plt\n",
    "import seaborn as sns\n",
    "sns.set_style(\"darkgrid\")\n",
    "from sklearn.model_selection import train_test_split\n",
    "import keras\n",
    "from keras import models\n",
    "from keras import layers\n",
    "from keras import optimizers\n",
    "from keras.layers import Dense, Conv2D, Flatten\n",
    "from keras.preprocessing.image import ImageDataGenerator, array_to_img, img_to_array, load_img\n",
    "import os"
   ]
  },
  {
   "cell_type": "markdown",
   "metadata": {},
   "source": [
    "### Load Images"
   ]
  },
  {
   "cell_type": "code",
   "execution_count": 2,
   "metadata": {},
   "outputs": [],
   "source": [
    "#Directory path\n",
    "train_data_dir = 'chest_xray/train/'\n",
    "test_data_dir = 'chest_xray/test/'\n",
    "val_data_dir = 'chest_xray/val/'"
   ]
  },
  {
   "cell_type": "code",
   "execution_count": 3,
   "metadata": {},
   "outputs": [
    {
     "name": "stdout",
     "output_type": "stream",
     "text": [
      "Found 5216 images belonging to 2 classes.\n",
      "Found 624 images belonging to 2 classes.\n",
      "Found 16 images belonging to 2 classes.\n"
     ]
    }
   ],
   "source": [
    "#Get all the data in each generator and reshaping the images\n",
    "train_generator = ImageDataGenerator(rescale = 1./255).flow_from_directory(\n",
    "        train_data_dir, \n",
    "        target_size=(128, 128), \n",
    "        color_mode = 'grayscale', \n",
    "        batch_size=500)\n",
    "\n",
    "test_generator = ImageDataGenerator(rescale = 1./255).flow_from_directory(\n",
    "        test_data_dir, \n",
    "        target_size=(128, 128), \n",
    "        color_mode = 'grayscale', \n",
    "        batch_size=200)\n",
    "\n",
    "val_generator = ImageDataGenerator(rescale = 1./255).flow_from_directory(\n",
    "        val_data_dir, \n",
    "        target_size=(128, 128), \n",
    "        color_mode = 'grayscale',\n",
    "        batch_size=16)"
   ]
  },
  {
   "cell_type": "code",
   "execution_count": 4,
   "metadata": {},
   "outputs": [],
   "source": [
    "#Create the datasets\n",
    "train_images, train_labels = next(train_generator)\n",
    "test_images, test_labels = next(test_generator)\n",
    "val_images, val_labels = next(val_generator)"
   ]
  },
  {
   "cell_type": "markdown",
   "metadata": {},
   "source": [
    "### Previewing Images"
   ]
  },
  {
   "cell_type": "code",
   "execution_count": 5,
   "metadata": {},
   "outputs": [
    {
     "data": {
      "image/png": "[encoded data removed]",
      "text/plain": [
       "<PIL.Image.Image image mode=L size=128x128 at 0x2A901B003A0>"
      ]
     },
     "execution_count": 5,
     "metadata": {},
     "output_type": "execute_result"
    }
   ],
   "source": [
    "array_to_img(train_images[10])"
   ]
  },
  {
   "cell_type": "code",
   "execution_count": 6,
   "metadata": {},
   "outputs": [
    {
     "data": {
      "image/png": "[encoded data removed]",
      "text/plain": [
       "<PIL.Image.Image image mode=L size=128x128 at 0x2A901B008E0>"
      ]
     },
     "execution_count": 6,
     "metadata": {},
     "output_type": "execute_result"
    }
   ],
   "source": [
    "array_to_img(train_images[22])"
   ]
  },
  {
   "cell_type": "markdown",
   "metadata": {},
   "source": [
    "## Images and Labels"
   ]
  },
  {
   "cell_type": "markdown",
   "metadata": {},
   "source": [
    "### EDA of the Dataset"
   ]
  },
  {
   "cell_type": "code",
   "execution_count": 7,
   "metadata": {},
   "outputs": [
    {
     "name": "stdout",
     "output_type": "stream",
     "text": [
      "Number of training samples: 500\n",
      "Number of testing samples: 200\n",
      "Number of validation samples: 16\n",
      "train_images shape: (500, 128, 128, 1)\n",
      "train_labels shape: (500, 2)\n",
      "test_images shape: (200, 128, 128, 1)\n",
      "test_labels shape: (200, 2)\n",
      "val_images shape: (16, 128, 128, 1)\n",
      "val_labels shape: (16, 2)\n"
     ]
    }
   ],
   "source": [
    "#exploring the data set\n",
    "train_ex = train_images.shape[0]\n",
    "num_px = train_images.shape[1]\n",
    "test_ex = test_images.shape[0]\n",
    "val_ex = val_images.shape[0]\n",
    "\n",
    "print (\"Number of training samples: \" + str(train_ex))\n",
    "print (\"Number of testing samples: \" + str(test_ex))\n",
    "print (\"Number of validation samples: \" + str(val_ex))\n",
    "print (\"train_images shape: \" + str(train_images.shape))\n",
    "print (\"train_labels shape: \" + str(train_labels.shape))\n",
    "print (\"test_images shape: \" + str(test_images.shape))\n",
    "print (\"test_labels shape: \" + str(test_labels.shape))\n",
    "print (\"val_images shape: \" + str(val_images.shape))\n",
    "print (\"val_labels shape: \" + str(val_labels.shape))"
   ]
  },
  {
   "cell_type": "markdown",
   "metadata": {},
   "source": [
    "### Images"
   ]
  },
  {
   "cell_type": "code",
   "execution_count": 8,
   "metadata": {},
   "outputs": [],
   "source": [
    "#Reshaping the images\n",
    "train_img = train_images.reshape(train_images.shape[0], -1)\n",
    "test_img = test_images.reshape(test_images.shape[0], -1)\n",
    "val_img = val_images.reshape(val_images.shape[0], -1)"
   ]
  },
  {
   "cell_type": "code",
   "execution_count": 9,
   "metadata": {},
   "outputs": [
    {
     "name": "stdout",
     "output_type": "stream",
     "text": [
      "Train Images: (500, 16384)\n",
      "Test Images: (200, 16384)\n",
      "Validation Images: (16, 16384)\n"
     ]
    }
   ],
   "source": [
    "#Previewing the shape of images\n",
    "print('Train Images:',np.shape(train_img))\n",
    "print('Test Images:',np.shape(test_img))\n",
    "print('Validation Images:',np.shape(val_img))"
   ]
  },
  {
   "cell_type": "markdown",
   "metadata": {},
   "source": [
    "### Labels"
   ]
  },
  {
   "cell_type": "code",
   "execution_count": 10,
   "metadata": {},
   "outputs": [
    {
     "data": {
      "text/plain": [
       "array([[0., 1.],\n",
       "       [1., 0.],\n",
       "       [0., 1.],\n",
       "       [1., 0.],\n",
       "       [1., 0.],\n",
       "       [0., 1.],\n",
       "       [0., 1.],\n",
       "       [0., 1.],\n",
       "       [0., 1.],\n",
       "       [0., 1.],\n",
       "       [0., 1.],\n",
       "       [0., 1.],\n",
       "       [0., 1.],\n",
       "       [0., 1.],\n",
       "       [0., 1.],\n",
       "       [0., 1.],\n",
       "       [0., 1.],\n",
       "       [1., 0.],\n",
       "       [0., 1.],\n",
       "       [0., 1.],\n",
       "       [0., 1.],\n",
       "       [0., 1.],\n",
       "       [0., 1.],\n",
       "       [0., 1.],\n",
       "       [1., 0.],\n",
       "       [1., 0.],\n",
       "       [0., 1.],\n",
       "       [1., 0.],\n",
       "       [0., 1.],\n",
       "       [0., 1.],\n",
       "       [0., 1.],\n",
       "       [0., 1.],\n",
       "       [0., 1.],\n",
       "       [0., 1.],\n",
       "       [0., 1.],\n",
       "       [0., 1.],\n",
       "       [1., 0.],\n",
       "       [0., 1.],\n",
       "       [0., 1.],\n",
       "       [0., 1.],\n",
       "       [1., 0.],\n",
       "       [0., 1.],\n",
       "       [0., 1.],\n",
       "       [0., 1.],\n",
       "       [1., 0.],\n",
       "       [1., 0.],\n",
       "       [0., 1.],\n",
       "       [1., 0.],\n",
       "       [0., 1.],\n",
       "       [0., 1.],\n",
       "       [0., 1.],\n",
       "       [0., 1.],\n",
       "       [1., 0.],\n",
       "       [0., 1.],\n",
       "       [1., 0.],\n",
       "       [0., 1.],\n",
       "       [1., 0.],\n",
       "       [0., 1.],\n",
       "       [0., 1.],\n",
       "       [0., 1.],\n",
       "       [1., 0.],\n",
       "       [0., 1.],\n",
       "       [0., 1.],\n",
       "       [0., 1.],\n",
       "       [1., 0.],\n",
       "       [1., 0.],\n",
       "       [1., 0.],\n",
       "       [0., 1.],\n",
       "       [0., 1.],\n",
       "       [1., 0.],\n",
       "       [0., 1.],\n",
       "       [0., 1.],\n",
       "       [1., 0.],\n",
       "       [1., 0.],\n",
       "       [0., 1.],\n",
       "       [0., 1.],\n",
       "       [0., 1.],\n",
       "       [0., 1.],\n",
       "       [1., 0.],\n",
       "       [0., 1.],\n",
       "       [0., 1.],\n",
       "       [1., 0.],\n",
       "       [1., 0.],\n",
       "       [0., 1.],\n",
       "       [1., 0.],\n",
       "       [0., 1.],\n",
       "       [1., 0.],\n",
       "       [0., 1.],\n",
       "       [0., 1.],\n",
       "       [1., 0.],\n",
       "       [0., 1.],\n",
       "       [1., 0.],\n",
       "       [0., 1.],\n",
       "       [1., 0.],\n",
       "       [1., 0.],\n",
       "       [0., 1.],\n",
       "       [0., 1.],\n",
       "       [0., 1.],\n",
       "       [0., 1.],\n",
       "       [0., 1.],\n",
       "       [0., 1.],\n",
       "       [0., 1.],\n",
       "       [1., 0.],\n",
       "       [0., 1.],\n",
       "       [1., 0.],\n",
       "       [0., 1.],\n",
       "       [0., 1.],\n",
       "       [1., 0.],\n",
       "       [0., 1.],\n",
       "       [0., 1.],\n",
       "       [1., 0.],\n",
       "       [0., 1.],\n",
       "       [0., 1.],\n",
       "       [0., 1.],\n",
       "       [0., 1.],\n",
       "       [0., 1.],\n",
       "       [0., 1.],\n",
       "       [1., 0.],\n",
       "       [0., 1.],\n",
       "       [1., 0.],\n",
       "       [0., 1.],\n",
       "       [0., 1.],\n",
       "       [0., 1.],\n",
       "       [0., 1.],\n",
       "       [0., 1.],\n",
       "       [0., 1.],\n",
       "       [0., 1.],\n",
       "       [0., 1.],\n",
       "       [1., 0.],\n",
       "       [0., 1.],\n",
       "       [0., 1.],\n",
       "       [0., 1.],\n",
       "       [0., 1.],\n",
       "       [1., 0.],\n",
       "       [1., 0.],\n",
       "       [0., 1.],\n",
       "       [1., 0.],\n",
       "       [0., 1.],\n",
       "       [1., 0.],\n",
       "       [0., 1.],\n",
       "       [0., 1.],\n",
       "       [0., 1.],\n",
       "       [1., 0.],\n",
       "       [0., 1.],\n",
       "       [0., 1.],\n",
       "       [0., 1.],\n",
       "       [0., 1.],\n",
       "       [1., 0.],\n",
       "       [0., 1.],\n",
       "       [0., 1.],\n",
       "       [0., 1.],\n",
       "       [0., 1.],\n",
       "       [1., 0.],\n",
       "       [0., 1.],\n",
       "       [0., 1.],\n",
       "       [0., 1.],\n",
       "       [0., 1.],\n",
       "       [0., 1.],\n",
       "       [0., 1.],\n",
       "       [1., 0.],\n",
       "       [0., 1.],\n",
       "       [0., 1.],\n",
       "       [0., 1.],\n",
       "       [1., 0.],\n",
       "       [0., 1.],\n",
       "       [0., 1.],\n",
       "       [0., 1.],\n",
       "       [1., 0.],\n",
       "       [0., 1.],\n",
       "       [0., 1.],\n",
       "       [0., 1.],\n",
       "       [1., 0.],\n",
       "       [0., 1.],\n",
       "       [0., 1.],\n",
       "       [0., 1.],\n",
       "       [0., 1.],\n",
       "       [1., 0.],\n",
       "       [1., 0.],\n",
       "       [0., 1.],\n",
       "       [0., 1.],\n",
       "       [0., 1.],\n",
       "       [0., 1.],\n",
       "       [0., 1.],\n",
       "       [1., 0.],\n",
       "       [0., 1.],\n",
       "       [0., 1.],\n",
       "       [0., 1.],\n",
       "       [0., 1.],\n",
       "       [0., 1.],\n",
       "       [0., 1.],\n",
       "       [1., 0.],\n",
       "       [1., 0.],\n",
       "       [1., 0.],\n",
       "       [0., 1.],\n",
       "       [0., 1.],\n",
       "       [1., 0.],\n",
       "       [0., 1.],\n",
       "       [0., 1.],\n",
       "       [0., 1.],\n",
       "       [0., 1.],\n",
       "       [0., 1.],\n",
       "       [0., 1.],\n",
       "       [0., 1.],\n",
       "       [0., 1.],\n",
       "       [1., 0.],\n",
       "       [0., 1.],\n",
       "       [0., 1.],\n",
       "       [0., 1.],\n",
       "       [0., 1.],\n",
       "       [0., 1.],\n",
       "       [0., 1.],\n",
       "       [0., 1.],\n",
       "       [0., 1.],\n",
       "       [0., 1.],\n",
       "       [0., 1.],\n",
       "       [1., 0.],\n",
       "       [0., 1.],\n",
       "       [1., 0.],\n",
       "       [1., 0.],\n",
       "       [0., 1.],\n",
       "       [1., 0.],\n",
       "       [0., 1.],\n",
       "       [0., 1.],\n",
       "       [0., 1.],\n",
       "       [0., 1.],\n",
       "       [0., 1.],\n",
       "       [0., 1.],\n",
       "       [0., 1.],\n",
       "       [0., 1.],\n",
       "       [0., 1.],\n",
       "       [0., 1.],\n",
       "       [0., 1.],\n",
       "       [0., 1.],\n",
       "       [0., 1.],\n",
       "       [0., 1.],\n",
       "       [0., 1.],\n",
       "       [0., 1.],\n",
       "       [0., 1.],\n",
       "       [1., 0.],\n",
       "       [1., 0.],\n",
       "       [0., 1.],\n",
       "       [1., 0.],\n",
       "       [0., 1.],\n",
       "       [0., 1.],\n",
       "       [0., 1.],\n",
       "       [0., 1.],\n",
       "       [0., 1.],\n",
       "       [0., 1.],\n",
       "       [0., 1.],\n",
       "       [0., 1.],\n",
       "       [0., 1.],\n",
       "       [1., 0.],\n",
       "       [1., 0.],\n",
       "       [0., 1.],\n",
       "       [0., 1.],\n",
       "       [0., 1.],\n",
       "       [0., 1.],\n",
       "       [0., 1.],\n",
       "       [1., 0.],\n",
       "       [0., 1.],\n",
       "       [0., 1.],\n",
       "       [0., 1.],\n",
       "       [0., 1.],\n",
       "       [0., 1.],\n",
       "       [0., 1.],\n",
       "       [0., 1.],\n",
       "       [0., 1.],\n",
       "       [0., 1.],\n",
       "       [1., 0.],\n",
       "       [1., 0.],\n",
       "       [0., 1.],\n",
       "       [0., 1.],\n",
       "       [0., 1.],\n",
       "       [1., 0.],\n",
       "       [0., 1.],\n",
       "       [0., 1.],\n",
       "       [0., 1.],\n",
       "       [0., 1.],\n",
       "       [0., 1.],\n",
       "       [0., 1.],\n",
       "       [0., 1.],\n",
       "       [0., 1.],\n",
       "       [0., 1.],\n",
       "       [0., 1.],\n",
       "       [0., 1.],\n",
       "       [1., 0.],\n",
       "       [1., 0.],\n",
       "       [0., 1.],\n",
       "       [0., 1.],\n",
       "       [0., 1.],\n",
       "       [0., 1.],\n",
       "       [1., 0.],\n",
       "       [0., 1.],\n",
       "       [0., 1.],\n",
       "       [1., 0.],\n",
       "       [0., 1.],\n",
       "       [0., 1.],\n",
       "       [0., 1.],\n",
       "       [1., 0.],\n",
       "       [0., 1.],\n",
       "       [0., 1.],\n",
       "       [0., 1.],\n",
       "       [1., 0.],\n",
       "       [0., 1.],\n",
       "       [0., 1.],\n",
       "       [1., 0.],\n",
       "       [0., 1.],\n",
       "       [0., 1.],\n",
       "       [0., 1.],\n",
       "       [0., 1.],\n",
       "       [0., 1.],\n",
       "       [0., 1.],\n",
       "       [1., 0.],\n",
       "       [0., 1.],\n",
       "       [0., 1.],\n",
       "       [0., 1.],\n",
       "       [1., 0.],\n",
       "       [0., 1.],\n",
       "       [1., 0.],\n",
       "       [0., 1.],\n",
       "       [0., 1.],\n",
       "       [0., 1.],\n",
       "       [0., 1.],\n",
       "       [1., 0.],\n",
       "       [1., 0.],\n",
       "       [1., 0.],\n",
       "       [0., 1.],\n",
       "       [0., 1.],\n",
       "       [1., 0.],\n",
       "       [0., 1.],\n",
       "       [0., 1.],\n",
       "       [1., 0.],\n",
       "       [1., 0.],\n",
       "       [0., 1.],\n",
       "       [0., 1.],\n",
       "       [0., 1.],\n",
       "       [1., 0.],\n",
       "       [0., 1.],\n",
       "       [0., 1.],\n",
       "       [0., 1.],\n",
       "       [0., 1.],\n",
       "       [0., 1.],\n",
       "       [0., 1.],\n",
       "       [1., 0.],\n",
       "       [0., 1.],\n",
       "       [0., 1.],\n",
       "       [1., 0.],\n",
       "       [0., 1.],\n",
       "       [0., 1.],\n",
       "       [0., 1.],\n",
       "       [1., 0.],\n",
       "       [1., 0.],\n",
       "       [0., 1.],\n",
       "       [0., 1.],\n",
       "       [0., 1.],\n",
       "       [0., 1.],\n",
       "       [0., 1.],\n",
       "       [0., 1.],\n",
       "       [0., 1.],\n",
       "       [1., 0.],\n",
       "       [1., 0.],\n",
       "       [0., 1.],\n",
       "       [1., 0.],\n",
       "       [0., 1.],\n",
       "       [0., 1.],\n",
       "       [0., 1.],\n",
       "       [0., 1.],\n",
       "       [0., 1.],\n",
       "       [0., 1.],\n",
       "       [1., 0.],\n",
       "       [0., 1.],\n",
       "       [1., 0.],\n",
       "       [0., 1.],\n",
       "       [0., 1.],\n",
       "       [0., 1.],\n",
       "       [0., 1.],\n",
       "       [0., 1.],\n",
       "       [0., 1.],\n",
       "       [0., 1.],\n",
       "       [0., 1.],\n",
       "       [1., 0.],\n",
       "       [0., 1.],\n",
       "       [0., 1.],\n",
       "       [1., 0.],\n",
       "       [0., 1.],\n",
       "       [0., 1.],\n",
       "       [0., 1.],\n",
       "       [0., 1.],\n",
       "       [0., 1.],\n",
       "       [0., 1.],\n",
       "       [0., 1.],\n",
       "       [0., 1.],\n",
       "       [1., 0.],\n",
       "       [0., 1.],\n",
       "       [0., 1.],\n",
       "       [0., 1.],\n",
       "       [1., 0.],\n",
       "       [1., 0.],\n",
       "       [0., 1.],\n",
       "       [1., 0.],\n",
       "       [0., 1.],\n",
       "       [1., 0.],\n",
       "       [0., 1.],\n",
       "       [0., 1.],\n",
       "       [0., 1.],\n",
       "       [0., 1.],\n",
       "       [0., 1.],\n",
       "       [0., 1.],\n",
       "       [0., 1.],\n",
       "       [0., 1.],\n",
       "       [1., 0.],\n",
       "       [0., 1.],\n",
       "       [0., 1.],\n",
       "       [1., 0.],\n",
       "       [0., 1.],\n",
       "       [0., 1.],\n",
       "       [0., 1.],\n",
       "       [0., 1.],\n",
       "       [0., 1.],\n",
       "       [0., 1.],\n",
       "       [1., 0.],\n",
       "       [0., 1.],\n",
       "       [1., 0.],\n",
       "       [1., 0.],\n",
       "       [0., 1.],\n",
       "       [0., 1.],\n",
       "       [0., 1.],\n",
       "       [0., 1.],\n",
       "       [0., 1.],\n",
       "       [0., 1.],\n",
       "       [0., 1.],\n",
       "       [0., 1.],\n",
       "       [0., 1.],\n",
       "       [0., 1.],\n",
       "       [0., 1.],\n",
       "       [0., 1.],\n",
       "       [0., 1.],\n",
       "       [0., 1.],\n",
       "       [1., 0.],\n",
       "       [0., 1.],\n",
       "       [0., 1.],\n",
       "       [0., 1.],\n",
       "       [0., 1.],\n",
       "       [0., 1.],\n",
       "       [0., 1.],\n",
       "       [0., 1.],\n",
       "       [0., 1.],\n",
       "       [0., 1.],\n",
       "       [0., 1.],\n",
       "       [0., 1.],\n",
       "       [0., 1.],\n",
       "       [0., 1.],\n",
       "       [0., 1.],\n",
       "       [0., 1.],\n",
       "       [0., 1.],\n",
       "       [0., 1.],\n",
       "       [1., 0.],\n",
       "       [0., 1.],\n",
       "       [0., 1.],\n",
       "       [0., 1.],\n",
       "       [1., 0.],\n",
       "       [0., 1.],\n",
       "       [0., 1.],\n",
       "       [0., 1.],\n",
       "       [0., 1.],\n",
       "       [0., 1.],\n",
       "       [0., 1.],\n",
       "       [1., 0.],\n",
       "       [0., 1.],\n",
       "       [0., 1.],\n",
       "       [1., 0.],\n",
       "       [1., 0.],\n",
       "       [1., 0.],\n",
       "       [0., 1.],\n",
       "       [0., 1.],\n",
       "       [0., 1.],\n",
       "       [0., 1.],\n",
       "       [0., 1.],\n",
       "       [1., 0.],\n",
       "       [0., 1.],\n",
       "       [1., 0.],\n",
       "       [0., 1.],\n",
       "       [1., 0.],\n",
       "       [0., 1.],\n",
       "       [0., 1.],\n",
       "       [0., 1.],\n",
       "       [1., 0.],\n",
       "       [1., 0.],\n",
       "       [1., 0.],\n",
       "       [0., 1.],\n",
       "       [0., 1.],\n",
       "       [1., 0.],\n",
       "       [0., 1.],\n",
       "       [0., 1.],\n",
       "       [0., 1.],\n",
       "       [0., 1.],\n",
       "       [0., 1.],\n",
       "       [1., 0.],\n",
       "       [0., 1.],\n",
       "       [0., 1.]], dtype=float32)"
      ]
     },
     "execution_count": 10,
     "metadata": {},
     "output_type": "execute_result"
    }
   ],
   "source": [
    "train_labels"
   ]
  },
  {
   "cell_type": "code",
   "execution_count": 11,
   "metadata": {},
   "outputs": [
    {
     "data": {
      "text/plain": [
       "{'NORMAL': 0, 'PNEUMONIA': 1}"
      ]
     },
     "execution_count": 11,
     "metadata": {},
     "output_type": "execute_result"
    }
   ],
   "source": [
    "train_generator.class_indices"
   ]
  },
  {
   "cell_type": "code",
   "execution_count": 12,
   "metadata": {},
   "outputs": [],
   "source": [
    "train_label = np.reshape(train_labels[:, 0], (500,1))\n",
    "test_label = np.reshape(test_labels[:, 0], (200,1))\n",
    "val_label = np.reshape(val_labels[:, 0], (16,1))"
   ]
  },
  {
   "cell_type": "code",
   "execution_count": 13,
   "metadata": {},
   "outputs": [
    {
     "name": "stdout",
     "output_type": "stream",
     "text": [
      "Train Labels: (500, 1)\n",
      "Test Labels: (200, 1)\n",
      "Validation Labels: (16, 1)\n"
     ]
    }
   ],
   "source": [
    "print('Train Labels:',np.shape(train_label))\n",
    "print('Test Labels:',np.shape(test_label))\n",
    "print('Validation Labels:',np.shape(val_label))"
   ]
  },
  {
   "cell_type": "markdown",
   "metadata": {},
   "source": [
    "## Baseline Model"
   ]
  },
  {
   "cell_type": "markdown",
   "metadata": {},
   "source": [
    "### Model"
   ]
  },
  {
   "cell_type": "code",
   "execution_count": 14,
   "metadata": {},
   "outputs": [],
   "source": [
    "# Build a baseline fully connected model\n",
    "np.random.seed(42)\n",
    "model = models.Sequential()\n",
    "model.add(layers.Dense(8, activation='relu', input_shape=(16384, )))\n",
    "model.add(layers.Dense(1, activation='sigmoid'))"
   ]
  },
  {
   "cell_type": "code",
   "execution_count": 15,
   "metadata": {},
   "outputs": [
    {
     "name": "stdout",
     "output_type": "stream",
     "text": [
      "Model: \"sequential\"\n",
      "_________________________________________________________________\n",
      "Layer (type)                 Output Shape              Param #   \n",
      "=================================================================\n",
      "dense (Dense)                (None, 8)                 131080    \n",
      "_________________________________________________________________\n",
      "dense_1 (Dense)              (None, 1)                 9         \n",
      "=================================================================\n",
      "Total params: 131,089\n",
      "Trainable params: 131,089\n",
      "Non-trainable params: 0\n",
      "_________________________________________________________________\n"
     ]
    }
   ],
   "source": [
    "model.summary()"
   ]
  },
  {
   "cell_type": "code",
   "execution_count": 16,
   "metadata": {},
   "outputs": [],
   "source": [
    "#Creating a Compile\n",
    "model.compile(optimizer='sgd',\n",
    "              loss='binary_crossentropy',\n",
    "              metrics=['accuracy'])"
   ]
  },
  {
   "cell_type": "code",
   "execution_count": 17,
   "metadata": {
    "scrolled": true
   },
   "outputs": [
    {
     "name": "stdout",
     "output_type": "stream",
     "text": [
      "Epoch 1/100\n",
      "7/7 [==============================] - 0s 22ms/step - loss: 0.7131 - accuracy: 0.6980 - val_loss: 0.7105 - val_accuracy: 0.5000\n",
      "Epoch 2/100\n",
      "7/7 [==============================] - 0s 5ms/step - loss: 0.5694 - accuracy: 0.7540 - val_loss: 0.8689 - val_accuracy: 0.5000\n",
      "Epoch 3/100\n",
      "7/7 [==============================] - 0s 5ms/step - loss: 0.5477 - accuracy: 0.7540 - val_loss: 0.8586 - val_accuracy: 0.5000\n",
      "Epoch 4/100\n",
      "7/7 [==============================] - 0s 5ms/step - loss: 0.5421 - accuracy: 0.7540 - val_loss: 0.7832 - val_accuracy: 0.5000\n",
      "Epoch 5/100\n",
      "7/7 [==============================] - 0s 5ms/step - loss: 0.5348 - accuracy: 0.7540 - val_loss: 0.7171 - val_accuracy: 0.5000\n",
      "Epoch 6/100\n",
      "7/7 [==============================] - 0s 5ms/step - loss: 0.5355 - accuracy: 0.7540 - val_loss: 0.7905 - val_accuracy: 0.5000\n",
      "Epoch 7/100\n",
      "7/7 [==============================] - 0s 6ms/step - loss: 0.5192 - accuracy: 0.7540 - val_loss: 0.9071 - val_accuracy: 0.5000\n",
      "Epoch 8/100\n",
      "7/7 [==============================] - 0s 5ms/step - loss: 0.5113 - accuracy: 0.7540 - val_loss: 0.8184 - val_accuracy: 0.5000\n",
      "Epoch 9/100\n",
      "7/7 [==============================] - 0s 5ms/step - loss: 0.5031 - accuracy: 0.7540 - val_loss: 0.7679 - val_accuracy: 0.5000\n",
      "Epoch 10/100\n",
      "7/7 [==============================] - 0s 5ms/step - loss: 0.4882 - accuracy: 0.7540 - val_loss: 0.9020 - val_accuracy: 0.5000\n",
      "Epoch 11/100\n",
      "7/7 [==============================] - 0s 5ms/step - loss: 0.4785 - accuracy: 0.7540 - val_loss: 0.9272 - val_accuracy: 0.5000\n",
      "Epoch 12/100\n",
      "7/7 [==============================] - 0s 5ms/step - loss: 0.4639 - accuracy: 0.7540 - val_loss: 0.8096 - val_accuracy: 0.5000\n",
      "Epoch 13/100\n",
      "7/7 [==============================] - 0s 5ms/step - loss: 0.4484 - accuracy: 0.7540 - val_loss: 0.7097 - val_accuracy: 0.5000\n",
      "Epoch 14/100\n",
      "7/7 [==============================] - 0s 5ms/step - loss: 0.4390 - accuracy: 0.7540 - val_loss: 0.6440 - val_accuracy: 0.5000\n",
      "Epoch 15/100\n",
      "7/7 [==============================] - 0s 5ms/step - loss: 0.4325 - accuracy: 0.7540 - val_loss: 0.7474 - val_accuracy: 0.5000\n",
      "Epoch 16/100\n",
      "7/7 [==============================] - 0s 6ms/step - loss: 0.4168 - accuracy: 0.7540 - val_loss: 0.7921 - val_accuracy: 0.5000\n",
      "Epoch 17/100\n",
      "7/7 [==============================] - 0s 5ms/step - loss: 0.4063 - accuracy: 0.7540 - val_loss: 0.9367 - val_accuracy: 0.5000\n",
      "Epoch 18/100\n",
      "7/7 [==============================] - 0s 5ms/step - loss: 0.4085 - accuracy: 0.7540 - val_loss: 0.6494 - val_accuracy: 0.5000\n",
      "Epoch 19/100\n",
      "7/7 [==============================] - 0s 5ms/step - loss: 0.4034 - accuracy: 0.7540 - val_loss: 0.8620 - val_accuracy: 0.5000\n",
      "Epoch 20/100\n",
      "7/7 [==============================] - 0s 5ms/step - loss: 0.3730 - accuracy: 0.8240 - val_loss: 0.7595 - val_accuracy: 0.6250\n",
      "Epoch 21/100\n",
      "7/7 [==============================] - 0s 5ms/step - loss: 0.3576 - accuracy: 0.8240 - val_loss: 0.6273 - val_accuracy: 0.6875\n",
      "Epoch 22/100\n",
      "7/7 [==============================] - ETA: 0s - loss: 0.4028 - accuracy: 0.91 - 0s 6ms/step - loss: 0.3585 - accuracy: 0.8540 - val_loss: 0.6244 - val_accuracy: 0.7500\n",
      "Epoch 23/100\n",
      "7/7 [==============================] - 0s 8ms/step - loss: 0.3649 - accuracy: 0.8540 - val_loss: 1.0589 - val_accuracy: 0.5000\n",
      "Epoch 24/100\n",
      "7/7 [==============================] - 0s 7ms/step - loss: 0.3478 - accuracy: 0.8420 - val_loss: 0.7516 - val_accuracy: 0.6250\n",
      "Epoch 25/100\n",
      "7/7 [==============================] - 0s 6ms/step - loss: 0.3394 - accuracy: 0.8540 - val_loss: 1.0212 - val_accuracy: 0.5625\n",
      "Epoch 26/100\n",
      "7/7 [==============================] - 0s 6ms/step - loss: 0.3326 - accuracy: 0.8580 - val_loss: 1.0343 - val_accuracy: 0.5625\n",
      "Epoch 27/100\n",
      "7/7 [==============================] - 0s 7ms/step - loss: 0.3365 - accuracy: 0.8560 - val_loss: 0.9580 - val_accuracy: 0.5625\n",
      "Epoch 28/100\n",
      "7/7 [==============================] - 0s 6ms/step - loss: 0.3211 - accuracy: 0.8720 - val_loss: 0.6137 - val_accuracy: 0.7500\n",
      "Epoch 29/100\n",
      "7/7 [==============================] - 0s 6ms/step - loss: 0.3398 - accuracy: 0.8620 - val_loss: 0.6549 - val_accuracy: 0.6875\n",
      "Epoch 30/100\n",
      "7/7 [==============================] - 0s 5ms/step - loss: 0.3160 - accuracy: 0.8720 - val_loss: 0.7360 - val_accuracy: 0.6250\n",
      "Epoch 31/100\n",
      "7/7 [==============================] - 0s 5ms/step - loss: 0.3009 - accuracy: 0.8840 - val_loss: 0.6256 - val_accuracy: 0.8125\n",
      "Epoch 32/100\n",
      "7/7 [==============================] - 0s 6ms/step - loss: 0.3129 - accuracy: 0.8920 - val_loss: 1.1563 - val_accuracy: 0.5625\n",
      "Epoch 33/100\n",
      "7/7 [==============================] - 0s 7ms/step - loss: 0.3349 - accuracy: 0.8620 - val_loss: 0.9972 - val_accuracy: 0.6250\n",
      "Epoch 34/100\n",
      "7/7 [==============================] - 0s 5ms/step - loss: 0.3137 - accuracy: 0.8860 - val_loss: 1.0368 - val_accuracy: 0.6250\n",
      "Epoch 35/100\n",
      "7/7 [==============================] - 0s 5ms/step - loss: 0.3173 - accuracy: 0.8840 - val_loss: 0.6268 - val_accuracy: 0.6875\n",
      "Epoch 36/100\n",
      "7/7 [==============================] - 0s 5ms/step - loss: 0.3316 - accuracy: 0.8720 - val_loss: 0.9274 - val_accuracy: 0.6250\n",
      "Epoch 37/100\n",
      "7/7 [==============================] - 0s 5ms/step - loss: 0.2905 - accuracy: 0.8900 - val_loss: 0.6534 - val_accuracy: 0.6875\n",
      "Epoch 38/100\n",
      "7/7 [==============================] - 0s 5ms/step - loss: 0.2992 - accuracy: 0.9060 - val_loss: 0.6166 - val_accuracy: 0.8125\n",
      "Epoch 39/100\n",
      "7/7 [==============================] - 0s 5ms/step - loss: 0.2768 - accuracy: 0.9100 - val_loss: 0.6627 - val_accuracy: 0.6875\n",
      "Epoch 40/100\n",
      "7/7 [==============================] - 0s 5ms/step - loss: 0.2747 - accuracy: 0.9080 - val_loss: 0.5937 - val_accuracy: 0.7500\n",
      "Epoch 41/100\n",
      "7/7 [==============================] - 0s 5ms/step - loss: 0.2822 - accuracy: 0.9020 - val_loss: 0.5926 - val_accuracy: 0.7500\n",
      "Epoch 42/100\n",
      "7/7 [==============================] - 0s 5ms/step - loss: 0.3040 - accuracy: 0.8960 - val_loss: 0.7225 - val_accuracy: 0.6875\n",
      "Epoch 43/100\n",
      "7/7 [==============================] - 0s 5ms/step - loss: 0.2987 - accuracy: 0.9100 - val_loss: 0.8340 - val_accuracy: 0.6250\n",
      "Epoch 44/100\n",
      "7/7 [==============================] - 0s 5ms/step - loss: 0.2785 - accuracy: 0.9060 - val_loss: 0.8948 - val_accuracy: 0.6250\n",
      "Epoch 45/100\n",
      "7/7 [==============================] - 0s 5ms/step - loss: 0.2958 - accuracy: 0.8860 - val_loss: 0.6090 - val_accuracy: 0.8125\n",
      "Epoch 46/100\n",
      "7/7 [==============================] - 0s 5ms/step - loss: 0.2684 - accuracy: 0.9200 - val_loss: 0.7669 - val_accuracy: 0.6875\n",
      "Epoch 47/100\n",
      "7/7 [==============================] - 0s 7ms/step - loss: 0.2611 - accuracy: 0.9180 - val_loss: 0.9404 - val_accuracy: 0.6250\n",
      "Epoch 48/100\n",
      "7/7 [==============================] - 0s 6ms/step - loss: 0.2763 - accuracy: 0.9120 - val_loss: 0.5790 - val_accuracy: 0.8125\n",
      "Epoch 49/100\n",
      "7/7 [==============================] - 0s 6ms/step - loss: 0.2976 - accuracy: 0.9080 - val_loss: 0.8234 - val_accuracy: 0.6250\n",
      "Epoch 50/100\n",
      "7/7 [==============================] - 0s 5ms/step - loss: 0.2548 - accuracy: 0.9240 - val_loss: 0.8660 - val_accuracy: 0.6250\n",
      "Epoch 51/100\n",
      "7/7 [==============================] - 0s 6ms/step - loss: 0.2916 - accuracy: 0.8980 - val_loss: 0.5973 - val_accuracy: 0.8125\n",
      "Epoch 52/100\n",
      "7/7 [==============================] - 0s 5ms/step - loss: 0.2528 - accuracy: 0.9280 - val_loss: 0.7275 - val_accuracy: 0.6875\n",
      "Epoch 53/100\n",
      "7/7 [==============================] - 0s 5ms/step - loss: 0.2597 - accuracy: 0.9140 - val_loss: 0.9334 - val_accuracy: 0.6250\n",
      "Epoch 54/100\n",
      "7/7 [==============================] - 0s 5ms/step - loss: 0.2602 - accuracy: 0.9060 - val_loss: 0.7235 - val_accuracy: 0.6875\n",
      "Epoch 55/100\n",
      "7/7 [==============================] - 0s 6ms/step - loss: 0.2433 - accuracy: 0.9260 - val_loss: 0.6011 - val_accuracy: 0.8125\n",
      "Epoch 56/100\n",
      "7/7 [==============================] - 0s 5ms/step - loss: 0.2517 - accuracy: 0.9260 - val_loss: 0.6496 - val_accuracy: 0.6875\n",
      "Epoch 57/100\n",
      "7/7 [==============================] - 0s 5ms/step - loss: 0.2424 - accuracy: 0.9320 - val_loss: 0.6941 - val_accuracy: 0.6875\n",
      "Epoch 58/100\n",
      "7/7 [==============================] - 0s 5ms/step - loss: 0.2463 - accuracy: 0.9180 - val_loss: 0.5568 - val_accuracy: 0.8750\n",
      "Epoch 59/100\n"
     ]
    },
    {
     "name": "stdout",
     "output_type": "stream",
     "text": [
      "7/7 [==============================] - 0s 5ms/step - loss: 0.2441 - accuracy: 0.9380 - val_loss: 0.6416 - val_accuracy: 0.6875\n",
      "Epoch 60/100\n",
      "7/7 [==============================] - 0s 5ms/step - loss: 0.2572 - accuracy: 0.9240 - val_loss: 0.7489 - val_accuracy: 0.6875\n",
      "Epoch 61/100\n",
      "7/7 [==============================] - 0s 5ms/step - loss: 0.2550 - accuracy: 0.9140 - val_loss: 0.5513 - val_accuracy: 0.8125\n",
      "Epoch 62/100\n",
      "7/7 [==============================] - 0s 5ms/step - loss: 0.2432 - accuracy: 0.9320 - val_loss: 1.2596 - val_accuracy: 0.6250\n",
      "Epoch 63/100\n",
      "7/7 [==============================] - 0s 6ms/step - loss: 0.2601 - accuracy: 0.9260 - val_loss: 0.6855 - val_accuracy: 0.6875\n",
      "Epoch 64/100\n",
      "7/7 [==============================] - 0s 5ms/step - loss: 0.2378 - accuracy: 0.9340 - val_loss: 0.5505 - val_accuracy: 0.8750\n",
      "Epoch 65/100\n",
      "7/7 [==============================] - 0s 5ms/step - loss: 0.2395 - accuracy: 0.9380 - val_loss: 0.9567 - val_accuracy: 0.6250\n",
      "Epoch 66/100\n",
      "7/7 [==============================] - 0s 5ms/step - loss: 0.2426 - accuracy: 0.9240 - val_loss: 1.0701 - val_accuracy: 0.6250\n",
      "Epoch 67/100\n",
      "7/7 [==============================] - 0s 5ms/step - loss: 0.2420 - accuracy: 0.9300 - val_loss: 0.5747 - val_accuracy: 0.8125\n",
      "Epoch 68/100\n",
      "7/7 [==============================] - 0s 5ms/step - loss: 0.2411 - accuracy: 0.9320 - val_loss: 0.6147 - val_accuracy: 0.8125\n",
      "Epoch 69/100\n",
      "7/7 [==============================] - 0s 5ms/step - loss: 0.2223 - accuracy: 0.9440 - val_loss: 0.5448 - val_accuracy: 0.8750\n",
      "Epoch 70/100\n",
      "7/7 [==============================] - 0s 6ms/step - loss: 0.2250 - accuracy: 0.9400 - val_loss: 1.0968 - val_accuracy: 0.6250\n",
      "Epoch 71/100\n",
      "7/7 [==============================] - 0s 6ms/step - loss: 0.2468 - accuracy: 0.9300 - val_loss: 0.5659 - val_accuracy: 0.8125\n",
      "Epoch 72/100\n",
      "7/7 [==============================] - 0s 6ms/step - loss: 0.2211 - accuracy: 0.9520 - val_loss: 0.5480 - val_accuracy: 0.8125\n",
      "Epoch 73/100\n",
      "7/7 [==============================] - 0s 5ms/step - loss: 0.2454 - accuracy: 0.9180 - val_loss: 0.6638 - val_accuracy: 0.6875\n",
      "Epoch 74/100\n",
      "7/7 [==============================] - 0s 5ms/step - loss: 0.2215 - accuracy: 0.9520 - val_loss: 0.7161 - val_accuracy: 0.6875\n",
      "Epoch 75/100\n",
      "7/7 [==============================] - 0s 5ms/step - loss: 0.2137 - accuracy: 0.9560 - val_loss: 0.5706 - val_accuracy: 0.8125\n",
      "Epoch 76/100\n",
      "7/7 [==============================] - 0s 6ms/step - loss: 0.2197 - accuracy: 0.9480 - val_loss: 0.5212 - val_accuracy: 0.8125\n",
      "Epoch 77/100\n",
      "7/7 [==============================] - 0s 6ms/step - loss: 0.2618 - accuracy: 0.9180 - val_loss: 0.6043 - val_accuracy: 0.8125\n",
      "Epoch 78/100\n",
      "7/7 [==============================] - 0s 5ms/step - loss: 0.2176 - accuracy: 0.9480 - val_loss: 0.9808 - val_accuracy: 0.6250\n",
      "Epoch 79/100\n",
      "7/7 [==============================] - 0s 5ms/step - loss: 0.2442 - accuracy: 0.9280 - val_loss: 0.9461 - val_accuracy: 0.6250\n",
      "Epoch 80/100\n",
      "7/7 [==============================] - 0s 5ms/step - loss: 0.2264 - accuracy: 0.9320 - val_loss: 0.5113 - val_accuracy: 0.8125\n",
      "Epoch 81/100\n",
      "7/7 [==============================] - 0s 5ms/step - loss: 0.2185 - accuracy: 0.9460 - val_loss: 1.8149 - val_accuracy: 0.5000\n",
      "Epoch 82/100\n",
      "7/7 [==============================] - 0s 5ms/step - loss: 0.3746 - accuracy: 0.8520 - val_loss: 0.8036 - val_accuracy: 0.6875\n",
      "Epoch 83/100\n",
      "7/7 [==============================] - 0s 5ms/step - loss: 0.2108 - accuracy: 0.9460 - val_loss: 0.5116 - val_accuracy: 0.8750\n",
      "Epoch 84/100\n",
      "7/7 [==============================] - 0s 5ms/step - loss: 0.2105 - accuracy: 0.9480 - val_loss: 1.1013 - val_accuracy: 0.6250\n",
      "Epoch 85/100\n",
      "7/7 [==============================] - 0s 5ms/step - loss: 0.2317 - accuracy: 0.9300 - val_loss: 0.5183 - val_accuracy: 0.8750\n",
      "Epoch 86/100\n",
      "7/7 [==============================] - 0s 5ms/step - loss: 0.2085 - accuracy: 0.9500 - val_loss: 0.6146 - val_accuracy: 0.8125\n",
      "Epoch 87/100\n",
      "7/7 [==============================] - 0s 5ms/step - loss: 0.2053 - accuracy: 0.9540 - val_loss: 0.6250 - val_accuracy: 0.6875\n",
      "Epoch 88/100\n",
      "7/7 [==============================] - 0s 5ms/step - loss: 0.2156 - accuracy: 0.9520 - val_loss: 1.1252 - val_accuracy: 0.6250\n",
      "Epoch 89/100\n",
      "7/7 [==============================] - 0s 6ms/step - loss: 0.2377 - accuracy: 0.9300 - val_loss: 0.4962 - val_accuracy: 0.8750\n",
      "Epoch 90/100\n",
      "7/7 [==============================] - 0s 5ms/step - loss: 0.2002 - accuracy: 0.9560 - val_loss: 0.5095 - val_accuracy: 0.8750\n",
      "Epoch 91/100\n",
      "7/7 [==============================] - 0s 5ms/step - loss: 0.2239 - accuracy: 0.9360 - val_loss: 0.8115 - val_accuracy: 0.6875\n",
      "Epoch 92/100\n",
      "7/7 [==============================] - 0s 5ms/step - loss: 0.2080 - accuracy: 0.9400 - val_loss: 0.5024 - val_accuracy: 0.8750\n",
      "Epoch 93/100\n",
      "7/7 [==============================] - 0s 7ms/step - loss: 0.2087 - accuracy: 0.9440 - val_loss: 0.5956 - val_accuracy: 0.6875\n",
      "Epoch 94/100\n",
      "7/7 [==============================] - 0s 6ms/step - loss: 0.2371 - accuracy: 0.9220 - val_loss: 0.7072 - val_accuracy: 0.6875\n",
      "Epoch 95/100\n",
      "7/7 [==============================] - 0s 6ms/step - loss: 0.1936 - accuracy: 0.9600 - val_loss: 0.7881 - val_accuracy: 0.6875\n",
      "Epoch 96/100\n",
      "7/7 [==============================] - 0s 5ms/step - loss: 0.2074 - accuracy: 0.9460 - val_loss: 0.5397 - val_accuracy: 0.8125\n",
      "Epoch 97/100\n",
      "7/7 [==============================] - 0s 5ms/step - loss: 0.1947 - accuracy: 0.9520 - val_loss: 0.8124 - val_accuracy: 0.6875\n",
      "Epoch 98/100\n",
      "7/7 [==============================] - 0s 5ms/step - loss: 0.1930 - accuracy: 0.9560 - val_loss: 0.9234 - val_accuracy: 0.6250\n",
      "Epoch 99/100\n",
      "7/7 [==============================] - 0s 5ms/step - loss: 0.2055 - accuracy: 0.9460 - val_loss: 0.4808 - val_accuracy: 0.8750\n",
      "Epoch 100/100\n",
      "7/7 [==============================] - 0s 6ms/step - loss: 0.1917 - accuracy: 0.9620 - val_loss: 0.7008 - val_accuracy: 0.6875\n"
     ]
    }
   ],
   "source": [
    "#Creating history variable\n",
    "history_bl = model.fit(train_img,\n",
    "                    train_label,\n",
    "                    epochs=100,\n",
    "                    batch_size=80,\n",
    "                    validation_data=(val_img, val_label))"
   ]
  },
  {
   "cell_type": "markdown",
   "metadata": {},
   "source": [
    "### Results"
   ]
  },
  {
   "cell_type": "code",
   "execution_count": 18,
   "metadata": {},
   "outputs": [],
   "source": [
    "def model_results(tr_img, tr_lab, te_img, te_lab):\n",
    "    result_train = model.evaluate(tr_img, tr_lab)\n",
    "    results_test = model.evaluate(te_img, te_lab)\n",
    "    print(result_train)\n",
    "    print(results_test)"
   ]
  },
  {
   "cell_type": "code",
   "execution_count": 19,
   "metadata": {},
   "outputs": [],
   "source": [
    "def model_graphs(hist):\n",
    "    acc = hist.history['accuracy']\n",
    "    val_acc = hist.history['val_accuracy']\n",
    "    loss = hist.history['loss']\n",
    "    val_loss = hist.history['val_loss']\n",
    "    epochs = range(len(acc))\n",
    "    plt.plot(epochs, acc, 'bo', label='Training acc')\n",
    "    plt.plot(epochs, val_acc, 'b', label='Validation acc')\n",
    "    plt.title('Training and validation accuracy')\n",
    "    plt.legend()\n",
    "    plt.figure()\n",
    "    plt.plot(epochs, loss, 'bo', label='Training loss')\n",
    "    plt.plot(epochs, val_loss, 'b', label='Validation loss')\n",
    "    plt.title('Training and validation loss')\n",
    "    plt.legend()\n",
    "    plt.show()"
   ]
  },
  {
   "cell_type": "code",
   "execution_count": 20,
   "metadata": {
    "scrolled": true
   },
   "outputs": [
    {
     "name": "stdout",
     "output_type": "stream",
     "text": [
      "16/16 [==============================] - 0s 997us/step - loss: 0.1884 - accuracy: 0.9480\n",
      "7/7 [==============================] - 0s 855us/step - loss: 0.6999 - accuracy: 0.7250\n",
      "[0.18840189278125763, 0.9480000138282776]\n",
      "[0.6999126672744751, 0.7250000238418579]\n"
     ]
    }
   ],
   "source": [
    "model_results(train_img, train_label, test_img, test_label)"
   ]
  },
  {
   "cell_type": "code",
   "execution_count": 21,
   "metadata": {},
   "outputs": [
    {
     "data": {
      "image/png": "[encoded data removed]",
      "text/plain": [
       "<Figure size 432x288 with 1 Axes>"
      ]
     },
     "metadata": {},
     "output_type": "display_data"
    },
    {
     "data": {
      "image/png": "[encoded data removed]",
      "text/plain": [
       "<Figure size 432x288 with 1 Axes>"
      ]
     },
     "metadata": {},
     "output_type": "display_data"
    }
   ],
   "source": [
    "model_graphs(history_bl)"
   ]
  },
  {
   "cell_type": "code",
   "execution_count": null,
   "metadata": {},
   "outputs": [],
   "source": [
    "model.save('Chest_X-ray_baseline.h5')"
   ]
  },
  {
   "cell_type": "markdown",
   "metadata": {},
   "source": [
    "## CNN"
   ]
  },
  {
   "cell_type": "markdown",
   "metadata": {},
   "source": [
    "### Datagenerator"
   ]
  },
  {
   "cell_type": "code",
   "execution_count": 22,
   "metadata": {},
   "outputs": [],
   "source": [
    "#Get all of the data into each generator and modify the images\n",
    "train_regen = ImageDataGenerator(rescale=1./255)\n",
    "test_regen = ImageDataGenerator(rescale=1./255)\n",
    "val_regen = ImageDataGenerator(rescale=1./255)"
   ]
  },
  {
   "cell_type": "code",
   "execution_count": 23,
   "metadata": {},
   "outputs": [
    {
     "name": "stdout",
     "output_type": "stream",
     "text": [
      "Found 5216 images belonging to 2 classes.\n",
      "Found 624 images belonging to 2 classes.\n",
      "Found 16 images belonging to 2 classes.\n"
     ]
    }
   ],
   "source": [
    "train_generator = train_regen.flow_from_directory(train_data_dir,\n",
    "                                                  target_size = (128, 128),\n",
    "                                                  batch_size = 64,\n",
    "                                                  color_mode = 'grayscale',\n",
    "                                                  class_mode = 'binary')\n",
    "                                                  \n",
    "test_generator = test_regen.flow_from_directory(test_data_dir,\n",
    "                                                target_size = (128, 128),\n",
    "                                                batch_size = 6,\n",
    "                                                color_mode = 'grayscale',\n",
    "                                                class_mode = 'binary')\n",
    "\n",
    "val_generator = val_regen.flow_from_directory(val_data_dir,\n",
    "                                              target_size = (128, 128),\n",
    "                                              batch_size = 4,\n",
    "                                              color_mode = 'grayscale',\n",
    "                                              class_mode = 'binary')"
   ]
  },
  {
   "cell_type": "code",
   "execution_count": 24,
   "metadata": {},
   "outputs": [],
   "source": [
    "X_train, y_train = next(train_generator)\n",
    "X_test, y_test = next(test_generator)\n",
    "X_val, y_val = next(val_generator)"
   ]
  },
  {
   "cell_type": "markdown",
   "metadata": {},
   "source": [
    "### Model"
   ]
  },
  {
   "cell_type": "code",
   "execution_count": 25,
   "metadata": {},
   "outputs": [],
   "source": [
    "model = models.Sequential()\n",
    "\n",
    "model.add(layers.Conv2D(32, (3, 3), activation='relu',\n",
    "                        input_shape=(128, 128, 1)))\n",
    "model.add(layers.MaxPooling2D((2, 2)))\n",
    "model.add(layers.Conv2D(64, (3, 3), activation='relu'))\n",
    "model.add(layers.MaxPooling2D((2, 2)))\n",
    "model.add(layers.Conv2D(128, (3, 3), activation='relu'))\n",
    "model.add(layers.MaxPooling2D((2, 2)))\n",
    "model.add(layers.Flatten())\n",
    "model.add(layers.Dense(512, activation='relu'))\n",
    "model.add(layers.Dense(1, activation='sigmoid'))"
   ]
  },
  {
   "cell_type": "code",
   "execution_count": 26,
   "metadata": {},
   "outputs": [
    {
     "name": "stdout",
     "output_type": "stream",
     "text": [
      "Model: \"sequential_1\"\n",
      "_________________________________________________________________\n",
      "Layer (type)                 Output Shape              Param #   \n",
      "=================================================================\n",
      "conv2d (Conv2D)              (None, 126, 126, 32)      320       \n",
      "_________________________________________________________________\n",
      "max_pooling2d (MaxPooling2D) (None, 63, 63, 32)        0         \n",
      "_________________________________________________________________\n",
      "conv2d_1 (Conv2D)            (None, 61, 61, 64)        18496     \n",
      "_________________________________________________________________\n",
      "max_pooling2d_1 (MaxPooling2 (None, 30, 30, 64)        0         \n",
      "_________________________________________________________________\n",
      "conv2d_2 (Conv2D)            (None, 28, 28, 128)       73856     \n",
      "_________________________________________________________________\n",
      "max_pooling2d_2 (MaxPooling2 (None, 14, 14, 128)       0         \n",
      "_________________________________________________________________\n",
      "flatten (Flatten)            (None, 25088)             0         \n",
      "_________________________________________________________________\n",
      "dense_2 (Dense)              (None, 512)               12845568  \n",
      "_________________________________________________________________\n",
      "dense_3 (Dense)              (None, 1)                 513       \n",
      "=================================================================\n",
      "Total params: 12,938,753\n",
      "Trainable params: 12,938,753\n",
      "Non-trainable params: 0\n",
      "_________________________________________________________________\n"
     ]
    }
   ],
   "source": [
    "model.summary()"
   ]
  },
  {
   "cell_type": "code",
   "execution_count": 27,
   "metadata": {},
   "outputs": [],
   "source": [
    "model.compile(loss='binary_crossentropy',\n",
    "              optimizer=optimizers.RMSprop(lr=1e-4),\n",
    "              metrics=['accuracy'])"
   ]
  },
  {
   "cell_type": "code",
   "execution_count": 28,
   "metadata": {
    "scrolled": true
   },
   "outputs": [
    {
     "name": "stdout",
     "output_type": "stream",
     "text": [
      "Epoch 1/20\n",
      "163/163 [==============================] - 81s 495ms/step - loss: 0.3501 - accuracy: 0.8434 - val_loss: 0.6289 - val_accuracy: 0.6250\n",
      "Epoch 2/20\n",
      "163/163 [==============================] - 85s 522ms/step - loss: 0.1419 - accuracy: 0.9465 - val_loss: 0.4656 - val_accuracy: 0.6875\n",
      "Epoch 3/20\n",
      "163/163 [==============================] - ETA: 0s - loss: 0.1125 - accuracy: 0.95 - 84s 514ms/step - loss: 0.1125 - accuracy: 0.9597 - val_loss: 0.9970 - val_accuracy: 0.6250\n",
      "Epoch 4/20\n",
      "163/163 [==============================] - 89s 545ms/step - loss: 0.0952 - accuracy: 0.9624 - val_loss: 0.1327 - val_accuracy: 1.0000\n",
      "Epoch 5/20\n",
      "163/163 [==============================] - 105s 642ms/step - loss: 0.0819 - accuracy: 0.9695 - val_loss: 0.9880 - val_accuracy: 0.6875\n",
      "Epoch 6/20\n",
      "163/163 [==============================] - 92s 566ms/step - loss: 0.0769 - accuracy: 0.9716 - val_loss: 0.3772 - val_accuracy: 0.7500\n",
      "Epoch 7/20\n",
      "163/163 [==============================] - 80s 493ms/step - loss: 0.0684 - accuracy: 0.9757 - val_loss: 0.3687 - val_accuracy: 0.6875\n",
      "Epoch 8/20\n",
      "163/163 [==============================] - 80s 489ms/step - loss: 0.0619 - accuracy: 0.9783 - val_loss: 0.3857 - val_accuracy: 0.7500\n",
      "Epoch 9/20\n",
      "163/163 [==============================] - 78s 476ms/step - loss: 0.0553 - accuracy: 0.9785 - val_loss: 0.5360 - val_accuracy: 0.6875\n",
      "Epoch 10/20\n",
      "163/163 [==============================] - 90s 555ms/step - loss: 0.0532 - accuracy: 0.9799 - val_loss: 0.5695 - val_accuracy: 0.6875\n",
      "Epoch 11/20\n",
      "163/163 [==============================] - 97s 596ms/step - loss: 0.0489 - accuracy: 0.9808 - val_loss: 0.0570 - val_accuracy: 1.0000\n",
      "Epoch 12/20\n",
      "163/163 [==============================] - 102s 627ms/step - loss: 0.0469 - accuracy: 0.9822 - val_loss: 0.1086 - val_accuracy: 0.9375\n",
      "Epoch 13/20\n",
      "163/163 [==============================] - 106s 649ms/step - loss: 0.0420 - accuracy: 0.9850 - val_loss: 0.2804 - val_accuracy: 0.8750\n",
      "Epoch 14/20\n",
      "163/163 [==============================] - 100s 616ms/step - loss: 0.0375 - accuracy: 0.9849 - val_loss: 0.1352 - val_accuracy: 0.9375\n",
      "Epoch 15/20\n",
      "163/163 [==============================] - 104s 641ms/step - loss: 0.0367 - accuracy: 0.9862 - val_loss: 0.3371 - val_accuracy: 0.8125\n",
      "Epoch 16/20\n",
      "163/163 [==============================] - 105s 642ms/step - loss: 0.0325 - accuracy: 0.9866 - val_loss: 0.3053 - val_accuracy: 0.8125\n",
      "Epoch 17/20\n",
      "163/163 [==============================] - 103s 633ms/step - loss: 0.0304 - accuracy: 0.9891 - val_loss: 0.3489 - val_accuracy: 0.8125\n",
      "Epoch 18/20\n",
      "163/163 [==============================] - 106s 649ms/step - loss: 0.0261 - accuracy: 0.9910 - val_loss: 0.6715 - val_accuracy: 0.7500\n",
      "Epoch 19/20\n",
      "163/163 [==============================] - 100s 611ms/step - loss: 0.0252 - accuracy: 0.9916 - val_loss: 0.2375 - val_accuracy: 0.9375\n",
      "Epoch 20/20\n",
      "163/163 [==============================] - 92s 563ms/step - loss: 0.0244 - accuracy: 0.9912 - val_loss: 0.6540 - val_accuracy: 0.7500\n"
     ]
    }
   ],
   "source": [
    "history_cnn = model.fit(train_generator, \n",
    "                    epochs = 40, \n",
    "                    validation_data=val_generator)"
   ]
  },
  {
   "cell_type": "markdown",
   "metadata": {},
   "source": [
    "### Results"
   ]
  },
  {
   "cell_type": "code",
   "execution_count": 29,
   "metadata": {
    "scrolled": false
   },
   "outputs": [
    {
     "data": {
      "image/png": "[encoded data removed]",
      "text/plain": [
       "<Figure size 432x288 with 1 Axes>"
      ]
     },
     "metadata": {},
     "output_type": "display_data"
    },
    {
     "data": {
      "image/png": "[encoded data removed]",
      "text/plain": [
       "<Figure size 432x288 with 1 Axes>"
      ]
     },
     "metadata": {},
     "output_type": "display_data"
    }
   ],
   "source": [
    "model_graphs(history_cnn)"
   ]
  },
  {
   "cell_type": "code",
   "execution_count": null,
   "metadata": {},
   "outputs": [],
   "source": [
    "model.save('Chest_X-ray_cnn.h5')"
   ]
  },
  {
   "cell_type": "markdown",
   "metadata": {},
   "source": [
    "## CNN Weighted"
   ]
  },
  {
   "cell_type": "markdown",
   "metadata": {},
   "source": [
    "### Class Imbalance"
   ]
  },
  {
   "cell_type": "markdown",
   "metadata": {},
   "source": [
    ">Quick EDAs to see the severity of class imbalance"
   ]
  },
  {
   "cell_type": "code",
   "execution_count": 30,
   "metadata": {},
   "outputs": [],
   "source": [
    "import warnings\n",
    "warnings.filterwarnings(\"ignore\")"
   ]
  },
  {
   "cell_type": "code",
   "execution_count": 31,
   "metadata": {},
   "outputs": [
    {
     "data": {
      "text/plain": [
       "{'NORMAL': 0, 'PNEUMONIA': 1}"
      ]
     },
     "execution_count": 31,
     "metadata": {},
     "output_type": "execute_result"
    }
   ],
   "source": [
    "train_generator.class_indices"
   ]
  },
  {
   "cell_type": "code",
   "execution_count": 32,
   "metadata": {},
   "outputs": [],
   "source": [
    "def imbalance_graphs(data_list):\n",
    "    \n",
    "    empty = []\n",
    "    \n",
    "    for i in data_list:\n",
    "        if(i[1] == 0):\n",
    "            empty.append(\"NORMAL\")\n",
    "        else:\n",
    "            empty.append(\"PNEUMONIA\")\n",
    "    sns.countplot(empty);     "
   ]
  },
  {
   "cell_type": "code",
   "execution_count": 33,
   "metadata": {
    "scrolled": true
   },
   "outputs": [
    {
     "data": {
      "image/png": "[encoded data removed]",
      "text/plain": [
       "<Figure size 432x288 with 1 Axes>"
      ]
     },
     "metadata": {},
     "output_type": "display_data"
    }
   ],
   "source": [
    "imbalance_graphs(train_labels)"
   ]
  },
  {
   "cell_type": "code",
   "execution_count": 34,
   "metadata": {},
   "outputs": [
    {
     "data": {
      "image/png": "[encoded data removed]",
      "text/plain": [
       "<Figure size 432x288 with 1 Axes>"
      ]
     },
     "metadata": {},
     "output_type": "display_data"
    }
   ],
   "source": [
    "imbalance_graphs(test_labels)"
   ]
  },
  {
   "cell_type": "code",
   "execution_count": 35,
   "metadata": {
    "scrolled": true
   },
   "outputs": [
    {
     "data": {
      "image/png": "[encoded data removed]",
      "text/plain": [
       "<Figure size 432x288 with 1 Axes>"
      ]
     },
     "metadata": {},
     "output_type": "display_data"
    }
   ],
   "source": [
    "imbalance_graphs(val_labels)"
   ]
  },
  {
   "cell_type": "markdown",
   "metadata": {},
   "source": [
    "### Model"
   ]
  },
  {
   "cell_type": "code",
   "execution_count": 36,
   "metadata": {},
   "outputs": [],
   "source": [
    "model = models.Sequential()\n",
    "\n",
    "model.add(layers.Conv2D(32, (3, 3), activation='relu',\n",
    "                        input_shape=(128, 128, 1)))\n",
    "model.add(layers.MaxPooling2D((2, 2)))\n",
    "model.add(layers.Conv2D(64, (3, 3), activation='relu'))\n",
    "model.add(layers.MaxPooling2D((2, 2)))\n",
    "model.add(layers.Conv2D(128, (3, 3), activation='relu'))\n",
    "model.add(layers.MaxPooling2D((2, 2)))\n",
    "model.add(layers.Flatten())\n",
    "model.add(layers.Dense(512, activation='relu'))\n",
    "model.add(layers.Dense(1, activation='sigmoid'))"
   ]
  },
  {
   "cell_type": "code",
   "execution_count": 37,
   "metadata": {},
   "outputs": [
    {
     "name": "stdout",
     "output_type": "stream",
     "text": [
      "Model: \"sequential_2\"\n",
      "_________________________________________________________________\n",
      "Layer (type)                 Output Shape              Param #   \n",
      "=================================================================\n",
      "conv2d_3 (Conv2D)            (None, 126, 126, 32)      320       \n",
      "_________________________________________________________________\n",
      "max_pooling2d_3 (MaxPooling2 (None, 63, 63, 32)        0         \n",
      "_________________________________________________________________\n",
      "conv2d_4 (Conv2D)            (None, 61, 61, 64)        18496     \n",
      "_________________________________________________________________\n",
      "max_pooling2d_4 (MaxPooling2 (None, 30, 30, 64)        0         \n",
      "_________________________________________________________________\n",
      "conv2d_5 (Conv2D)            (None, 28, 28, 128)       73856     \n",
      "_________________________________________________________________\n",
      "max_pooling2d_5 (MaxPooling2 (None, 14, 14, 128)       0         \n",
      "_________________________________________________________________\n",
      "flatten_1 (Flatten)          (None, 25088)             0         \n",
      "_________________________________________________________________\n",
      "dense_4 (Dense)              (None, 512)               12845568  \n",
      "_________________________________________________________________\n",
      "dense_5 (Dense)              (None, 1)                 513       \n",
      "=================================================================\n",
      "Total params: 12,938,753\n",
      "Trainable params: 12,938,753\n",
      "Non-trainable params: 0\n",
      "_________________________________________________________________\n"
     ]
    }
   ],
   "source": [
    "model.summary()"
   ]
  },
  {
   "cell_type": "code",
   "execution_count": 38,
   "metadata": {},
   "outputs": [],
   "source": [
    "model.compile(loss='binary_crossentropy',\n",
    "              optimizer=optimizers.RMSprop(lr=1e-4),\n",
    "              metrics=['accuracy'])"
   ]
  },
  {
   "cell_type": "code",
   "execution_count": 39,
   "metadata": {
    "scrolled": true
   },
   "outputs": [
    {
     "name": "stdout",
     "output_type": "stream",
     "text": [
      "Epoch 1/20\n",
      "163/163 [==============================] - 91s 560ms/step - loss: 0.5497 - accuracy: 0.8363 - val_loss: 0.3690 - val_accuracy: 0.7500\n",
      "Epoch 2/20\n",
      "163/163 [==============================] - 124s 762ms/step - loss: 0.2416 - accuracy: 0.9381 - val_loss: 0.3059 - val_accuracy: 0.8750\n",
      "Epoch 3/20\n",
      "163/163 [==============================] - 88s 541ms/step - loss: 0.1909 - accuracy: 0.9500 - val_loss: 0.2048 - val_accuracy: 0.8750\n",
      "Epoch 4/20\n",
      "163/163 [==============================] - 80s 490ms/step - loss: 0.1577 - accuracy: 0.9588 - val_loss: 0.1906 - val_accuracy: 0.8750\n",
      "Epoch 5/20\n",
      "163/163 [==============================] - 73s 449ms/step - loss: 0.1399 - accuracy: 0.9640 - val_loss: 0.1530 - val_accuracy: 0.9375\n",
      "Epoch 6/20\n",
      "163/163 [==============================] - 70s 430ms/step - loss: 0.1245 - accuracy: 0.9689 - val_loss: 0.2907 - val_accuracy: 0.8750\n",
      "Epoch 7/20\n",
      "163/163 [==============================] - 70s 427ms/step - loss: 0.1067 - accuracy: 0.9720 - val_loss: 0.0840 - val_accuracy: 1.0000\n",
      "Epoch 8/20\n",
      "163/163 [==============================] - 70s 427ms/step - loss: 0.1005 - accuracy: 0.9724 - val_loss: 0.1026 - val_accuracy: 0.9375\n",
      "Epoch 9/20\n",
      "163/163 [==============================] - 70s 427ms/step - loss: 0.1009 - accuracy: 0.9749 - val_loss: 0.1248 - val_accuracy: 0.9375\n",
      "Epoch 10/20\n",
      "163/163 [==============================] - 69s 425ms/step - loss: 0.0878 - accuracy: 0.9785 - val_loss: 0.1927 - val_accuracy: 0.9375\n",
      "Epoch 11/20\n",
      "163/163 [==============================] - 69s 424ms/step - loss: 0.0815 - accuracy: 0.9787 - val_loss: 0.0983 - val_accuracy: 1.0000\n",
      "Epoch 12/20\n",
      "163/163 [==============================] - 69s 426ms/step - loss: 0.0732 - accuracy: 0.9835 - val_loss: 0.2788 - val_accuracy: 0.8125\n",
      "Epoch 13/20\n",
      "163/163 [==============================] - 69s 426ms/step - loss: 0.0691 - accuracy: 0.9833 - val_loss: 0.4844 - val_accuracy: 0.7500\n",
      "Epoch 14/20\n",
      "163/163 [==============================] - 69s 424ms/step - loss: 0.0659 - accuracy: 0.9824 - val_loss: 0.0616 - val_accuracy: 1.0000\n",
      "Epoch 15/20\n",
      "163/163 [==============================] - 83s 508ms/step - loss: 0.0591 - accuracy: 0.9833 - val_loss: 0.1936 - val_accuracy: 0.8750\n",
      "Epoch 16/20\n",
      "163/163 [==============================] - 82s 505ms/step - loss: 0.0560 - accuracy: 0.9847 - val_loss: 0.0408 - val_accuracy: 1.0000\n",
      "Epoch 17/20\n",
      "163/163 [==============================] - 82s 502ms/step - loss: 0.0526 - accuracy: 0.9850 - val_loss: 0.5745 - val_accuracy: 0.6875\n",
      "Epoch 18/20\n",
      "163/163 [==============================] - 83s 510ms/step - loss: 0.0404 - accuracy: 0.9896 - val_loss: 0.9955 - val_accuracy: 0.6875\n",
      "Epoch 19/20\n",
      "163/163 [==============================] - 82s 506ms/step - loss: 0.0405 - accuracy: 0.9883 - val_loss: 0.1498 - val_accuracy: 0.9375\n",
      "Epoch 20/20\n",
      "163/163 [==============================] - 85s 523ms/step - loss: 0.0377 - accuracy: 0.9906 - val_loss: 0.0416 - val_accuracy: 1.0000\n"
     ]
    }
   ],
   "source": [
    "history_cnn_w = model.fit(train_generator, \n",
    "                    epochs = 40,\n",
    "                    class_weight = {0: 3., 1: 1.},\n",
    "                    validation_data=val_generator)"
   ]
  },
  {
   "cell_type": "markdown",
   "metadata": {},
   "source": [
    "### Results"
   ]
  },
  {
   "cell_type": "code",
   "execution_count": 40,
   "metadata": {},
   "outputs": [
    {
     "data": {
      "image/png": "[encoded data removed]",
      "text/plain": [
       "<Figure size 432x288 with 1 Axes>"
      ]
     },
     "metadata": {},
     "output_type": "display_data"
    },
    {
     "data": {
      "image/png": "[encoded data removed]",
      "text/plain": [
       "<Figure size 432x288 with 1 Axes>"
      ]
     },
     "metadata": {},
     "output_type": "display_data"
    }
   ],
   "source": [
    "model_graphs(history_cnn_w)"
   ]
  },
  {
   "cell_type": "code",
   "execution_count": null,
   "metadata": {},
   "outputs": [],
   "source": [
    "model.save('Chest_X-ray_weighted_cnn.h5')"
   ]
  },
  {
   "cell_type": "markdown",
   "metadata": {},
   "source": [
    "## CNN Final Model"
   ]
  },
  {
   "cell_type": "markdown",
   "metadata": {},
   "source": [
    "### GridSearch"
   ]
  },
  {
   "cell_type": "code",
   "execution_count": null,
   "metadata": {},
   "outputs": [],
   "source": []
  },
  {
   "cell_type": "markdown",
   "metadata": {},
   "source": [
    "### Model"
   ]
  },
  {
   "cell_type": "code",
   "execution_count": null,
   "metadata": {},
   "outputs": [],
   "source": []
  },
  {
   "cell_type": "markdown",
   "metadata": {},
   "source": [
    "### Results"
   ]
  },
  {
   "cell_type": "code",
   "execution_count": null,
   "metadata": {},
   "outputs": [],
   "source": []
  },
  {
   "cell_type": "markdown",
   "metadata": {},
   "source": [
    "## Conclusion "
   ]
  },
  {
   "cell_type": "markdown",
   "metadata": {
    "heading_collapsed": true
   },
   "source": [
    "## Play Testing"
   ]
  },
  {
   "cell_type": "markdown",
   "metadata": {
    "heading_collapsed": true,
    "hidden": true
   },
   "source": [
    "#### *Augmentation Generator Dataset (Unused)"
   ]
  },
  {
   "cell_type": "markdown",
   "metadata": {
    "hidden": true
   },
   "source": [
    "Both the train set and test has a severe class imbalance so we will need to preform some data augmentation to create more normal images to match the number of pneumonia images. Whereas the validation set is equal so it will not need any adjustment."
   ]
  },
  {
   "cell_type": "code",
   "execution_count": 41,
   "metadata": {
    "hidden": true
   },
   "outputs": [],
   "source": [
    "# train_aug_gen = ImageDataGenerator(rescale=1./255, \n",
    "#                                    rotation_range=30, \n",
    "#                                    width_shift_range=0.3, \n",
    "#                                    height_shift_range=0.2, \n",
    "#                                    zoom_range=0.2, \n",
    "#                                    vertical_flip=True)"
   ]
  },
  {
   "cell_type": "code",
   "execution_count": 42,
   "metadata": {
    "hidden": true
   },
   "outputs": [],
   "source": [
    "# test_aug_gen = ImageDataGenerator(rescale=1./255, \n",
    "#                                    rotation_range=30, \n",
    "#                                    width_shift_range=0.3, \n",
    "#                                    height_shift_range=0.2,  \n",
    "#                                    zoom_range=0.2, \n",
    "#                                    vertical_flip=True)"
   ]
  },
  {
   "cell_type": "code",
   "execution_count": 43,
   "metadata": {
    "hidden": true,
    "scrolled": true
   },
   "outputs": [],
   "source": [
    "# #Get all the data in each generator and reshaping the images\n",
    "# train_generator = train_aug_gen.flow_from_directory(\n",
    "#         train_data_dir, \n",
    "#         target_size=(128, 128), \n",
    "#         color_mode = 'grayscale', \n",
    "#         batch_size=500)\n",
    "\n",
    "# test_generator = test_aug_gen.flow_from_directory(\n",
    "#         test_data_dir, \n",
    "#         target_size=(128, 128), \n",
    "#         color_mode = 'grayscale', \n",
    "#         batch_size=6)\n",
    "\n",
    "# val_generator = ImageDataGenerator(rescale = 1./255).flow_from_directory(\n",
    "#         val_data_dir, \n",
    "#         target_size=(128, 128), \n",
    "#         color_mode = 'grayscale',\n",
    "#         batch_size=4)"
   ]
  },
  {
   "cell_type": "code",
   "execution_count": 44,
   "metadata": {
    "hidden": true
   },
   "outputs": [],
   "source": [
    "# train_images, train_labels = next(train_generator)\n",
    "# test_images, test_labels = next(test_generator)\n",
    "# val_images, val_labels = next(val_generator)"
   ]
  },
  {
   "cell_type": "code",
   "execution_count": 45,
   "metadata": {
    "hidden": true
   },
   "outputs": [],
   "source": [
    "# imbalance_graphs(train_labels)"
   ]
  },
  {
   "cell_type": "code",
   "execution_count": 46,
   "metadata": {
    "hidden": true
   },
   "outputs": [],
   "source": [
    "# imbalance_graphs(test_labels)"
   ]
  },
  {
   "cell_type": "markdown",
   "metadata": {
    "heading_collapsed": true,
    "hidden": true
   },
   "source": [
    "#### Model"
   ]
  },
  {
   "cell_type": "code",
   "execution_count": 47,
   "metadata": {
    "hidden": true
   },
   "outputs": [],
   "source": [
    "# model = models.Sequential()\n",
    "# model.add(layers.Conv2D(32, (3, 3), activation='relu',\n",
    "#                         input_shape=(128, 128,  1)))\n",
    "# model.add(layers.MaxPooling2D((2, 2)))\n",
    "\n",
    "# model.add(layers.Conv2D(32, (4, 4), activation='relu'))\n",
    "# model.add(layers.MaxPooling2D((2, 2)))\n",
    "\n",
    "# model.add(layers.Conv2D(64, (3, 3), activation='relu'))\n",
    "# model.add(layers.MaxPooling2D((2, 2)))\n",
    "\n",
    "# model.add(layers.Flatten())\n",
    "# model.add(layers.Dense(64, activation='relu'))\n",
    "# model.add(layers.Dense(1, activation='sigmoid'))\n",
    "\n",
    "# model.compile(loss='binary_crossentropy',\n",
    "#               optimizer= 'sgd',\n",
    "#               metrics=['accuracy'])"
   ]
  },
  {
   "cell_type": "code",
   "execution_count": 48,
   "metadata": {
    "hidden": true,
    "scrolled": false
   },
   "outputs": [],
   "source": [
    "# model.summary()"
   ]
  },
  {
   "cell_type": "code",
   "execution_count": 49,
   "metadata": {
    "hidden": true,
    "scrolled": true
   },
   "outputs": [],
   "source": [
    "# history_da = model.fit(test_generator,\n",
    "#                     epochs= 50, \n",
    "#                     class_weight = {0: 2., 1: 1.},\n",
    "#                     validation_data=val_generator) "
   ]
  },
  {
   "cell_type": "markdown",
   "metadata": {
    "heading_collapsed": true,
    "hidden": true
   },
   "source": [
    "#### Results"
   ]
  },
  {
   "cell_type": "code",
   "execution_count": 50,
   "metadata": {
    "hidden": true,
    "scrolled": true
   },
   "outputs": [],
   "source": [
    "# model_results(X_train, y_train, X_test, y_test)"
   ]
  },
  {
   "cell_type": "code",
   "execution_count": 51,
   "metadata": {
    "hidden": true
   },
   "outputs": [],
   "source": [
    "# model_graphs(history_da)"
   ]
  }
 ],
 "metadata": {
  "kernelspec": {
   "display_name": "Python 3",
   "language": "python",
   "name": "python3"
  },
  "language_info": {
   "codemirror_mode": {
    "name": "ipython",
    "version": 3
   },
   "file_extension": ".py",
   "mimetype": "text/x-python",
   "name": "python",
   "nbconvert_exporter": "python",
   "pygments_lexer": "ipython3",
   "version": "3.8.5"
  },
  "toc": {
   "base_numbering": 1,
   "nav_menu": {},
   "number_sections": true,
   "sideBar": true,
   "skip_h1_title": false,
   "title_cell": "Table of Contents",
   "title_sidebar": "Contents",
   "toc_cell": false,
   "toc_position": {
    "height": "calc(100% - 180px)",
    "left": "10px",
    "top": "150px",
    "width": "318px"
   },
   "toc_section_display": true,
   "toc_window_display": true
  }
 },
 "nbformat": 4,
 "nbformat_minor": 4
}
