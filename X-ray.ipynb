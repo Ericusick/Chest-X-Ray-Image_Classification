{
 "cells": [
  {
   "cell_type": "markdown",
   "metadata": {},
   "source": [
    "## Introduction"
   ]
  },
  {
   "cell_type": "code",
   "execution_count": null,
   "metadata": {},
   "outputs": [],
   "source": []
  },
  {
   "cell_type": "markdown",
   "metadata": {},
   "source": [
    "## Importing Libraries and Loading Images"
   ]
  },
  {
   "cell_type": "markdown",
   "metadata": {},
   "source": [
    "### Libraries"
   ]
  },
  {
   "cell_type": "code",
   "execution_count": 52,
   "metadata": {},
   "outputs": [],
   "source": [
    "#Import necessary libraries\n",
    "import numpy as np\n",
    "import matplotlib.pyplot as plt\n",
    "import seaborn as sns\n",
    "sns.set_style(\"darkgrid\")\n",
    "from sklearn.model_selection import train_test_split\n",
    "import keras\n",
    "from keras import models\n",
    "from keras import layers\n",
    "from keras import optimizers\n",
    "from keras.layers import Dense, Conv2D, Flatten\n",
    "from keras.preprocessing.image import ImageDataGenerator, array_to_img, img_to_array, load_img\n",
    "from sklearn.model_selection import GridSearchCV\n",
    "from keras.wrappers.scikit_learn import KerasClassifier\n",
    "from keras.utils import to_categorical\n",
    "import os"
   ]
  },
  {
   "cell_type": "markdown",
   "metadata": {},
   "source": [
    "### Load Images"
   ]
  },
  {
   "cell_type": "code",
   "execution_count": 2,
   "metadata": {},
   "outputs": [],
   "source": [
    "#Directory path\n",
    "train_data_dir = 'chest_xray/train/'\n",
    "test_data_dir = 'chest_xray/test/'\n",
    "val_data_dir = 'chest_xray/val/'"
   ]
  },
  {
   "cell_type": "code",
   "execution_count": 3,
   "metadata": {},
   "outputs": [
    {
     "name": "stdout",
     "output_type": "stream",
     "text": [
      "Found 5216 images belonging to 2 classes.\n",
      "Found 624 images belonging to 2 classes.\n",
      "Found 16 images belonging to 2 classes.\n"
     ]
    }
   ],
   "source": [
    "#Get all the data in each generator and reshaping the images\n",
    "train_generator = ImageDataGenerator(rescale = 1./255).flow_from_directory(\n",
    "        train_data_dir, \n",
    "        target_size=(128, 128), \n",
    "        color_mode = 'grayscale', \n",
    "        batch_size=500)\n",
    "\n",
    "test_generator = ImageDataGenerator(rescale = 1./255).flow_from_directory(\n",
    "        test_data_dir, \n",
    "        target_size=(128, 128), \n",
    "        color_mode = 'grayscale', \n",
    "        batch_size=200)\n",
    "\n",
    "val_generator = ImageDataGenerator(rescale = 1./255).flow_from_directory(\n",
    "        val_data_dir, \n",
    "        target_size=(128, 128), \n",
    "        color_mode = 'grayscale',\n",
    "        batch_size=16)"
   ]
  },
  {
   "cell_type": "code",
   "execution_count": 4,
   "metadata": {},
   "outputs": [],
   "source": [
    "#Create the datasets\n",
    "train_images, train_labels = next(train_generator)\n",
    "test_images, test_labels = next(test_generator)\n",
    "val_images, val_labels = next(val_generator)"
   ]
  },
  {
   "cell_type": "markdown",
   "metadata": {},
   "source": [
    "### Previewing Images"
   ]
  },
  {
   "cell_type": "code",
   "execution_count": 5,
   "metadata": {},
   "outputs": [
    {
     "data": {
      "image/png": "[encoded data removed]",
      "text/plain": [
       "<PIL.Image.Image image mode=L size=128x128 at 0x7FC8F2ACBFA0>"
      ]
     },
     "execution_count": 5,
     "metadata": {},
     "output_type": "execute_result"
    }
   ],
   "source": [
    "array_to_img(train_images[10])"
   ]
  },
  {
   "cell_type": "code",
   "execution_count": 6,
   "metadata": {},
   "outputs": [
    {
     "data": {
      "image/png": "[encoded data removed]",
      "text/plain": [
       "<PIL.Image.Image image mode=L size=128x128 at 0x7FC8F2ACBBE0>"
      ]
     },
     "execution_count": 6,
     "metadata": {},
     "output_type": "execute_result"
    }
   ],
   "source": [
    "array_to_img(train_images[22])"
   ]
  },
  {
   "cell_type": "markdown",
   "metadata": {},
   "source": [
    "## Images and Labels"
   ]
  },
  {
   "cell_type": "markdown",
   "metadata": {},
   "source": [
    "### EDA of the Dataset"
   ]
  },
  {
   "cell_type": "code",
   "execution_count": 7,
   "metadata": {},
   "outputs": [
    {
     "name": "stdout",
     "output_type": "stream",
     "text": [
      "Number of training samples: 500\n",
      "Number of testing samples: 200\n",
      "Number of validation samples: 16\n",
      "train_images shape: (500, 128, 128, 1)\n",
      "train_labels shape: (500, 2)\n",
      "test_images shape: (200, 128, 128, 1)\n",
      "test_labels shape: (200, 2)\n",
      "val_images shape: (16, 128, 128, 1)\n",
      "val_labels shape: (16, 2)\n"
     ]
    }
   ],
   "source": [
    "#exploring the data set\n",
    "train_ex = train_images.shape[0]\n",
    "num_px = train_images.shape[1]\n",
    "test_ex = test_images.shape[0]\n",
    "val_ex = val_images.shape[0]\n",
    "\n",
    "print (\"Number of training samples: \" + str(train_ex))\n",
    "print (\"Number of testing samples: \" + str(test_ex))\n",
    "print (\"Number of validation samples: \" + str(val_ex))\n",
    "print (\"train_images shape: \" + str(train_images.shape))\n",
    "print (\"train_labels shape: \" + str(train_labels.shape))\n",
    "print (\"test_images shape: \" + str(test_images.shape))\n",
    "print (\"test_labels shape: \" + str(test_labels.shape))\n",
    "print (\"val_images shape: \" + str(val_images.shape))\n",
    "print (\"val_labels shape: \" + str(val_labels.shape))"
   ]
  },
  {
   "cell_type": "markdown",
   "metadata": {},
   "source": [
    "### Images"
   ]
  },
  {
   "cell_type": "code",
   "execution_count": 8,
   "metadata": {},
   "outputs": [],
   "source": [
    "#Reshaping the images\n",
    "train_img = train_images.reshape(train_images.shape[0], -1)\n",
    "test_img = test_images.reshape(test_images.shape[0], -1)\n",
    "val_img = val_images.reshape(val_images.shape[0], -1)"
   ]
  },
  {
   "cell_type": "code",
   "execution_count": 9,
   "metadata": {},
   "outputs": [
    {
     "name": "stdout",
     "output_type": "stream",
     "text": [
      "Train Images: (500, 16384)\n",
      "Test Images: (200, 16384)\n",
      "Validation Images: (16, 16384)\n"
     ]
    }
   ],
   "source": [
    "#Previewing the shape of images\n",
    "print('Train Images:',np.shape(train_img))\n",
    "print('Test Images:',np.shape(test_img))\n",
    "print('Validation Images:',np.shape(val_img))"
   ]
  },
  {
   "cell_type": "markdown",
   "metadata": {},
   "source": [
    "### Labels"
   ]
  },
  {
   "cell_type": "code",
   "execution_count": 10,
   "metadata": {},
   "outputs": [
    {
     "data": {
      "text/plain": [
       "array([[1., 0.],\n",
       "       [0., 1.],\n",
       "       [0., 1.],\n",
       "       [0., 1.],\n",
       "       [1., 0.],\n",
       "       [0., 1.],\n",
       "       [1., 0.],\n",
       "       [1., 0.],\n",
       "       [0., 1.],\n",
       "       [1., 0.],\n",
       "       [0., 1.],\n",
       "       [1., 0.],\n",
       "       [0., 1.],\n",
       "       [0., 1.],\n",
       "       [0., 1.],\n",
       "       [1., 0.],\n",
       "       [0., 1.],\n",
       "       [0., 1.],\n",
       "       [0., 1.],\n",
       "       [0., 1.],\n",
       "       [0., 1.],\n",
       "       [0., 1.],\n",
       "       [0., 1.],\n",
       "       [0., 1.],\n",
       "       [0., 1.],\n",
       "       [0., 1.],\n",
       "       [0., 1.],\n",
       "       [1., 0.],\n",
       "       [0., 1.],\n",
       "       [0., 1.],\n",
       "       [0., 1.],\n",
       "       [0., 1.],\n",
       "       [0., 1.],\n",
       "       [1., 0.],\n",
       "       [0., 1.],\n",
       "       [1., 0.],\n",
       "       [0., 1.],\n",
       "       [0., 1.],\n",
       "       [1., 0.],\n",
       "       [0., 1.],\n",
       "       [0., 1.],\n",
       "       [1., 0.],\n",
       "       [0., 1.],\n",
       "       [0., 1.],\n",
       "       [1., 0.],\n",
       "       [0., 1.],\n",
       "       [0., 1.],\n",
       "       [1., 0.],\n",
       "       [0., 1.],\n",
       "       [1., 0.],\n",
       "       [0., 1.],\n",
       "       [0., 1.],\n",
       "       [1., 0.],\n",
       "       [0., 1.],\n",
       "       [0., 1.],\n",
       "       [0., 1.],\n",
       "       [0., 1.],\n",
       "       [0., 1.],\n",
       "       [0., 1.],\n",
       "       [0., 1.],\n",
       "       [0., 1.],\n",
       "       [1., 0.],\n",
       "       [1., 0.],\n",
       "       [0., 1.],\n",
       "       [1., 0.],\n",
       "       [0., 1.],\n",
       "       [0., 1.],\n",
       "       [1., 0.],\n",
       "       [1., 0.],\n",
       "       [0., 1.],\n",
       "       [0., 1.],\n",
       "       [0., 1.],\n",
       "       [0., 1.],\n",
       "       [0., 1.],\n",
       "       [1., 0.],\n",
       "       [0., 1.],\n",
       "       [0., 1.],\n",
       "       [0., 1.],\n",
       "       [0., 1.],\n",
       "       [1., 0.],\n",
       "       [0., 1.],\n",
       "       [0., 1.],\n",
       "       [0., 1.],\n",
       "       [1., 0.],\n",
       "       [1., 0.],\n",
       "       [0., 1.],\n",
       "       [0., 1.],\n",
       "       [0., 1.],\n",
       "       [1., 0.],\n",
       "       [0., 1.],\n",
       "       [0., 1.],\n",
       "       [1., 0.],\n",
       "       [1., 0.],\n",
       "       [0., 1.],\n",
       "       [1., 0.],\n",
       "       [0., 1.],\n",
       "       [0., 1.],\n",
       "       [1., 0.],\n",
       "       [0., 1.],\n",
       "       [0., 1.],\n",
       "       [0., 1.],\n",
       "       [0., 1.],\n",
       "       [0., 1.],\n",
       "       [0., 1.],\n",
       "       [0., 1.],\n",
       "       [1., 0.],\n",
       "       [0., 1.],\n",
       "       [0., 1.],\n",
       "       [0., 1.],\n",
       "       [0., 1.],\n",
       "       [0., 1.],\n",
       "       [1., 0.],\n",
       "       [0., 1.],\n",
       "       [0., 1.],\n",
       "       [0., 1.],\n",
       "       [0., 1.],\n",
       "       [0., 1.],\n",
       "       [1., 0.],\n",
       "       [0., 1.],\n",
       "       [0., 1.],\n",
       "       [0., 1.],\n",
       "       [0., 1.],\n",
       "       [0., 1.],\n",
       "       [0., 1.],\n",
       "       [1., 0.],\n",
       "       [0., 1.],\n",
       "       [0., 1.],\n",
       "       [1., 0.],\n",
       "       [0., 1.],\n",
       "       [0., 1.],\n",
       "       [0., 1.],\n",
       "       [1., 0.],\n",
       "       [0., 1.],\n",
       "       [0., 1.],\n",
       "       [0., 1.],\n",
       "       [0., 1.],\n",
       "       [0., 1.],\n",
       "       [0., 1.],\n",
       "       [1., 0.],\n",
       "       [0., 1.],\n",
       "       [0., 1.],\n",
       "       [1., 0.],\n",
       "       [0., 1.],\n",
       "       [0., 1.],\n",
       "       [0., 1.],\n",
       "       [1., 0.],\n",
       "       [0., 1.],\n",
       "       [0., 1.],\n",
       "       [0., 1.],\n",
       "       [0., 1.],\n",
       "       [1., 0.],\n",
       "       [0., 1.],\n",
       "       [0., 1.],\n",
       "       [0., 1.],\n",
       "       [0., 1.],\n",
       "       [1., 0.],\n",
       "       [0., 1.],\n",
       "       [0., 1.],\n",
       "       [0., 1.],\n",
       "       [0., 1.],\n",
       "       [0., 1.],\n",
       "       [0., 1.],\n",
       "       [1., 0.],\n",
       "       [0., 1.],\n",
       "       [0., 1.],\n",
       "       [0., 1.],\n",
       "       [0., 1.],\n",
       "       [1., 0.],\n",
       "       [0., 1.],\n",
       "       [0., 1.],\n",
       "       [0., 1.],\n",
       "       [0., 1.],\n",
       "       [1., 0.],\n",
       "       [1., 0.],\n",
       "       [1., 0.],\n",
       "       [0., 1.],\n",
       "       [1., 0.],\n",
       "       [1., 0.],\n",
       "       [0., 1.],\n",
       "       [1., 0.],\n",
       "       [0., 1.],\n",
       "       [0., 1.],\n",
       "       [0., 1.],\n",
       "       [0., 1.],\n",
       "       [0., 1.],\n",
       "       [0., 1.],\n",
       "       [0., 1.],\n",
       "       [1., 0.],\n",
       "       [0., 1.],\n",
       "       [1., 0.],\n",
       "       [1., 0.],\n",
       "       [0., 1.],\n",
       "       [0., 1.],\n",
       "       [0., 1.],\n",
       "       [1., 0.],\n",
       "       [0., 1.],\n",
       "       [0., 1.],\n",
       "       [0., 1.],\n",
       "       [0., 1.],\n",
       "       [0., 1.],\n",
       "       [0., 1.],\n",
       "       [0., 1.],\n",
       "       [1., 0.],\n",
       "       [0., 1.],\n",
       "       [1., 0.],\n",
       "       [0., 1.],\n",
       "       [0., 1.],\n",
       "       [0., 1.],\n",
       "       [1., 0.],\n",
       "       [0., 1.],\n",
       "       [0., 1.],\n",
       "       [0., 1.],\n",
       "       [1., 0.],\n",
       "       [0., 1.],\n",
       "       [1., 0.],\n",
       "       [1., 0.],\n",
       "       [0., 1.],\n",
       "       [0., 1.],\n",
       "       [1., 0.],\n",
       "       [1., 0.],\n",
       "       [1., 0.],\n",
       "       [0., 1.],\n",
       "       [0., 1.],\n",
       "       [0., 1.],\n",
       "       [0., 1.],\n",
       "       [0., 1.],\n",
       "       [0., 1.],\n",
       "       [0., 1.],\n",
       "       [0., 1.],\n",
       "       [0., 1.],\n",
       "       [0., 1.],\n",
       "       [0., 1.],\n",
       "       [0., 1.],\n",
       "       [1., 0.],\n",
       "       [0., 1.],\n",
       "       [1., 0.],\n",
       "       [1., 0.],\n",
       "       [0., 1.],\n",
       "       [0., 1.],\n",
       "       [0., 1.],\n",
       "       [0., 1.],\n",
       "       [0., 1.],\n",
       "       [1., 0.],\n",
       "       [1., 0.],\n",
       "       [1., 0.],\n",
       "       [0., 1.],\n",
       "       [0., 1.],\n",
       "       [1., 0.],\n",
       "       [1., 0.],\n",
       "       [0., 1.],\n",
       "       [0., 1.],\n",
       "       [1., 0.],\n",
       "       [0., 1.],\n",
       "       [1., 0.],\n",
       "       [0., 1.],\n",
       "       [1., 0.],\n",
       "       [0., 1.],\n",
       "       [0., 1.],\n",
       "       [0., 1.],\n",
       "       [0., 1.],\n",
       "       [0., 1.],\n",
       "       [0., 1.],\n",
       "       [1., 0.],\n",
       "       [0., 1.],\n",
       "       [0., 1.],\n",
       "       [0., 1.],\n",
       "       [1., 0.],\n",
       "       [0., 1.],\n",
       "       [1., 0.],\n",
       "       [0., 1.],\n",
       "       [0., 1.],\n",
       "       [0., 1.],\n",
       "       [0., 1.],\n",
       "       [0., 1.],\n",
       "       [0., 1.],\n",
       "       [0., 1.],\n",
       "       [0., 1.],\n",
       "       [0., 1.],\n",
       "       [0., 1.],\n",
       "       [0., 1.],\n",
       "       [0., 1.],\n",
       "       [0., 1.],\n",
       "       [0., 1.],\n",
       "       [0., 1.],\n",
       "       [1., 0.],\n",
       "       [1., 0.],\n",
       "       [1., 0.],\n",
       "       [0., 1.],\n",
       "       [0., 1.],\n",
       "       [0., 1.],\n",
       "       [0., 1.],\n",
       "       [0., 1.],\n",
       "       [0., 1.],\n",
       "       [0., 1.],\n",
       "       [1., 0.],\n",
       "       [0., 1.],\n",
       "       [0., 1.],\n",
       "       [0., 1.],\n",
       "       [0., 1.],\n",
       "       [0., 1.],\n",
       "       [0., 1.],\n",
       "       [0., 1.],\n",
       "       [0., 1.],\n",
       "       [0., 1.],\n",
       "       [0., 1.],\n",
       "       [0., 1.],\n",
       "       [0., 1.],\n",
       "       [0., 1.],\n",
       "       [0., 1.],\n",
       "       [1., 0.],\n",
       "       [0., 1.],\n",
       "       [1., 0.],\n",
       "       [0., 1.],\n",
       "       [0., 1.],\n",
       "       [0., 1.],\n",
       "       [1., 0.],\n",
       "       [0., 1.],\n",
       "       [0., 1.],\n",
       "       [0., 1.],\n",
       "       [0., 1.],\n",
       "       [1., 0.],\n",
       "       [0., 1.],\n",
       "       [0., 1.],\n",
       "       [0., 1.],\n",
       "       [0., 1.],\n",
       "       [1., 0.],\n",
       "       [0., 1.],\n",
       "       [0., 1.],\n",
       "       [0., 1.],\n",
       "       [0., 1.],\n",
       "       [0., 1.],\n",
       "       [1., 0.],\n",
       "       [1., 0.],\n",
       "       [0., 1.],\n",
       "       [0., 1.],\n",
       "       [1., 0.],\n",
       "       [1., 0.],\n",
       "       [0., 1.],\n",
       "       [0., 1.],\n",
       "       [0., 1.],\n",
       "       [0., 1.],\n",
       "       [0., 1.],\n",
       "       [0., 1.],\n",
       "       [1., 0.],\n",
       "       [1., 0.],\n",
       "       [0., 1.],\n",
       "       [1., 0.],\n",
       "       [1., 0.],\n",
       "       [0., 1.],\n",
       "       [0., 1.],\n",
       "       [0., 1.],\n",
       "       [1., 0.],\n",
       "       [0., 1.],\n",
       "       [0., 1.],\n",
       "       [0., 1.],\n",
       "       [0., 1.],\n",
       "       [0., 1.],\n",
       "       [0., 1.],\n",
       "       [0., 1.],\n",
       "       [0., 1.],\n",
       "       [0., 1.],\n",
       "       [1., 0.],\n",
       "       [0., 1.],\n",
       "       [0., 1.],\n",
       "       [0., 1.],\n",
       "       [0., 1.],\n",
       "       [0., 1.],\n",
       "       [0., 1.],\n",
       "       [0., 1.],\n",
       "       [1., 0.],\n",
       "       [0., 1.],\n",
       "       [0., 1.],\n",
       "       [0., 1.],\n",
       "       [0., 1.],\n",
       "       [0., 1.],\n",
       "       [0., 1.],\n",
       "       [0., 1.],\n",
       "       [0., 1.],\n",
       "       [1., 0.],\n",
       "       [1., 0.],\n",
       "       [1., 0.],\n",
       "       [0., 1.],\n",
       "       [0., 1.],\n",
       "       [0., 1.],\n",
       "       [0., 1.],\n",
       "       [0., 1.],\n",
       "       [1., 0.],\n",
       "       [0., 1.],\n",
       "       [0., 1.],\n",
       "       [0., 1.],\n",
       "       [0., 1.],\n",
       "       [0., 1.],\n",
       "       [0., 1.],\n",
       "       [0., 1.],\n",
       "       [0., 1.],\n",
       "       [1., 0.],\n",
       "       [0., 1.],\n",
       "       [0., 1.],\n",
       "       [0., 1.],\n",
       "       [0., 1.],\n",
       "       [0., 1.],\n",
       "       [1., 0.],\n",
       "       [0., 1.],\n",
       "       [0., 1.],\n",
       "       [0., 1.],\n",
       "       [0., 1.],\n",
       "       [0., 1.],\n",
       "       [0., 1.],\n",
       "       [0., 1.],\n",
       "       [1., 0.],\n",
       "       [1., 0.],\n",
       "       [0., 1.],\n",
       "       [1., 0.],\n",
       "       [0., 1.],\n",
       "       [0., 1.],\n",
       "       [0., 1.],\n",
       "       [0., 1.],\n",
       "       [1., 0.],\n",
       "       [0., 1.],\n",
       "       [0., 1.],\n",
       "       [1., 0.],\n",
       "       [0., 1.],\n",
       "       [1., 0.],\n",
       "       [0., 1.],\n",
       "       [1., 0.],\n",
       "       [1., 0.],\n",
       "       [0., 1.],\n",
       "       [0., 1.],\n",
       "       [0., 1.],\n",
       "       [1., 0.],\n",
       "       [0., 1.],\n",
       "       [0., 1.],\n",
       "       [0., 1.],\n",
       "       [0., 1.],\n",
       "       [1., 0.],\n",
       "       [1., 0.],\n",
       "       [0., 1.],\n",
       "       [1., 0.],\n",
       "       [0., 1.],\n",
       "       [0., 1.],\n",
       "       [0., 1.],\n",
       "       [0., 1.],\n",
       "       [1., 0.],\n",
       "       [1., 0.],\n",
       "       [1., 0.],\n",
       "       [0., 1.],\n",
       "       [1., 0.],\n",
       "       [0., 1.],\n",
       "       [1., 0.],\n",
       "       [0., 1.],\n",
       "       [1., 0.],\n",
       "       [0., 1.],\n",
       "       [0., 1.],\n",
       "       [1., 0.],\n",
       "       [0., 1.],\n",
       "       [0., 1.],\n",
       "       [0., 1.],\n",
       "       [0., 1.],\n",
       "       [0., 1.],\n",
       "       [0., 1.],\n",
       "       [0., 1.],\n",
       "       [1., 0.],\n",
       "       [0., 1.],\n",
       "       [0., 1.],\n",
       "       [1., 0.],\n",
       "       [0., 1.],\n",
       "       [1., 0.],\n",
       "       [0., 1.],\n",
       "       [0., 1.],\n",
       "       [0., 1.],\n",
       "       [1., 0.],\n",
       "       [1., 0.],\n",
       "       [0., 1.],\n",
       "       [1., 0.],\n",
       "       [0., 1.],\n",
       "       [0., 1.],\n",
       "       [1., 0.],\n",
       "       [0., 1.],\n",
       "       [0., 1.],\n",
       "       [0., 1.],\n",
       "       [0., 1.],\n",
       "       [0., 1.],\n",
       "       [0., 1.],\n",
       "       [0., 1.],\n",
       "       [0., 1.],\n",
       "       [0., 1.],\n",
       "       [0., 1.],\n",
       "       [0., 1.],\n",
       "       [0., 1.],\n",
       "       [0., 1.],\n",
       "       [0., 1.],\n",
       "       [1., 0.],\n",
       "       [0., 1.],\n",
       "       [0., 1.],\n",
       "       [0., 1.],\n",
       "       [0., 1.],\n",
       "       [0., 1.],\n",
       "       [0., 1.],\n",
       "       [0., 1.],\n",
       "       [1., 0.]], dtype=float32)"
      ]
     },
     "execution_count": 10,
     "metadata": {},
     "output_type": "execute_result"
    }
   ],
   "source": [
    "train_labels"
   ]
  },
  {
   "cell_type": "code",
   "execution_count": 11,
   "metadata": {},
   "outputs": [
    {
     "data": {
      "text/plain": [
       "{'NORMAL': 0, 'PNEUMONIA': 1}"
      ]
     },
     "execution_count": 11,
     "metadata": {},
     "output_type": "execute_result"
    }
   ],
   "source": [
    "train_generator.class_indices"
   ]
  },
  {
   "cell_type": "code",
   "execution_count": 12,
   "metadata": {},
   "outputs": [],
   "source": [
    "train_label = np.reshape(train_labels[:, 0], (500,1))\n",
    "test_label = np.reshape(test_labels[:, 0], (200,1))\n",
    "val_label = np.reshape(val_labels[:, 0], (16,1))"
   ]
  },
  {
   "cell_type": "code",
   "execution_count": 13,
   "metadata": {},
   "outputs": [
    {
     "name": "stdout",
     "output_type": "stream",
     "text": [
      "Train Labels: (500, 1)\n",
      "Test Labels: (200, 1)\n",
      "Validation Labels: (16, 1)\n"
     ]
    }
   ],
   "source": [
    "print('Train Labels:',np.shape(train_label))\n",
    "print('Test Labels:',np.shape(test_label))\n",
    "print('Validation Labels:',np.shape(val_label))"
   ]
  },
  {
   "cell_type": "markdown",
   "metadata": {},
   "source": [
    "## Baseline Model"
   ]
  },
  {
   "cell_type": "markdown",
   "metadata": {},
   "source": [
    "### Model"
   ]
  },
  {
   "cell_type": "code",
   "execution_count": 14,
   "metadata": {},
   "outputs": [],
   "source": [
    "# Build a baseline fully connected model\n",
    "np.random.seed(42)\n",
    "model = models.Sequential()\n",
    "model.add(layers.Dense(8, activation='relu', input_shape=(16384, )))\n",
    "model.add(layers.Dense(1, activation='sigmoid'))"
   ]
  },
  {
   "cell_type": "code",
   "execution_count": 15,
   "metadata": {},
   "outputs": [
    {
     "name": "stdout",
     "output_type": "stream",
     "text": [
      "Model: \"sequential\"\n",
      "_________________________________________________________________\n",
      "Layer (type)                 Output Shape              Param #   \n",
      "=================================================================\n",
      "dense (Dense)                (None, 8)                 131080    \n",
      "_________________________________________________________________\n",
      "dense_1 (Dense)              (None, 1)                 9         \n",
      "=================================================================\n",
      "Total params: 131,089\n",
      "Trainable params: 131,089\n",
      "Non-trainable params: 0\n",
      "_________________________________________________________________\n"
     ]
    }
   ],
   "source": [
    "model.summary()"
   ]
  },
  {
   "cell_type": "code",
   "execution_count": 16,
   "metadata": {},
   "outputs": [],
   "source": [
    "#Creating a Compile\n",
    "model.compile(optimizer='sgd',\n",
    "              loss='binary_crossentropy',\n",
    "              metrics=['accuracy'])"
   ]
  },
  {
   "cell_type": "code",
   "execution_count": 17,
   "metadata": {
    "scrolled": true
   },
   "outputs": [
    {
     "name": "stdout",
     "output_type": "stream",
     "text": [
      "Epoch 1/100\n",
      "7/7 [==============================] - 0s 19ms/step - loss: 0.7639 - accuracy: 0.6540 - val_loss: 0.6932 - val_accuracy: 0.5000\n",
      "Epoch 2/100\n",
      "7/7 [==============================] - 0s 6ms/step - loss: 0.6883 - accuracy: 0.7400 - val_loss: 0.6933 - val_accuracy: 0.5000\n",
      "Epoch 3/100\n",
      "7/7 [==============================] - 0s 7ms/step - loss: 0.6845 - accuracy: 0.7400 - val_loss: 0.6934 - val_accuracy: 0.5000\n",
      "Epoch 4/100\n",
      "7/7 [==============================] - 0s 7ms/step - loss: 0.6808 - accuracy: 0.7400 - val_loss: 0.6937 - val_accuracy: 0.5000\n",
      "Epoch 5/100\n",
      "7/7 [==============================] - 0s 7ms/step - loss: 0.6770 - accuracy: 0.7400 - val_loss: 0.6939 - val_accuracy: 0.5000\n",
      "Epoch 6/100\n",
      "7/7 [==============================] - 0s 7ms/step - loss: 0.6735 - accuracy: 0.7400 - val_loss: 0.6943 - val_accuracy: 0.5000\n",
      "Epoch 7/100\n",
      "7/7 [==============================] - 0s 6ms/step - loss: 0.6701 - accuracy: 0.7400 - val_loss: 0.6947 - val_accuracy: 0.5000\n",
      "Epoch 8/100\n",
      "7/7 [==============================] - 0s 5ms/step - loss: 0.6666 - accuracy: 0.7400 - val_loss: 0.6952 - val_accuracy: 0.5000\n",
      "Epoch 9/100\n",
      "7/7 [==============================] - 0s 5ms/step - loss: 0.6634 - accuracy: 0.7400 - val_loss: 0.6956 - val_accuracy: 0.5000\n",
      "Epoch 10/100\n",
      "7/7 [==============================] - 0s 5ms/step - loss: 0.6606 - accuracy: 0.7400 - val_loss: 0.6961 - val_accuracy: 0.5000\n",
      "Epoch 11/100\n",
      "7/7 [==============================] - 0s 5ms/step - loss: 0.6580 - accuracy: 0.7400 - val_loss: 0.6966 - val_accuracy: 0.5000\n",
      "Epoch 12/100\n",
      "7/7 [==============================] - 0s 5ms/step - loss: 0.6554 - accuracy: 0.7400 - val_loss: 0.6973 - val_accuracy: 0.5000\n",
      "Epoch 13/100\n",
      "7/7 [==============================] - 0s 5ms/step - loss: 0.6526 - accuracy: 0.7400 - val_loss: 0.6979 - val_accuracy: 0.5000\n",
      "Epoch 14/100\n",
      "7/7 [==============================] - 0s 5ms/step - loss: 0.6500 - accuracy: 0.7400 - val_loss: 0.6986 - val_accuracy: 0.5000\n",
      "Epoch 15/100\n",
      "7/7 [==============================] - 0s 5ms/step - loss: 0.6475 - accuracy: 0.7400 - val_loss: 0.6992 - val_accuracy: 0.5000\n",
      "Epoch 16/100\n",
      "7/7 [==============================] - 0s 5ms/step - loss: 0.6453 - accuracy: 0.7400 - val_loss: 0.7000 - val_accuracy: 0.5000\n",
      "Epoch 17/100\n",
      "7/7 [==============================] - 0s 4ms/step - loss: 0.6429 - accuracy: 0.7400 - val_loss: 0.7007 - val_accuracy: 0.5000\n",
      "Epoch 18/100\n",
      "7/7 [==============================] - 0s 5ms/step - loss: 0.6407 - accuracy: 0.7400 - val_loss: 0.7016 - val_accuracy: 0.5000\n",
      "Epoch 19/100\n",
      "7/7 [==============================] - 0s 4ms/step - loss: 0.6384 - accuracy: 0.7400 - val_loss: 0.7024 - val_accuracy: 0.5000\n",
      "Epoch 20/100\n",
      "7/7 [==============================] - 0s 5ms/step - loss: 0.6362 - accuracy: 0.7400 - val_loss: 0.7033 - val_accuracy: 0.5000\n",
      "Epoch 21/100\n",
      "7/7 [==============================] - 0s 5ms/step - loss: 0.6340 - accuracy: 0.7400 - val_loss: 0.7042 - val_accuracy: 0.5000\n",
      "Epoch 22/100\n",
      "7/7 [==============================] - 0s 5ms/step - loss: 0.6320 - accuracy: 0.7400 - val_loss: 0.7051 - val_accuracy: 0.5000\n",
      "Epoch 23/100\n",
      "7/7 [==============================] - 0s 5ms/step - loss: 0.6300 - accuracy: 0.7400 - val_loss: 0.7061 - val_accuracy: 0.5000\n",
      "Epoch 24/100\n",
      "7/7 [==============================] - 0s 5ms/step - loss: 0.6280 - accuracy: 0.7400 - val_loss: 0.7070 - val_accuracy: 0.5000\n",
      "Epoch 25/100\n",
      "7/7 [==============================] - 0s 4ms/step - loss: 0.6262 - accuracy: 0.7400 - val_loss: 0.7080 - val_accuracy: 0.5000\n",
      "Epoch 26/100\n",
      "7/7 [==============================] - 0s 5ms/step - loss: 0.6244 - accuracy: 0.7400 - val_loss: 0.7089 - val_accuracy: 0.5000\n",
      "Epoch 27/100\n",
      "7/7 [==============================] - 0s 4ms/step - loss: 0.6229 - accuracy: 0.7400 - val_loss: 0.7098 - val_accuracy: 0.5000\n",
      "Epoch 28/100\n",
      "7/7 [==============================] - 0s 5ms/step - loss: 0.6213 - accuracy: 0.7400 - val_loss: 0.7108 - val_accuracy: 0.5000\n",
      "Epoch 29/100\n",
      "7/7 [==============================] - 0s 4ms/step - loss: 0.6198 - accuracy: 0.7400 - val_loss: 0.7116 - val_accuracy: 0.5000\n",
      "Epoch 30/100\n",
      "7/7 [==============================] - 0s 5ms/step - loss: 0.6185 - accuracy: 0.7400 - val_loss: 0.7125 - val_accuracy: 0.5000\n",
      "Epoch 31/100\n",
      "7/7 [==============================] - 0s 5ms/step - loss: 0.6171 - accuracy: 0.7400 - val_loss: 0.7136 - val_accuracy: 0.5000\n",
      "Epoch 32/100\n",
      "7/7 [==============================] - 0s 4ms/step - loss: 0.6157 - accuracy: 0.7400 - val_loss: 0.7146 - val_accuracy: 0.5000\n",
      "Epoch 33/100\n",
      "7/7 [==============================] - 0s 5ms/step - loss: 0.6143 - accuracy: 0.7400 - val_loss: 0.7155 - val_accuracy: 0.5000\n",
      "Epoch 34/100\n",
      "7/7 [==============================] - 0s 4ms/step - loss: 0.6130 - accuracy: 0.7400 - val_loss: 0.7166 - val_accuracy: 0.5000\n",
      "Epoch 35/100\n",
      "7/7 [==============================] - 0s 4ms/step - loss: 0.6117 - accuracy: 0.7400 - val_loss: 0.7176 - val_accuracy: 0.5000\n",
      "Epoch 36/100\n",
      "7/7 [==============================] - 0s 4ms/step - loss: 0.6105 - accuracy: 0.7400 - val_loss: 0.7187 - val_accuracy: 0.5000\n",
      "Epoch 37/100\n",
      "7/7 [==============================] - 0s 5ms/step - loss: 0.6093 - accuracy: 0.7400 - val_loss: 0.7197 - val_accuracy: 0.5000\n",
      "Epoch 38/100\n",
      "7/7 [==============================] - 0s 5ms/step - loss: 0.6081 - accuracy: 0.7400 - val_loss: 0.7207 - val_accuracy: 0.5000\n",
      "Epoch 39/100\n",
      "7/7 [==============================] - 0s 4ms/step - loss: 0.6071 - accuracy: 0.7400 - val_loss: 0.7217 - val_accuracy: 0.5000\n",
      "Epoch 40/100\n",
      "7/7 [==============================] - 0s 4ms/step - loss: 0.6060 - accuracy: 0.7400 - val_loss: 0.7228 - val_accuracy: 0.5000\n",
      "Epoch 41/100\n",
      "7/7 [==============================] - 0s 4ms/step - loss: 0.6049 - accuracy: 0.7400 - val_loss: 0.7238 - val_accuracy: 0.5000\n",
      "Epoch 42/100\n",
      "7/7 [==============================] - 0s 4ms/step - loss: 0.6039 - accuracy: 0.7400 - val_loss: 0.7248 - val_accuracy: 0.5000\n",
      "Epoch 43/100\n",
      "7/7 [==============================] - 0s 4ms/step - loss: 0.6029 - accuracy: 0.7400 - val_loss: 0.7259 - val_accuracy: 0.5000\n",
      "Epoch 44/100\n",
      "7/7 [==============================] - 0s 5ms/step - loss: 0.6019 - accuracy: 0.7400 - val_loss: 0.7270 - val_accuracy: 0.5000\n",
      "Epoch 45/100\n",
      "7/7 [==============================] - 0s 5ms/step - loss: 0.6010 - accuracy: 0.7400 - val_loss: 0.7279 - val_accuracy: 0.5000\n",
      "Epoch 46/100\n",
      "7/7 [==============================] - 0s 5ms/step - loss: 0.6002 - accuracy: 0.7400 - val_loss: 0.7290 - val_accuracy: 0.5000\n",
      "Epoch 47/100\n",
      "7/7 [==============================] - 0s 5ms/step - loss: 0.5993 - accuracy: 0.7400 - val_loss: 0.7301 - val_accuracy: 0.5000\n",
      "Epoch 48/100\n",
      "7/7 [==============================] - 0s 5ms/step - loss: 0.5985 - accuracy: 0.7400 - val_loss: 0.7310 - val_accuracy: 0.5000\n",
      "Epoch 49/100\n",
      "7/7 [==============================] - 0s 5ms/step - loss: 0.5977 - accuracy: 0.7400 - val_loss: 0.7318 - val_accuracy: 0.5000\n",
      "Epoch 50/100\n",
      "7/7 [==============================] - 0s 5ms/step - loss: 0.5971 - accuracy: 0.7400 - val_loss: 0.7329 - val_accuracy: 0.5000\n",
      "Epoch 51/100\n",
      "7/7 [==============================] - 0s 5ms/step - loss: 0.5963 - accuracy: 0.7400 - val_loss: 0.7340 - val_accuracy: 0.5000\n",
      "Epoch 52/100\n",
      "7/7 [==============================] - 0s 5ms/step - loss: 0.5955 - accuracy: 0.7400 - val_loss: 0.7351 - val_accuracy: 0.5000\n",
      "Epoch 53/100\n",
      "7/7 [==============================] - 0s 5ms/step - loss: 0.5948 - accuracy: 0.7400 - val_loss: 0.7362 - val_accuracy: 0.5000\n",
      "Epoch 54/100\n",
      "7/7 [==============================] - 0s 5ms/step - loss: 0.5940 - accuracy: 0.7400 - val_loss: 0.7371 - val_accuracy: 0.5000\n",
      "Epoch 55/100\n",
      "7/7 [==============================] - 0s 4ms/step - loss: 0.5934 - accuracy: 0.7400 - val_loss: 0.7382 - val_accuracy: 0.5000\n",
      "Epoch 56/100\n",
      "7/7 [==============================] - 0s 4ms/step - loss: 0.5927 - accuracy: 0.7400 - val_loss: 0.7392 - val_accuracy: 0.5000\n",
      "Epoch 57/100\n",
      "7/7 [==============================] - 0s 5ms/step - loss: 0.5921 - accuracy: 0.7400 - val_loss: 0.7401 - val_accuracy: 0.5000\n",
      "Epoch 58/100\n",
      "7/7 [==============================] - 0s 4ms/step - loss: 0.5915 - accuracy: 0.7400 - val_loss: 0.7411 - val_accuracy: 0.5000\n",
      "Epoch 59/100\n"
     ]
    },
    {
     "name": "stdout",
     "output_type": "stream",
     "text": [
      "7/7 [==============================] - 0s 4ms/step - loss: 0.5909 - accuracy: 0.7400 - val_loss: 0.7420 - val_accuracy: 0.5000\n",
      "Epoch 60/100\n",
      "7/7 [==============================] - 0s 4ms/step - loss: 0.5904 - accuracy: 0.7400 - val_loss: 0.7429 - val_accuracy: 0.5000\n",
      "Epoch 61/100\n",
      "7/7 [==============================] - 0s 4ms/step - loss: 0.5899 - accuracy: 0.7400 - val_loss: 0.7438 - val_accuracy: 0.5000\n",
      "Epoch 62/100\n",
      "7/7 [==============================] - 0s 4ms/step - loss: 0.5894 - accuracy: 0.7400 - val_loss: 0.7446 - val_accuracy: 0.5000\n",
      "Epoch 63/100\n",
      "7/7 [==============================] - 0s 4ms/step - loss: 0.5890 - accuracy: 0.7400 - val_loss: 0.7456 - val_accuracy: 0.5000\n",
      "Epoch 64/100\n",
      "7/7 [==============================] - 0s 4ms/step - loss: 0.5885 - accuracy: 0.7400 - val_loss: 0.7466 - val_accuracy: 0.5000\n",
      "Epoch 65/100\n",
      "7/7 [==============================] - 0s 4ms/step - loss: 0.5880 - accuracy: 0.7400 - val_loss: 0.7476 - val_accuracy: 0.5000\n",
      "Epoch 66/100\n",
      "7/7 [==============================] - 0s 4ms/step - loss: 0.5875 - accuracy: 0.7400 - val_loss: 0.7485 - val_accuracy: 0.5000\n",
      "Epoch 67/100\n",
      "7/7 [==============================] - 0s 4ms/step - loss: 0.5870 - accuracy: 0.7400 - val_loss: 0.7494 - val_accuracy: 0.5000\n",
      "Epoch 68/100\n",
      "7/7 [==============================] - 0s 4ms/step - loss: 0.5866 - accuracy: 0.7400 - val_loss: 0.7504 - val_accuracy: 0.5000\n",
      "Epoch 69/100\n",
      "7/7 [==============================] - 0s 4ms/step - loss: 0.5861 - accuracy: 0.7400 - val_loss: 0.7512 - val_accuracy: 0.5000\n",
      "Epoch 70/100\n",
      "7/7 [==============================] - 0s 5ms/step - loss: 0.5858 - accuracy: 0.7400 - val_loss: 0.7520 - val_accuracy: 0.5000\n",
      "Epoch 71/100\n",
      "7/7 [==============================] - 0s 4ms/step - loss: 0.5854 - accuracy: 0.7400 - val_loss: 0.7528 - val_accuracy: 0.5000\n",
      "Epoch 72/100\n",
      "7/7 [==============================] - 0s 5ms/step - loss: 0.5851 - accuracy: 0.7400 - val_loss: 0.7538 - val_accuracy: 0.5000\n",
      "Epoch 73/100\n",
      "7/7 [==============================] - 0s 4ms/step - loss: 0.5847 - accuracy: 0.7400 - val_loss: 0.7544 - val_accuracy: 0.5000\n",
      "Epoch 74/100\n",
      "7/7 [==============================] - 0s 5ms/step - loss: 0.5844 - accuracy: 0.7400 - val_loss: 0.7552 - val_accuracy: 0.5000\n",
      "Epoch 75/100\n",
      "7/7 [==============================] - 0s 4ms/step - loss: 0.5841 - accuracy: 0.7400 - val_loss: 0.7561 - val_accuracy: 0.5000\n",
      "Epoch 76/100\n",
      "7/7 [==============================] - 0s 5ms/step - loss: 0.5837 - accuracy: 0.7400 - val_loss: 0.7570 - val_accuracy: 0.5000\n",
      "Epoch 77/100\n",
      "7/7 [==============================] - 0s 5ms/step - loss: 0.5834 - accuracy: 0.7400 - val_loss: 0.7576 - val_accuracy: 0.5000\n",
      "Epoch 78/100\n",
      "7/7 [==============================] - 0s 5ms/step - loss: 0.5831 - accuracy: 0.7400 - val_loss: 0.7586 - val_accuracy: 0.5000\n",
      "Epoch 79/100\n",
      "7/7 [==============================] - 0s 5ms/step - loss: 0.5828 - accuracy: 0.7400 - val_loss: 0.7593 - val_accuracy: 0.5000\n",
      "Epoch 80/100\n",
      "7/7 [==============================] - 0s 5ms/step - loss: 0.5825 - accuracy: 0.7400 - val_loss: 0.7597 - val_accuracy: 0.5000\n",
      "Epoch 81/100\n",
      "7/7 [==============================] - 0s 5ms/step - loss: 0.5824 - accuracy: 0.7400 - val_loss: 0.7605 - val_accuracy: 0.5000\n",
      "Epoch 82/100\n",
      "7/7 [==============================] - 0s 5ms/step - loss: 0.5820 - accuracy: 0.7400 - val_loss: 0.7616 - val_accuracy: 0.5000\n",
      "Epoch 83/100\n",
      "7/7 [==============================] - 0s 5ms/step - loss: 0.5817 - accuracy: 0.7400 - val_loss: 0.7624 - val_accuracy: 0.5000\n",
      "Epoch 84/100\n",
      "7/7 [==============================] - 0s 4ms/step - loss: 0.5814 - accuracy: 0.7400 - val_loss: 0.7630 - val_accuracy: 0.5000\n",
      "Epoch 85/100\n",
      "7/7 [==============================] - 0s 4ms/step - loss: 0.5812 - accuracy: 0.7400 - val_loss: 0.7635 - val_accuracy: 0.5000\n",
      "Epoch 86/100\n",
      "7/7 [==============================] - 0s 4ms/step - loss: 0.5810 - accuracy: 0.7400 - val_loss: 0.7635 - val_accuracy: 0.5000\n",
      "Epoch 87/100\n",
      "7/7 [==============================] - 0s 4ms/step - loss: 0.5807 - accuracy: 0.7400 - val_loss: 0.7435 - val_accuracy: 0.5000\n",
      "Epoch 88/100\n",
      "7/7 [==============================] - 0s 4ms/step - loss: 0.5801 - accuracy: 0.7400 - val_loss: 0.7659 - val_accuracy: 0.5000\n",
      "Epoch 89/100\n",
      "7/7 [==============================] - 0s 5ms/step - loss: 0.5804 - accuracy: 0.7400 - val_loss: 0.7667 - val_accuracy: 0.5000\n",
      "Epoch 90/100\n",
      "7/7 [==============================] - 0s 5ms/step - loss: 0.5802 - accuracy: 0.7400 - val_loss: 0.7671 - val_accuracy: 0.5000\n",
      "Epoch 91/100\n",
      "7/7 [==============================] - 0s 4ms/step - loss: 0.5798 - accuracy: 0.7400 - val_loss: 0.7676 - val_accuracy: 0.5000\n",
      "Epoch 92/100\n",
      "7/7 [==============================] - 0s 5ms/step - loss: 0.5787 - accuracy: 0.7400 - val_loss: 0.7435 - val_accuracy: 0.5000\n",
      "Epoch 93/100\n",
      "7/7 [==============================] - 0s 4ms/step - loss: 0.5749 - accuracy: 0.7400 - val_loss: 0.7246 - val_accuracy: 0.5000\n",
      "Epoch 94/100\n",
      "7/7 [==============================] - 0s 4ms/step - loss: 0.5741 - accuracy: 0.7400 - val_loss: 0.7420 - val_accuracy: 0.5000\n",
      "Epoch 95/100\n",
      "7/7 [==============================] - 0s 4ms/step - loss: 0.5682 - accuracy: 0.7400 - val_loss: 0.7451 - val_accuracy: 0.5000\n",
      "Epoch 96/100\n",
      "7/7 [==============================] - 0s 4ms/step - loss: 0.5679 - accuracy: 0.7400 - val_loss: 0.7648 - val_accuracy: 0.5000\n",
      "Epoch 97/100\n",
      "7/7 [==============================] - 0s 5ms/step - loss: 0.5616 - accuracy: 0.7400 - val_loss: 0.7298 - val_accuracy: 0.5000\n",
      "Epoch 98/100\n",
      "7/7 [==============================] - 0s 5ms/step - loss: 0.5633 - accuracy: 0.7400 - val_loss: 0.7381 - val_accuracy: 0.5000\n",
      "Epoch 99/100\n",
      "7/7 [==============================] - 0s 4ms/step - loss: 0.5527 - accuracy: 0.7400 - val_loss: 0.7544 - val_accuracy: 0.5000\n",
      "Epoch 100/100\n",
      "7/7 [==============================] - 0s 4ms/step - loss: 0.5482 - accuracy: 0.7400 - val_loss: 0.7475 - val_accuracy: 0.5000\n"
     ]
    }
   ],
   "source": [
    "#Creating history variable\n",
    "history_bl = model.fit(train_img,\n",
    "                    train_label,\n",
    "                    epochs=100,\n",
    "                    batch_size=80,\n",
    "                    validation_data=(val_img, val_label))"
   ]
  },
  {
   "cell_type": "markdown",
   "metadata": {},
   "source": [
    "### Results"
   ]
  },
  {
   "cell_type": "code",
   "execution_count": 18,
   "metadata": {},
   "outputs": [],
   "source": [
    "def model_results(tr_img, tr_lab, te_img, te_lab):\n",
    "    result_train = model.evaluate(tr_img, tr_lab)\n",
    "    results_test = model.evaluate(te_img, te_lab)\n",
    "    print(result_train)\n",
    "    print(results_test)"
   ]
  },
  {
   "cell_type": "code",
   "execution_count": 19,
   "metadata": {},
   "outputs": [],
   "source": [
    "def model_graphs(hist):\n",
    "    acc = hist.history['accuracy']\n",
    "    val_acc = hist.history['val_accuracy']\n",
    "    loss = hist.history['loss']\n",
    "    val_loss = hist.history['val_loss']\n",
    "    epochs = range(len(acc))\n",
    "    plt.plot(epochs, acc, 'bo', label='Training acc')\n",
    "    plt.plot(epochs, val_acc, 'b', label='Validation acc')\n",
    "    plt.title('Training and validation accuracy')\n",
    "    plt.legend()\n",
    "    plt.figure()\n",
    "    plt.plot(epochs, loss, 'bo', label='Training loss')\n",
    "    plt.plot(epochs, val_loss, 'b', label='Validation loss')\n",
    "    plt.title('Training and validation loss')\n",
    "    plt.legend()\n",
    "    plt.show()"
   ]
  },
  {
   "cell_type": "code",
   "execution_count": 20,
   "metadata": {
    "scrolled": true
   },
   "outputs": [
    {
     "name": "stdout",
     "output_type": "stream",
     "text": [
      "16/16 [==============================] - 0s 2ms/step - loss: 0.5508 - accuracy: 0.7400\n",
      "7/7 [==============================] - 0s 1ms/step - loss: 0.6609 - accuracy: 0.6050\n",
      "[0.5508461594581604, 0.7400000095367432]\n",
      "[0.660881519317627, 0.6050000190734863]\n"
     ]
    }
   ],
   "source": [
    "model_results(train_img, train_label, test_img, test_label)"
   ]
  },
  {
   "cell_type": "code",
   "execution_count": 21,
   "metadata": {},
   "outputs": [
    {
     "data": {
      "image/png": "[encoded data removed]",
      "text/plain": [
       "<Figure size 432x288 with 1 Axes>"
      ]
     },
     "metadata": {},
     "output_type": "display_data"
    },
    {
     "data": {
      "image/png": "[encoded data removed]",
      "text/plain": [
       "<Figure size 432x288 with 1 Axes>"
      ]
     },
     "metadata": {},
     "output_type": "display_data"
    }
   ],
   "source": [
    "model_graphs(history_bl)"
   ]
  },
  {
   "cell_type": "code",
   "execution_count": 22,
   "metadata": {},
   "outputs": [],
   "source": [
    "model.save('Chest_X-ray_baseline.h5')"
   ]
  },
  {
   "cell_type": "markdown",
   "metadata": {},
   "source": [
    "## CNN"
   ]
  },
  {
   "cell_type": "markdown",
   "metadata": {},
   "source": [
    "### Datagenerator"
   ]
  },
  {
   "cell_type": "code",
   "execution_count": 23,
   "metadata": {},
   "outputs": [],
   "source": [
    "#Get all of the data into each generator and modify the images\n",
    "train_regen = ImageDataGenerator(rescale=1./255)\n",
    "test_regen = ImageDataGenerator(rescale=1./255)\n",
    "val_regen = ImageDataGenerator(rescale=1./255)"
   ]
  },
  {
   "cell_type": "code",
   "execution_count": 24,
   "metadata": {},
   "outputs": [
    {
     "name": "stdout",
     "output_type": "stream",
     "text": [
      "Found 5216 images belonging to 2 classes.\n",
      "Found 624 images belonging to 2 classes.\n",
      "Found 16 images belonging to 2 classes.\n"
     ]
    }
   ],
   "source": [
    "train_generator = train_regen.flow_from_directory(train_data_dir,\n",
    "                                                  target_size = (128, 128),\n",
    "                                                  batch_size = 64,\n",
    "                                                  color_mode = 'grayscale',\n",
    "                                                  class_mode = 'binary')\n",
    "                                                  \n",
    "test_generator = test_regen.flow_from_directory(test_data_dir,\n",
    "                                                target_size = (128, 128),\n",
    "                                                batch_size = 6,\n",
    "                                                color_mode = 'grayscale',\n",
    "                                                class_mode = 'binary')\n",
    "\n",
    "val_generator = val_regen.flow_from_directory(val_data_dir,\n",
    "                                              target_size = (128, 128),\n",
    "                                              batch_size = 4,\n",
    "                                              color_mode = 'grayscale',\n",
    "                                              class_mode = 'binary')"
   ]
  },
  {
   "cell_type": "code",
   "execution_count": 25,
   "metadata": {},
   "outputs": [],
   "source": [
    "X_train, y_train = next(train_generator)\n",
    "X_test, y_test = next(test_generator)\n",
    "X_val, y_val = next(val_generator)"
   ]
  },
  {
   "cell_type": "markdown",
   "metadata": {},
   "source": [
    "### Model"
   ]
  },
  {
   "cell_type": "code",
   "execution_count": 26,
   "metadata": {},
   "outputs": [],
   "source": [
    "model = models.Sequential()\n",
    "\n",
    "model.add(layers.Conv2D(32, (3, 3), activation='relu',\n",
    "                        input_shape=(128, 128, 1)))\n",
    "model.add(layers.MaxPooling2D((2, 2)))\n",
    "model.add(layers.Conv2D(64, (3, 3), activation='relu'))\n",
    "model.add(layers.MaxPooling2D((2, 2)))\n",
    "model.add(layers.Conv2D(128, (3, 3), activation='relu'))\n",
    "model.add(layers.MaxPooling2D((2, 2)))\n",
    "model.add(layers.Flatten())\n",
    "model.add(layers.Dense(512, activation='relu'))\n",
    "model.add(layers.Dense(1, activation='sigmoid'))"
   ]
  },
  {
   "cell_type": "code",
   "execution_count": 27,
   "metadata": {},
   "outputs": [
    {
     "name": "stdout",
     "output_type": "stream",
     "text": [
      "Model: \"sequential_1\"\n",
      "_________________________________________________________________\n",
      "Layer (type)                 Output Shape              Param #   \n",
      "=================================================================\n",
      "conv2d (Conv2D)              (None, 126, 126, 32)      320       \n",
      "_________________________________________________________________\n",
      "max_pooling2d (MaxPooling2D) (None, 63, 63, 32)        0         \n",
      "_________________________________________________________________\n",
      "conv2d_1 (Conv2D)            (None, 61, 61, 64)        18496     \n",
      "_________________________________________________________________\n",
      "max_pooling2d_1 (MaxPooling2 (None, 30, 30, 64)        0         \n",
      "_________________________________________________________________\n",
      "conv2d_2 (Conv2D)            (None, 28, 28, 128)       73856     \n",
      "_________________________________________________________________\n",
      "max_pooling2d_2 (MaxPooling2 (None, 14, 14, 128)       0         \n",
      "_________________________________________________________________\n",
      "flatten (Flatten)            (None, 25088)             0         \n",
      "_________________________________________________________________\n",
      "dense_2 (Dense)              (None, 512)               12845568  \n",
      "_________________________________________________________________\n",
      "dense_3 (Dense)              (None, 1)                 513       \n",
      "=================================================================\n",
      "Total params: 12,938,753\n",
      "Trainable params: 12,938,753\n",
      "Non-trainable params: 0\n",
      "_________________________________________________________________\n"
     ]
    }
   ],
   "source": [
    "model.summary()"
   ]
  },
  {
   "cell_type": "code",
   "execution_count": 28,
   "metadata": {},
   "outputs": [],
   "source": [
    "model.compile(loss='binary_crossentropy',\n",
    "              optimizer=optimizers.RMSprop(lr=1e-4),\n",
    "              metrics=['accuracy'])"
   ]
  },
  {
   "cell_type": "code",
   "execution_count": 29,
   "metadata": {
    "scrolled": true
   },
   "outputs": [
    {
     "name": "stdout",
     "output_type": "stream",
     "text": [
      "Epoch 1/40\n",
      "82/82 [==============================] - 64s 786ms/step - loss: 0.4072 - accuracy: 0.8278 - val_loss: 0.5145 - val_accuracy: 0.6875\n",
      "Epoch 2/40\n",
      "82/82 [==============================] - 65s 794ms/step - loss: 0.1962 - accuracy: 0.9279 - val_loss: 0.4202 - val_accuracy: 0.7500\n",
      "Epoch 3/40\n",
      "82/82 [==============================] - 68s 832ms/step - loss: 0.1395 - accuracy: 0.9500 - val_loss: 0.7045 - val_accuracy: 0.6875\n",
      "Epoch 4/40\n",
      "82/82 [==============================] - 66s 800ms/step - loss: 0.1176 - accuracy: 0.9571 - val_loss: 0.3931 - val_accuracy: 0.7500\n",
      "Epoch 5/40\n",
      "82/82 [==============================] - 65s 795ms/step - loss: 0.1028 - accuracy: 0.9603 - val_loss: 0.5691 - val_accuracy: 0.6875\n",
      "Epoch 6/40\n",
      "82/82 [==============================] - 65s 790ms/step - loss: 0.0932 - accuracy: 0.9651 - val_loss: 0.2731 - val_accuracy: 0.9375\n",
      "Epoch 7/40\n",
      "82/82 [==============================] - 65s 791ms/step - loss: 0.0842 - accuracy: 0.9672 - val_loss: 0.4172 - val_accuracy: 0.7500\n",
      "Epoch 8/40\n",
      "82/82 [==============================] - 65s 793ms/step - loss: 0.0817 - accuracy: 0.9668 - val_loss: 0.1865 - val_accuracy: 0.9375\n",
      "Epoch 9/40\n",
      "82/82 [==============================] - 65s 790ms/step - loss: 0.0713 - accuracy: 0.9724 - val_loss: 1.7017 - val_accuracy: 0.5625\n",
      "Epoch 10/40\n",
      "82/82 [==============================] - 65s 792ms/step - loss: 0.0677 - accuracy: 0.9762 - val_loss: 0.3806 - val_accuracy: 0.8125\n",
      "Epoch 11/40\n",
      "82/82 [==============================] - 65s 789ms/step - loss: 0.0676 - accuracy: 0.9735 - val_loss: 0.4262 - val_accuracy: 0.8125\n",
      "Epoch 12/40\n",
      "82/82 [==============================] - 65s 793ms/step - loss: 0.0587 - accuracy: 0.9780 - val_loss: 0.5364 - val_accuracy: 0.6875\n",
      "Epoch 13/40\n",
      "82/82 [==============================] - 65s 787ms/step - loss: 0.0539 - accuracy: 0.9801 - val_loss: 0.2930 - val_accuracy: 0.8750\n",
      "Epoch 14/40\n",
      "82/82 [==============================] - 1042s 13s/step - loss: 0.0538 - accuracy: 0.9780 - val_loss: 0.5517 - val_accuracy: 0.7500\n",
      "Epoch 15/40\n",
      "82/82 [==============================] - 68s 833ms/step - loss: 0.0506 - accuracy: 0.9808 - val_loss: 1.0618 - val_accuracy: 0.6875\n",
      "Epoch 16/40\n",
      "82/82 [==============================] - 65s 794ms/step - loss: 0.0446 - accuracy: 0.9845 - val_loss: 0.4196 - val_accuracy: 0.7500\n",
      "Epoch 17/40\n",
      "82/82 [==============================] - 65s 796ms/step - loss: 0.0446 - accuracy: 0.9854 - val_loss: 0.3107 - val_accuracy: 0.8750\n",
      "Epoch 18/40\n",
      "82/82 [==============================] - 65s 793ms/step - loss: 0.0419 - accuracy: 0.9833 - val_loss: 0.2735 - val_accuracy: 0.8750\n",
      "Epoch 19/40\n",
      "82/82 [==============================] - 65s 798ms/step - loss: 0.0426 - accuracy: 0.9829 - val_loss: 0.2597 - val_accuracy: 0.8750\n",
      "Epoch 20/40\n",
      "82/82 [==============================] - 68s 828ms/step - loss: 0.0368 - accuracy: 0.9873 - val_loss: 0.1706 - val_accuracy: 0.9375\n",
      "Epoch 21/40\n",
      "82/82 [==============================] - 66s 805ms/step - loss: 0.0352 - accuracy: 0.9877 - val_loss: 0.4184 - val_accuracy: 0.8125\n",
      "Epoch 22/40\n",
      "82/82 [==============================] - 65s 797ms/step - loss: 0.0305 - accuracy: 0.9889 - val_loss: 0.5977 - val_accuracy: 0.6875\n",
      "Epoch 23/40\n",
      "82/82 [==============================] - 65s 791ms/step - loss: 0.0296 - accuracy: 0.9896 - val_loss: 0.4279 - val_accuracy: 0.8125\n",
      "Epoch 24/40\n",
      "82/82 [==============================] - 338s 4s/step - loss: 0.0294 - accuracy: 0.9889 - val_loss: 0.1453 - val_accuracy: 0.9375\n",
      "Epoch 25/40\n",
      "82/82 [==============================] - 139s 2s/step - loss: 0.0276 - accuracy: 0.9900 - val_loss: 0.3026 - val_accuracy: 0.8750\n",
      "Epoch 26/40\n",
      "82/82 [==============================] - 65s 788ms/step - loss: 0.0258 - accuracy: 0.9912 - val_loss: 0.1355 - val_accuracy: 0.9375\n",
      "Epoch 27/40\n",
      "82/82 [==============================] - 65s 796ms/step - loss: 0.0258 - accuracy: 0.9910 - val_loss: 0.7853 - val_accuracy: 0.6875\n",
      "Epoch 28/40\n",
      "82/82 [==============================] - 65s 788ms/step - loss: 0.0234 - accuracy: 0.9921 - val_loss: 0.7168 - val_accuracy: 0.7500\n",
      "Epoch 29/40\n",
      "82/82 [==============================] - 65s 791ms/step - loss: 0.0206 - accuracy: 0.9919 - val_loss: 0.5298 - val_accuracy: 0.8125\n",
      "Epoch 30/40\n",
      "82/82 [==============================] - 65s 796ms/step - loss: 0.0208 - accuracy: 0.9929 - val_loss: 0.4177 - val_accuracy: 0.8125\n",
      "Epoch 31/40\n",
      "82/82 [==============================] - 65s 788ms/step - loss: 0.0173 - accuracy: 0.9941 - val_loss: 0.2392 - val_accuracy: 0.9375\n",
      "Epoch 32/40\n",
      "82/82 [==============================] - 64s 785ms/step - loss: 0.0164 - accuracy: 0.9941 - val_loss: 1.8655 - val_accuracy: 0.5625\n",
      "Epoch 33/40\n",
      "82/82 [==============================] - 65s 792ms/step - loss: 0.0165 - accuracy: 0.9925 - val_loss: 0.0830 - val_accuracy: 0.9375\n",
      "Epoch 34/40\n",
      "82/82 [==============================] - 65s 787ms/step - loss: 0.0126 - accuracy: 0.9958 - val_loss: 0.4439 - val_accuracy: 0.8125\n",
      "Epoch 35/40\n",
      "82/82 [==============================] - 65s 797ms/step - loss: 0.0132 - accuracy: 0.9944 - val_loss: 0.4658 - val_accuracy: 0.8125\n",
      "Epoch 36/40\n",
      "82/82 [==============================] - 65s 790ms/step - loss: 0.0126 - accuracy: 0.9956 - val_loss: 0.6225 - val_accuracy: 0.6875\n",
      "Epoch 37/40\n",
      "82/82 [==============================] - 65s 796ms/step - loss: 0.0112 - accuracy: 0.9964 - val_loss: 0.3421 - val_accuracy: 0.8125\n",
      "Epoch 38/40\n",
      "82/82 [==============================] - 65s 789ms/step - loss: 0.0105 - accuracy: 0.9962 - val_loss: 0.1662 - val_accuracy: 0.8750\n",
      "Epoch 39/40\n",
      "82/82 [==============================] - 65s 795ms/step - loss: 0.0092 - accuracy: 0.9973 - val_loss: 0.1796 - val_accuracy: 0.9375\n",
      "Epoch 40/40\n",
      "82/82 [==============================] - 65s 793ms/step - loss: 0.0081 - accuracy: 0.9973 - val_loss: 0.0870 - val_accuracy: 0.9375\n"
     ]
    }
   ],
   "source": [
    "history_cnn = model.fit(train_generator, \n",
    "                    epochs = 40, \n",
    "                    validation_data=val_generator)"
   ]
  },
  {
   "cell_type": "markdown",
   "metadata": {},
   "source": [
    "### Results"
   ]
  },
  {
   "cell_type": "code",
   "execution_count": 30,
   "metadata": {
    "scrolled": false
   },
   "outputs": [
    {
     "data": {
      "image/png": "[encoded data removed]",
      "text/plain": [
       "<Figure size 432x288 with 1 Axes>"
      ]
     },
     "metadata": {},
     "output_type": "display_data"
    },
    {
     "data": {
      "image/png": "[encoded data removed]",
      "text/plain": [
       "<Figure size 432x288 with 1 Axes>"
      ]
     },
     "metadata": {},
     "output_type": "display_data"
    }
   ],
   "source": [
    "model_graphs(history_cnn)"
   ]
  },
  {
   "cell_type": "code",
   "execution_count": 31,
   "metadata": {},
   "outputs": [],
   "source": [
    "model.save('Chest_X-ray_cnn.h5')"
   ]
  },
  {
   "cell_type": "markdown",
   "metadata": {},
   "source": [
    "## CNN Weighted"
   ]
  },
  {
   "cell_type": "markdown",
   "metadata": {},
   "source": [
    "### Class Imbalance"
   ]
  },
  {
   "cell_type": "markdown",
   "metadata": {},
   "source": [
    ">Quick EDAs to see the severity of class imbalance"
   ]
  },
  {
   "cell_type": "code",
   "execution_count": 32,
   "metadata": {},
   "outputs": [],
   "source": [
    "import warnings\n",
    "warnings.filterwarnings(\"ignore\")"
   ]
  },
  {
   "cell_type": "code",
   "execution_count": 33,
   "metadata": {},
   "outputs": [
    {
     "data": {
      "text/plain": [
       "{'NORMAL': 0, 'PNEUMONIA': 1}"
      ]
     },
     "execution_count": 33,
     "metadata": {},
     "output_type": "execute_result"
    }
   ],
   "source": [
    "train_generator.class_indices"
   ]
  },
  {
   "cell_type": "code",
   "execution_count": 34,
   "metadata": {},
   "outputs": [],
   "source": [
    "def imbalance_graphs(data_list):\n",
    "    \n",
    "    empty = []\n",
    "    \n",
    "    for i in data_list:\n",
    "        if(i[1] == 0):\n",
    "            empty.append(\"NORMAL\")\n",
    "        else:\n",
    "            empty.append(\"PNEUMONIA\")\n",
    "    sns.countplot(empty);     "
   ]
  },
  {
   "cell_type": "code",
   "execution_count": 35,
   "metadata": {
    "scrolled": true
   },
   "outputs": [
    {
     "data": {
      "image/png": "[encoded data removed]",
      "text/plain": [
       "<Figure size 432x288 with 1 Axes>"
      ]
     },
     "metadata": {},
     "output_type": "display_data"
    }
   ],
   "source": [
    "imbalance_graphs(train_labels)"
   ]
  },
  {
   "cell_type": "code",
   "execution_count": 36,
   "metadata": {},
   "outputs": [
    {
     "data": {
      "image/png": "[encoded data removed]",
      "text/plain": [
       "<Figure size 432x288 with 1 Axes>"
      ]
     },
     "metadata": {},
     "output_type": "display_data"
    }
   ],
   "source": [
    "imbalance_graphs(test_labels)"
   ]
  },
  {
   "cell_type": "code",
   "execution_count": 37,
   "metadata": {
    "scrolled": true
   },
   "outputs": [
    {
     "data": {
      "image/png": "[encoded data removed]",
      "text/plain": [
       "<Figure size 432x288 with 1 Axes>"
      ]
     },
     "metadata": {},
     "output_type": "display_data"
    }
   ],
   "source": [
    "imbalance_graphs(val_labels)"
   ]
  },
  {
   "cell_type": "markdown",
   "metadata": {},
   "source": [
    "### Model"
   ]
  },
  {
   "cell_type": "code",
   "execution_count": 38,
   "metadata": {},
   "outputs": [],
   "source": [
    "model = models.Sequential()\n",
    "\n",
    "model.add(layers.Conv2D(32, (3, 3), activation='relu',\n",
    "                        input_shape=(128, 128, 1)))\n",
    "model.add(layers.MaxPooling2D((2, 2)))\n",
    "model.add(layers.Conv2D(64, (3, 3), activation='relu'))\n",
    "model.add(layers.MaxPooling2D((2, 2)))\n",
    "model.add(layers.Conv2D(128, (3, 3), activation='relu'))\n",
    "model.add(layers.MaxPooling2D((2, 2)))\n",
    "model.add(layers.Flatten())\n",
    "model.add(layers.Dense(512, activation='relu'))\n",
    "model.add(layers.Dense(1, activation='sigmoid'))"
   ]
  },
  {
   "cell_type": "code",
   "execution_count": 39,
   "metadata": {},
   "outputs": [
    {
     "name": "stdout",
     "output_type": "stream",
     "text": [
      "Model: \"sequential_2\"\n",
      "_________________________________________________________________\n",
      "Layer (type)                 Output Shape              Param #   \n",
      "=================================================================\n",
      "conv2d_3 (Conv2D)            (None, 126, 126, 32)      320       \n",
      "_________________________________________________________________\n",
      "max_pooling2d_3 (MaxPooling2 (None, 63, 63, 32)        0         \n",
      "_________________________________________________________________\n",
      "conv2d_4 (Conv2D)            (None, 61, 61, 64)        18496     \n",
      "_________________________________________________________________\n",
      "max_pooling2d_4 (MaxPooling2 (None, 30, 30, 64)        0         \n",
      "_________________________________________________________________\n",
      "conv2d_5 (Conv2D)            (None, 28, 28, 128)       73856     \n",
      "_________________________________________________________________\n",
      "max_pooling2d_5 (MaxPooling2 (None, 14, 14, 128)       0         \n",
      "_________________________________________________________________\n",
      "flatten_1 (Flatten)          (None, 25088)             0         \n",
      "_________________________________________________________________\n",
      "dense_4 (Dense)              (None, 512)               12845568  \n",
      "_________________________________________________________________\n",
      "dense_5 (Dense)              (None, 1)                 513       \n",
      "=================================================================\n",
      "Total params: 12,938,753\n",
      "Trainable params: 12,938,753\n",
      "Non-trainable params: 0\n",
      "_________________________________________________________________\n"
     ]
    }
   ],
   "source": [
    "model.summary()"
   ]
  },
  {
   "cell_type": "code",
   "execution_count": 40,
   "metadata": {},
   "outputs": [],
   "source": [
    "model.compile(loss='binary_crossentropy',\n",
    "              optimizer=optimizers.RMSprop(lr=1e-4),\n",
    "              metrics=['accuracy'])"
   ]
  },
  {
   "cell_type": "code",
   "execution_count": 41,
   "metadata": {
    "scrolled": true
   },
   "outputs": [
    {
     "name": "stdout",
     "output_type": "stream",
     "text": [
      "Epoch 1/40\n",
      "82/82 [==============================] - 65s 797ms/step - loss: 0.7283 - accuracy: 0.7431 - val_loss: 0.5136 - val_accuracy: 0.7500\n",
      "Epoch 2/40\n",
      "82/82 [==============================] - 66s 800ms/step - loss: 0.3647 - accuracy: 0.9091 - val_loss: 0.3295 - val_accuracy: 0.8750\n",
      "Epoch 3/40\n",
      "82/82 [==============================] - 66s 804ms/step - loss: 0.2464 - accuracy: 0.9379 - val_loss: 0.3412 - val_accuracy: 0.8125\n",
      "Epoch 4/40\n",
      "82/82 [==============================] - 65s 795ms/step - loss: 0.1930 - accuracy: 0.9475 - val_loss: 0.3552 - val_accuracy: 0.8125\n",
      "Epoch 5/40\n",
      "82/82 [==============================] - 65s 793ms/step - loss: 0.1743 - accuracy: 0.9528 - val_loss: 0.1783 - val_accuracy: 0.8750\n",
      "Epoch 6/40\n",
      "82/82 [==============================] - 67s 816ms/step - loss: 0.1501 - accuracy: 0.9611 - val_loss: 0.4148 - val_accuracy: 0.6875\n",
      "Epoch 7/40\n",
      "82/82 [==============================] - 65s 797ms/step - loss: 0.1361 - accuracy: 0.9647 - val_loss: 0.3425 - val_accuracy: 0.8750\n",
      "Epoch 8/40\n",
      "82/82 [==============================] - 65s 795ms/step - loss: 0.1270 - accuracy: 0.9678 - val_loss: 0.3013 - val_accuracy: 0.8125\n",
      "Epoch 9/40\n",
      "82/82 [==============================] - 66s 799ms/step - loss: 0.1142 - accuracy: 0.9703 - val_loss: 0.1656 - val_accuracy: 0.9375\n",
      "Epoch 10/40\n",
      "82/82 [==============================] - 2319s 28s/step - loss: 0.1082 - accuracy: 0.9718 - val_loss: 0.1350 - val_accuracy: 0.9375\n",
      "Epoch 11/40\n",
      "82/82 [==============================] - 158s 2s/step - loss: 0.0979 - accuracy: 0.9758 - val_loss: 0.0630 - val_accuracy: 1.0000\n",
      "Epoch 12/40\n",
      "82/82 [==============================] - 200s 2s/step - loss: 0.0925 - accuracy: 0.9762 - val_loss: 0.2053 - val_accuracy: 0.9375\n",
      "Epoch 13/40\n",
      "82/82 [==============================] - 67s 823ms/step - loss: 0.0867 - accuracy: 0.9772 - val_loss: 0.1520 - val_accuracy: 0.9375\n",
      "Epoch 14/40\n",
      "82/82 [==============================] - 65s 796ms/step - loss: 0.0796 - accuracy: 0.9814 - val_loss: 0.1240 - val_accuracy: 0.9375\n",
      "Epoch 15/40\n",
      "82/82 [==============================] - 65s 792ms/step - loss: 0.0743 - accuracy: 0.9822 - val_loss: 0.0452 - val_accuracy: 1.0000\n",
      "Epoch 16/40\n",
      "82/82 [==============================] - 65s 795ms/step - loss: 0.0711 - accuracy: 0.9797 - val_loss: 0.0844 - val_accuracy: 0.9375\n",
      "Epoch 17/40\n",
      "82/82 [==============================] - 65s 794ms/step - loss: 0.0651 - accuracy: 0.9831 - val_loss: 0.3395 - val_accuracy: 0.8750\n",
      "Epoch 18/40\n",
      "82/82 [==============================] - 65s 796ms/step - loss: 0.0628 - accuracy: 0.9843 - val_loss: 0.0343 - val_accuracy: 1.0000\n",
      "Epoch 19/40\n",
      "82/82 [==============================] - 67s 819ms/step - loss: 0.0629 - accuracy: 0.9826 - val_loss: 0.1152 - val_accuracy: 0.9375\n",
      "Epoch 20/40\n",
      "82/82 [==============================] - 67s 812ms/step - loss: 0.0546 - accuracy: 0.9849 - val_loss: 0.0879 - val_accuracy: 0.9375\n",
      "Epoch 21/40\n",
      "82/82 [==============================] - 66s 807ms/step - loss: 0.0550 - accuracy: 0.9860 - val_loss: 0.1273 - val_accuracy: 0.9375\n",
      "Epoch 22/40\n",
      "82/82 [==============================] - 66s 804ms/step - loss: 0.0490 - accuracy: 0.9870 - val_loss: 0.1898 - val_accuracy: 0.8750\n",
      "Epoch 23/40\n",
      "82/82 [==============================] - 67s 813ms/step - loss: 0.0471 - accuracy: 0.9864 - val_loss: 0.0506 - val_accuracy: 1.0000\n",
      "Epoch 24/40\n",
      "82/82 [==============================] - 66s 807ms/step - loss: 0.0501 - accuracy: 0.9877 - val_loss: 0.0408 - val_accuracy: 1.0000\n",
      "Epoch 25/40\n",
      "82/82 [==============================] - 66s 805ms/step - loss: 0.0401 - accuracy: 0.9900 - val_loss: 0.0503 - val_accuracy: 1.0000\n",
      "Epoch 26/40\n",
      "82/82 [==============================] - 66s 807ms/step - loss: 0.0391 - accuracy: 0.9904 - val_loss: 0.3119 - val_accuracy: 0.8125\n",
      "Epoch 27/40\n",
      "82/82 [==============================] - 66s 808ms/step - loss: 0.0362 - accuracy: 0.9895 - val_loss: 0.1598 - val_accuracy: 0.9375\n",
      "Epoch 28/40\n",
      "82/82 [==============================] - 66s 805ms/step - loss: 0.0308 - accuracy: 0.9923 - val_loss: 0.1082 - val_accuracy: 0.9375\n",
      "Epoch 29/40\n",
      "82/82 [==============================] - 111s 1s/step - loss: 0.0289 - accuracy: 0.9937 - val_loss: 0.2966 - val_accuracy: 0.8750\n",
      "Epoch 30/40\n",
      "82/82 [==============================] - 75s 918ms/step - loss: 0.0268 - accuracy: 0.9931 - val_loss: 0.1350 - val_accuracy: 0.9375\n",
      "Epoch 31/40\n",
      "82/82 [==============================] - 65s 791ms/step - loss: 0.0291 - accuracy: 0.9927 - val_loss: 0.4230 - val_accuracy: 0.7500\n",
      "Epoch 32/40\n",
      "82/82 [==============================] - 65s 798ms/step - loss: 0.0220 - accuracy: 0.9941 - val_loss: 0.0202 - val_accuracy: 1.0000\n",
      "Epoch 33/40\n",
      "82/82 [==============================] - 65s 793ms/step - loss: 0.0226 - accuracy: 0.9946 - val_loss: 0.2401 - val_accuracy: 0.8750\n",
      "Epoch 34/40\n",
      "82/82 [==============================] - 65s 794ms/step - loss: 0.0219 - accuracy: 0.9941 - val_loss: 0.1594 - val_accuracy: 0.9375\n",
      "Epoch 35/40\n",
      "82/82 [==============================] - 65s 797ms/step - loss: 0.0199 - accuracy: 0.9960 - val_loss: 0.3634 - val_accuracy: 0.7500\n",
      "Epoch 36/40\n",
      "82/82 [==============================] - 65s 795ms/step - loss: 0.0144 - accuracy: 0.9969 - val_loss: 0.3419 - val_accuracy: 0.8125\n",
      "Epoch 37/40\n",
      "82/82 [==============================] - 65s 794ms/step - loss: 0.0195 - accuracy: 0.9954 - val_loss: 0.2430 - val_accuracy: 0.8125\n",
      "Epoch 38/40\n",
      "82/82 [==============================] - 65s 792ms/step - loss: 0.0132 - accuracy: 0.9971 - val_loss: 0.1623 - val_accuracy: 0.8750\n",
      "Epoch 39/40\n",
      "82/82 [==============================] - 65s 793ms/step - loss: 0.0132 - accuracy: 0.9971 - val_loss: 0.4677 - val_accuracy: 0.8750\n",
      "Epoch 40/40\n",
      "82/82 [==============================] - 123s 1s/step - loss: 0.0124 - accuracy: 0.9971 - val_loss: 0.1124 - val_accuracy: 0.9375\n"
     ]
    }
   ],
   "source": [
    "history_cnn_w = model.fit(train_generator, \n",
    "                    epochs = 40,\n",
    "                    class_weight = {0: 3., 1: 1.},\n",
    "                    validation_data=val_generator)"
   ]
  },
  {
   "cell_type": "markdown",
   "metadata": {},
   "source": [
    "### Results"
   ]
  },
  {
   "cell_type": "code",
   "execution_count": 42,
   "metadata": {},
   "outputs": [
    {
     "data": {
      "image/png": "[encoded data removed]",
      "text/plain": [
       "<Figure size 432x288 with 1 Axes>"
      ]
     },
     "metadata": {},
     "output_type": "display_data"
    },
    {
     "data": {
      "image/png": "[encoded data removed]",
      "text/plain": [
       "<Figure size 432x288 with 1 Axes>"
      ]
     },
     "metadata": {},
     "output_type": "display_data"
    }
   ],
   "source": [
    "model_graphs(history_cnn_w)"
   ]
  },
  {
   "cell_type": "code",
   "execution_count": 43,
   "metadata": {},
   "outputs": [],
   "source": [
    "model.save('Chest_X-ray_weighted_cnn.h5')"
   ]
  },
  {
   "cell_type": "markdown",
   "metadata": {},
   "source": [
    "## CNN Final Model"
   ]
  },
  {
   "cell_type": "markdown",
   "metadata": {},
   "source": [
    "### GridSearch"
   ]
  },
  {
   "cell_type": "code",
   "execution_count": 60,
   "metadata": {},
   "outputs": [],
   "source": [
    "# function for displaying grid search results if we \n",
    "# wanted to do it on other models we could just use this\n",
    "def display_cv_results(search_results):\n",
    "    print('Best score = {:.4f} using {}'.format(search_results.best_score_, search_results.best_params_))\n",
    "    means = search_results.cv_results_['mean_test_score']\n",
    "    stds = search_results.cv_results_['std_test_score']\n",
    "    params = search_results.cv_results_['params']\n",
    "    for mean, stdev, param in zip(means, stds, params):\n",
    "        print('mean test accuracy +/- std = {:.4f} +/- {:.4f} with: {}'.format(mean, stdev, param))"
   ]
  },
  {
   "cell_type": "code",
   "execution_count": 54,
   "metadata": {},
   "outputs": [
    {
     "name": "stdout",
     "output_type": "stream",
     "text": [
      "Model: \"sequential_5\"\n",
      "_________________________________________________________________\n",
      "Layer (type)                 Output Shape              Param #   \n",
      "=================================================================\n",
      "conv2d_12 (Conv2D)           (None, 126, 126, 32)      320       \n",
      "_________________________________________________________________\n",
      "max_pooling2d_12 (MaxPooling (None, 63, 63, 32)        0         \n",
      "_________________________________________________________________\n",
      "conv2d_13 (Conv2D)           (None, 61, 61, 64)        18496     \n",
      "_________________________________________________________________\n",
      "max_pooling2d_13 (MaxPooling (None, 30, 30, 64)        0         \n",
      "_________________________________________________________________\n",
      "conv2d_14 (Conv2D)           (None, 28, 28, 128)       73856     \n",
      "_________________________________________________________________\n",
      "max_pooling2d_14 (MaxPooling (None, 14, 14, 128)       0         \n",
      "_________________________________________________________________\n",
      "flatten_4 (Flatten)          (None, 25088)             0         \n",
      "_________________________________________________________________\n",
      "dense_10 (Dense)             (None, 512)               12845568  \n",
      "_________________________________________________________________\n",
      "dense_11 (Dense)             (None, 1)                 513       \n",
      "=================================================================\n",
      "Total params: 12,938,753\n",
      "Trainable params: 12,938,753\n",
      "Non-trainable params: 0\n",
      "_________________________________________________________________\n"
     ]
    }
   ],
   "source": [
    "#function for an easy to use cnn model to create for grid search \n",
    "def cnn_model(pool_type='max', conv_activation='sigmoid', dropout_rate=0.10):\n",
    "    model = models.Sequential()\n",
    "\n",
    "    model.add(layers.Conv2D(32, (3, 3), activation='relu',\n",
    "                            input_shape=(128, 128, 1)))\n",
    "    model.add(layers.MaxPooling2D((2, 2)))\n",
    "    model.add(layers.Conv2D(64, (3, 3), activation='relu'))\n",
    "    model.add(layers.MaxPooling2D((2, 2)))\n",
    "    model.add(layers.Conv2D(128, (3, 3), activation='relu'))\n",
    "    model.add(layers.MaxPooling2D((2, 2)))\n",
    "    model.add(layers.Flatten())\n",
    "    model.add(layers.Dense(512, activation='relu'))\n",
    "    model.add(layers.Dense(1, activation='sigmoid'))\n",
    "    model.compile(loss='binary_crossentropy',\n",
    "              optimizer=optimizers.RMSprop(lr=1e-4),\n",
    "              metrics=['accuracy'])\n",
    "    return (model)\n",
    "#makes cnn equal to the model \n",
    "cnn = cnn_model()\n",
    "cnn.summary()"
   ]
  },
  {
   "cell_type": "code",
   "execution_count": 55,
   "metadata": {},
   "outputs": [],
   "source": [
    "#makes our model from the funtion \n",
    "model = KerasClassifier(build_fn=cnn_model, verbose=1)"
   ]
  },
  {
   "cell_type": "code",
   "execution_count": 69,
   "metadata": {},
   "outputs": [],
   "source": [
    "#peramters for grid search of or model to go through \n",
    "#these can al;l be changed and modified depending \n",
    "param_grid = {\n",
    "    'pool_type': ['max', 'average'],\n",
    "    'conv_activation': ['sigmoid', 'tanh'],    \n",
    "    'epochs': [10 , 7],\n",
    "}"
   ]
  },
  {
   "cell_type": "code",
   "execution_count": 70,
   "metadata": {},
   "outputs": [
    {
     "name": "stdout",
     "output_type": "stream",
     "text": [
      "Epoch 1/10\n",
      "2/2 [==============================] - 0s 140ms/step - loss: 0.7250 - accuracy: 0.6406\n",
      "Epoch 2/10\n",
      "2/2 [==============================] - 0s 150ms/step - loss: 0.7088 - accuracy: 0.6562\n",
      "Epoch 3/10\n",
      "2/2 [==============================] - 0s 149ms/step - loss: 0.6639 - accuracy: 0.7500\n",
      "Epoch 4/10\n",
      "2/2 [==============================] - 0s 152ms/step - loss: 0.6299 - accuracy: 0.6406\n",
      "Epoch 5/10\n",
      "2/2 [==============================] - 0s 154ms/step - loss: 0.6217 - accuracy: 0.7031\n",
      "Epoch 6/10\n",
      "2/2 [==============================] - 0s 150ms/step - loss: 0.6102 - accuracy: 0.6406\n",
      "Epoch 7/10\n",
      "2/2 [==============================] - 0s 154ms/step - loss: 0.7028 - accuracy: 0.3906\n",
      "Epoch 8/10\n",
      "2/2 [==============================] - 0s 153ms/step - loss: 0.5876 - accuracy: 0.6406\n",
      "Epoch 9/10\n",
      "2/2 [==============================] - 0s 156ms/step - loss: 0.5563 - accuracy: 0.6719\n",
      "Epoch 10/10\n",
      "2/2 [==============================] - 0s 157ms/step - loss: 0.5263 - accuracy: 0.6875\n"
     ]
    }
   ],
   "source": [
    "#i dont know why it only does 2 steps per epoch \n",
    "#does the grid search for our model \n",
    "grid = GridSearchCV(estimator=model, param_grid=param_grid, n_jobs=-1, cv=3)\n",
    "grid_result = grid.fit(X_train, y_train)"
   ]
  },
  {
   "cell_type": "code",
   "execution_count": 71,
   "metadata": {},
   "outputs": [
    {
     "name": "stdout",
     "output_type": "stream",
     "text": [
      "Best score = 0.7951 using {'conv_activation': 'sigmoid', 'epochs': 10, 'pool_type': 'max'}\n",
      "mean test accuracy +/- std = 0.7951 +/- 0.1582 with: {'conv_activation': 'sigmoid', 'epochs': 10, 'pool_type': 'max'}\n",
      "mean test accuracy +/- std = 0.7338 +/- 0.1199 with: {'conv_activation': 'sigmoid', 'epochs': 10, 'pool_type': 'average'}\n",
      "mean test accuracy +/- std = 0.7944 +/- 0.1626 with: {'conv_activation': 'sigmoid', 'epochs': 7, 'pool_type': 'max'}\n",
      "mean test accuracy +/- std = 0.7042 +/- 0.0517 with: {'conv_activation': 'sigmoid', 'epochs': 7, 'pool_type': 'average'}\n",
      "mean test accuracy +/- std = 0.6407 +/- 0.0584 with: {'conv_activation': 'tanh', 'epochs': 10, 'pool_type': 'max'}\n",
      "mean test accuracy +/- std = 0.7468 +/- 0.1581 with: {'conv_activation': 'tanh', 'epochs': 10, 'pool_type': 'average'}\n",
      "mean test accuracy +/- std = 0.5758 +/- 0.1220 with: {'conv_activation': 'tanh', 'epochs': 7, 'pool_type': 'max'}\n",
      "mean test accuracy +/- std = 0.6407 +/- 0.0584 with: {'conv_activation': 'tanh', 'epochs': 7, 'pool_type': 'average'}\n"
     ]
    }
   ],
   "source": [
    "#displays the best peramets found by the grid seach \n",
    "display_cv_results(grid_result)"
   ]
  },
  {
   "cell_type": "markdown",
   "metadata": {},
   "source": [
    "### Model"
   ]
  },
  {
   "cell_type": "code",
   "execution_count": null,
   "metadata": {},
   "outputs": [],
   "source": []
  },
  {
   "cell_type": "markdown",
   "metadata": {},
   "source": [
    "### Results"
   ]
  },
  {
   "cell_type": "code",
   "execution_count": null,
   "metadata": {},
   "outputs": [],
   "source": []
  },
  {
   "cell_type": "markdown",
   "metadata": {},
   "source": [
    "## Conclusion "
   ]
  },
  {
   "cell_type": "markdown",
   "metadata": {
    "heading_collapsed": true
   },
   "source": [
    "## Play Testing"
   ]
  },
  {
   "cell_type": "markdown",
   "metadata": {
    "heading_collapsed": true,
    "hidden": true
   },
   "source": [
    "#### *Augmentation Generator Dataset (Unused)"
   ]
  },
  {
   "cell_type": "markdown",
   "metadata": {
    "hidden": true
   },
   "source": [
    "Both the train set and test has a severe class imbalance so we will need to preform some data augmentation to create more normal images to match the number of pneumonia images. Whereas the validation set is equal so it will not need any adjustment."
   ]
  },
  {
   "cell_type": "code",
   "execution_count": 41,
   "metadata": {
    "hidden": true
   },
   "outputs": [],
   "source": [
    "# train_aug_gen = ImageDataGenerator(rescale=1./255, \n",
    "#                                    rotation_range=30, \n",
    "#                                    width_shift_range=0.3, \n",
    "#                                    height_shift_range=0.2, \n",
    "#                                    zoom_range=0.2, \n",
    "#                                    vertical_flip=True)"
   ]
  },
  {
   "cell_type": "code",
   "execution_count": 42,
   "metadata": {
    "hidden": true
   },
   "outputs": [],
   "source": [
    "# test_aug_gen = ImageDataGenerator(rescale=1./255, \n",
    "#                                    rotation_range=30, \n",
    "#                                    width_shift_range=0.3, \n",
    "#                                    height_shift_range=0.2,  \n",
    "#                                    zoom_range=0.2, \n",
    "#                                    vertical_flip=True)"
   ]
  },
  {
   "cell_type": "code",
   "execution_count": 43,
   "metadata": {
    "hidden": true,
    "scrolled": true
   },
   "outputs": [],
   "source": [
    "# #Get all the data in each generator and reshaping the images\n",
    "# train_generator = train_aug_gen.flow_from_directory(\n",
    "#         train_data_dir, \n",
    "#         target_size=(128, 128), \n",
    "#         color_mode = 'grayscale', \n",
    "#         batch_size=500)\n",
    "\n",
    "# test_generator = test_aug_gen.flow_from_directory(\n",
    "#         test_data_dir, \n",
    "#         target_size=(128, 128), \n",
    "#         color_mode = 'grayscale', \n",
    "#         batch_size=6)\n",
    "\n",
    "# val_generator = ImageDataGenerator(rescale = 1./255).flow_from_directory(\n",
    "#         val_data_dir, \n",
    "#         target_size=(128, 128), \n",
    "#         color_mode = 'grayscale',\n",
    "#         batch_size=4)"
   ]
  },
  {
   "cell_type": "code",
   "execution_count": 44,
   "metadata": {
    "hidden": true
   },
   "outputs": [],
   "source": [
    "# train_images, train_labels = next(train_generator)\n",
    "# test_images, test_labels = next(test_generator)\n",
    "# val_images, val_labels = next(val_generator)"
   ]
  },
  {
   "cell_type": "code",
   "execution_count": 45,
   "metadata": {
    "hidden": true
   },
   "outputs": [],
   "source": [
    "# imbalance_graphs(train_labels)"
   ]
  },
  {
   "cell_type": "code",
   "execution_count": 46,
   "metadata": {
    "hidden": true
   },
   "outputs": [],
   "source": [
    "# imbalance_graphs(test_labels)"
   ]
  },
  {
   "cell_type": "markdown",
   "metadata": {
    "heading_collapsed": true,
    "hidden": true
   },
   "source": [
    "#### Model"
   ]
  },
  {
   "cell_type": "code",
   "execution_count": 47,
   "metadata": {
    "hidden": true
   },
   "outputs": [],
   "source": [
    "# model = models.Sequential()\n",
    "# model.add(layers.Conv2D(32, (3, 3), activation='relu',\n",
    "#                         input_shape=(128, 128,  1)))\n",
    "# model.add(layers.MaxPooling2D((2, 2)))\n",
    "\n",
    "# model.add(layers.Conv2D(32, (4, 4), activation='relu'))\n",
    "# model.add(layers.MaxPooling2D((2, 2)))\n",
    "\n",
    "# model.add(layers.Conv2D(64, (3, 3), activation='relu'))\n",
    "# model.add(layers.MaxPooling2D((2, 2)))\n",
    "\n",
    "# model.add(layers.Flatten())\n",
    "# model.add(layers.Dense(64, activation='relu'))\n",
    "# model.add(layers.Dense(1, activation='sigmoid'))\n",
    "\n",
    "# model.compile(loss='binary_crossentropy',\n",
    "#               optimizer= 'sgd',\n",
    "#               metrics=['accuracy'])"
   ]
  },
  {
   "cell_type": "code",
   "execution_count": 48,
   "metadata": {
    "hidden": true,
    "scrolled": false
   },
   "outputs": [],
   "source": [
    "# model.summary()"
   ]
  },
  {
   "cell_type": "code",
   "execution_count": 49,
   "metadata": {
    "hidden": true,
    "scrolled": true
   },
   "outputs": [],
   "source": [
    "# history_da = model.fit(test_generator,\n",
    "#                     epochs= 50, \n",
    "#                     class_weight = {0: 2., 1: 1.},\n",
    "#                     validation_data=val_generator) "
   ]
  },
  {
   "cell_type": "markdown",
   "metadata": {
    "heading_collapsed": true,
    "hidden": true
   },
   "source": [
    "#### Results"
   ]
  },
  {
   "cell_type": "code",
   "execution_count": 50,
   "metadata": {
    "hidden": true,
    "scrolled": true
   },
   "outputs": [],
   "source": [
    "# model_results(X_train, y_train, X_test, y_test)"
   ]
  },
  {
   "cell_type": "code",
   "execution_count": 51,
   "metadata": {
    "hidden": true
   },
   "outputs": [],
   "source": [
    "# model_graphs(history_da)"
   ]
  }
 ],
 "metadata": {
  "kernelspec": {
   "display_name": "Python 3",
   "language": "python",
   "name": "python3"
  },
  "language_info": {
   "codemirror_mode": {
    "name": "ipython",
    "version": 3
   },
   "file_extension": ".py",
   "mimetype": "text/x-python",
   "name": "python",
   "nbconvert_exporter": "python",
   "pygments_lexer": "ipython3",
   "version": "3.8.5"
  },
  "toc": {
   "base_numbering": 1,
   "nav_menu": {},
   "number_sections": true,
   "sideBar": true,
   "skip_h1_title": false,
   "title_cell": "Table of Contents",
   "title_sidebar": "Contents",
   "toc_cell": false,
   "toc_position": {
    "height": "calc(100% - 180px)",
    "left": "10px",
    "top": "150px",
    "width": "318px"
   },
   "toc_section_display": true,
   "toc_window_display": true
  }
 },
 "nbformat": 4,
 "nbformat_minor": 4
}
